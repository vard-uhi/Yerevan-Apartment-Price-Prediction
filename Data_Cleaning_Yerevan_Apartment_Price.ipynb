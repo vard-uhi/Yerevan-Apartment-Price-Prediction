{
  "nbformat": 4,
  "nbformat_minor": 0,
  "metadata": {
    "colab": {
      "name": "Data_Cleaning_Yerevan_Apartment_Price.ipynb",
      "provenance": [],
      "authorship_tag": "ABX9TyNnr+HyhIwIoWIlYlbforn6",
      "include_colab_link": true
    },
    "kernelspec": {
      "name": "python3",
      "display_name": "Python 3"
    }
  },
  "cells": [
    {
      "cell_type": "markdown",
      "metadata": {
        "id": "view-in-github",
        "colab_type": "text"
      },
      "source": [
        "<a href=\"https://colab.research.google.com/github/vard-uhi/Yerevan-Apartment-Price-Prediction/blob/master/Data_Cleaning_Yerevan_Apartment_Price.ipynb\" target=\"_parent\"><img src=\"https://colab.research.google.com/assets/colab-badge.svg\" alt=\"Open In Colab\"/></a>"
      ]
    },
    {
      "cell_type": "markdown",
      "metadata": {
        "id": "cEoQh1nwRPZM",
        "colab_type": "text"
      },
      "source": [
        "**Data Cleaning**\n",
        "\n"
      ]
    },
    {
      "cell_type": "code",
      "metadata": {
        "id": "bR5pBVDTRBNI",
        "colab_type": "code",
        "colab": {}
      },
      "source": [
        "#data manipulation, transformation\n",
        "import pandas as pd "
      ],
      "execution_count": 1,
      "outputs": []
    },
    {
      "cell_type": "code",
      "metadata": {
        "id": "JkMUwEisR4hV",
        "colab_type": "code",
        "colab": {
          "resources": {
            "http://localhost:8080/nbextensions/google.colab/files.js": {
              "data": "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",
              "ok": true,
              "headers": [
                [
                  "content-type",
                  "application/javascript"
                ]
              ],
              "status": 200,
              "status_text": ""
            }
          },
          "base_uri": "https://localhost:8080/",
          "height": 72
        },
        "outputId": "e65e3d08-5956-4021-bbaf-111e53f87cf1"
      },
      "source": [
        "#load the data\n",
        "from google.colab import files\n",
        "data_to_load = files.upload()"
      ],
      "execution_count": 2,
      "outputs": [
        {
          "output_type": "display_data",
          "data": {
            "text/html": [
              "\n",
              "     <input type=\"file\" id=\"files-e3a37d0e-4006-4e1b-8a3e-e03848df1c6c\" name=\"files[]\" multiple disabled\n",
              "        style=\"border:none\" />\n",
              "     <output id=\"result-e3a37d0e-4006-4e1b-8a3e-e03848df1c6c\">\n",
              "      Upload widget is only available when the cell has been executed in the\n",
              "      current browser session. Please rerun this cell to enable.\n",
              "      </output>\n",
              "      <script src=\"/nbextensions/google.colab/files.js\"></script> "
            ],
            "text/plain": [
              "<IPython.core.display.HTML object>"
            ]
          },
          "metadata": {
            "tags": []
          }
        },
        {
          "output_type": "stream",
          "text": [
            "Saving Yerevan_apartment_primary_data.csv to Yerevan_apartment_primary_data.csv\n"
          ],
          "name": "stdout"
        }
      ]
    },
    {
      "cell_type": "code",
      "metadata": {
        "id": "ojDU0La6SHJx",
        "colab_type": "code",
        "colab": {}
      },
      "source": [
        "import io\n",
        "# .read_csv() assigns the information from the initial *.csv file to this variable\n",
        "raw_data = pd.read_csv(io.BytesIO(data_to_load['Yerevan_apartment_primary_data.csv']))"
      ],
      "execution_count": 3,
      "outputs": []
    },
    {
      "cell_type": "code",
      "metadata": {
        "id": "ZvvcJkcESRmJ",
        "colab_type": "code",
        "colab": {}
      },
      "source": [
        "df = raw_data.copy()"
      ],
      "execution_count": 4,
      "outputs": []
    },
    {
      "cell_type": "markdown",
      "metadata": {
        "id": "81VvqZzvSn8X",
        "colab_type": "text"
      },
      "source": [
        "***Checking the content of the dataset***"
      ]
    },
    {
      "cell_type": "code",
      "metadata": {
        "id": "JgU5yoAM4fU4",
        "colab_type": "code",
        "colab": {
          "base_uri": "https://localhost:8080/",
          "height": 204
        },
        "outputId": "db1e642f-72b5-4bf8-884c-f49d9986e11a"
      },
      "source": [
        "df.head()"
      ],
      "execution_count": 5,
      "outputs": [
        {
          "output_type": "execute_result",
          "data": {
            "text/html": [
              "<div>\n",
              "<style scoped>\n",
              "    .dataframe tbody tr th:only-of-type {\n",
              "        vertical-align: middle;\n",
              "    }\n",
              "\n",
              "    .dataframe tbody tr th {\n",
              "        vertical-align: top;\n",
              "    }\n",
              "\n",
              "    .dataframe thead th {\n",
              "        text-align: right;\n",
              "    }\n",
              "</style>\n",
              "<table border=\"1\" class=\"dataframe\">\n",
              "  <thead>\n",
              "    <tr style=\"text-align: right;\">\n",
              "      <th></th>\n",
              "      <th>title</th>\n",
              "      <th>price</th>\n",
              "      <th>currency</th>\n",
              "      <th>total_area</th>\n",
              "      <th>room_count</th>\n",
              "      <th>flour</th>\n",
              "      <th>condition</th>\n",
              "      <th>building_type</th>\n",
              "      <th>balcony_type</th>\n",
              "    </tr>\n",
              "  </thead>\n",
              "  <tbody>\n",
              "    <tr>\n",
              "      <th>0</th>\n",
              "      <td>For sale Apartment on Artsakh in Erebuni</td>\n",
              "      <td>52,000</td>\n",
              "      <td>USD</td>\n",
              "      <td>66 m2</td>\n",
              "      <td>Count of rooms 2</td>\n",
              "      <td>Floor 4</td>\n",
              "      <td>repair</td>\n",
              "      <td>['type', 'High-rise']</td>\n",
              "      <td>Large</td>\n",
              "    </tr>\n",
              "    <tr>\n",
              "      <th>1</th>\n",
              "      <td>For sale Apartment on Jrashat in Downtown</td>\n",
              "      <td>130,000</td>\n",
              "      <td>USD</td>\n",
              "      <td>90 m2</td>\n",
              "      <td>Count of rooms 3</td>\n",
              "      <td>Floor 2</td>\n",
              "      <td>repair</td>\n",
              "      <td>['type', 'Stone']</td>\n",
              "      <td>Large</td>\n",
              "    </tr>\n",
              "    <tr>\n",
              "      <th>2</th>\n",
              "      <td>For sale Apartment on Y.Koghbatsi in Downtown</td>\n",
              "      <td>80,000</td>\n",
              "      <td>USD</td>\n",
              "      <td>42 m2</td>\n",
              "      <td>Count of rooms 1</td>\n",
              "      <td>Floor 3</td>\n",
              "      <td>Repairing</td>\n",
              "      <td>['type', 'High-rise']</td>\n",
              "      <td>Large</td>\n",
              "    </tr>\n",
              "    <tr>\n",
              "      <th>3</th>\n",
              "      <td>For sale Apartment on Khorenatsi in Downtown</td>\n",
              "      <td>55,000</td>\n",
              "      <td>USD</td>\n",
              "      <td>37 m2</td>\n",
              "      <td>Count of rooms 1</td>\n",
              "      <td>Floor 9</td>\n",
              "      <td>3-5y</td>\n",
              "      <td>['type', 'High-rise']</td>\n",
              "      <td>Lodgia</td>\n",
              "    </tr>\n",
              "    <tr>\n",
              "      <th>4</th>\n",
              "      <td>For sale Apartment on Lvovyan in Nor Nork</td>\n",
              "      <td>47,000</td>\n",
              "      <td>USD</td>\n",
              "      <td>63 m2</td>\n",
              "      <td>Count of rooms 2</td>\n",
              "      <td>Floor 8</td>\n",
              "      <td>repair</td>\n",
              "      <td>['type', 'High-rise']</td>\n",
              "      <td>Large</td>\n",
              "    </tr>\n",
              "  </tbody>\n",
              "</table>\n",
              "</div>"
            ],
            "text/plain": [
              "                                           title  ... balcony_type\n",
              "0       For sale Apartment on Artsakh in Erebuni  ...        Large\n",
              "1      For sale Apartment on Jrashat in Downtown  ...        Large\n",
              "2  For sale Apartment on Y.Koghbatsi in Downtown  ...        Large\n",
              "3   For sale Apartment on Khorenatsi in Downtown  ...       Lodgia\n",
              "4      For sale Apartment on Lvovyan in Nor Nork  ...        Large\n",
              "\n",
              "[5 rows x 9 columns]"
            ]
          },
          "metadata": {
            "tags": []
          },
          "execution_count": 5
        }
      ]
    },
    {
      "cell_type": "code",
      "metadata": {
        "id": "yd_NAV-cSlIG",
        "colab_type": "code",
        "colab": {
          "base_uri": "https://localhost:8080/",
          "height": 289
        },
        "outputId": "827d859b-e234-4fe5-a8a1-46a4744c1b98"
      },
      "source": [
        "df.info()"
      ],
      "execution_count": 6,
      "outputs": [
        {
          "output_type": "stream",
          "text": [
            "<class 'pandas.core.frame.DataFrame'>\n",
            "RangeIndex: 2069 entries, 0 to 2068\n",
            "Data columns (total 9 columns):\n",
            " #   Column         Non-Null Count  Dtype \n",
            "---  ------         --------------  ----- \n",
            " 0   title          2069 non-null   object\n",
            " 1   price          2069 non-null   object\n",
            " 2   currency       2069 non-null   object\n",
            " 3   total_area     2069 non-null   object\n",
            " 4   room_count     2069 non-null   object\n",
            " 5   flour          2069 non-null   object\n",
            " 6   condition      2069 non-null   object\n",
            " 7   building_type  2069 non-null   object\n",
            " 8   balcony_type   2069 non-null   object\n",
            "dtypes: object(9)\n",
            "memory usage: 145.6+ KB\n"
          ],
          "name": "stdout"
        }
      ]
    },
    {
      "cell_type": "markdown",
      "metadata": {
        "id": "5n69xF0HTJN-",
        "colab_type": "text"
      },
      "source": [
        "***Summary of the DataFrame***\n",
        "\n",
        "Our DataFrame consists of 9 columns and 2069 rows.\n",
        " \n",
        "We have numeric and categorical data. However in the dataframe, all features have object type. We need to convert them into appropriate data types.\n",
        " \n",
        "Columns contain additional info, that is why our next step will be to split columns and extract relevant data.\n",
        " \n",
        "WE don't have missing values.\n",
        "\n",
        "We see that 'flour' column name is misspelled, we will fix it at the end of this exercise.\n"
      ]
    },
    {
      "cell_type": "markdown",
      "metadata": {
        "id": "oc2ZrDclT7D9",
        "colab_type": "text"
      },
      "source": [
        "***Data Cleaning***"
      ]
    },
    {
      "cell_type": "markdown",
      "metadata": {
        "id": "NFyC3LqZUP6_",
        "colab_type": "text"
      },
      "source": [
        "***'title' column***\n",
        "\n",
        "As we saw from previou of data, 'title' contains 2 important information, street and district of the apartment. In order to avoid multicollinearity in a further analysis we will extract only 'District' information and will make data type as string."
      ]
    },
    {
      "cell_type": "code",
      "metadata": {
        "id": "Of9EQs-UTAU0",
        "colab_type": "code",
        "colab": {
          "base_uri": "https://localhost:8080/",
          "height": 34
        },
        "outputId": "56f23786-5c01-418d-dc87-7cea752e8f62"
      },
      "source": [
        "#checking data type of the first element\n",
        "type(df['title'][0])"
      ],
      "execution_count": 7,
      "outputs": [
        {
          "output_type": "execute_result",
          "data": {
            "text/plain": [
              "str"
            ]
          },
          "metadata": {
            "tags": []
          },
          "execution_count": 7
        }
      ]
    },
    {
      "cell_type": "code",
      "metadata": {
        "id": "j4Q-d1MpWswU",
        "colab_type": "code",
        "colab": {}
      },
      "source": [
        "#creating 'District' column from 'title'\n",
        "df['District'] = df['title'].str.split().str[-1]"
      ],
      "execution_count": 8,
      "outputs": []
    },
    {
      "cell_type": "code",
      "metadata": {
        "id": "gcuxrSWbZbLz",
        "colab_type": "code",
        "colab": {
          "base_uri": "https://localhost:8080/",
          "height": 514
        },
        "outputId": "7531ff26-c48b-4140-b483-5b495305747e"
      },
      "source": [
        "df.groupby(['District']).count()"
      ],
      "execution_count": 10,
      "outputs": [
        {
          "output_type": "execute_result",
          "data": {
            "text/html": [
              "<div>\n",
              "<style scoped>\n",
              "    .dataframe tbody tr th:only-of-type {\n",
              "        vertical-align: middle;\n",
              "    }\n",
              "\n",
              "    .dataframe tbody tr th {\n",
              "        vertical-align: top;\n",
              "    }\n",
              "\n",
              "    .dataframe thead th {\n",
              "        text-align: right;\n",
              "    }\n",
              "</style>\n",
              "<table border=\"1\" class=\"dataframe\">\n",
              "  <thead>\n",
              "    <tr style=\"text-align: right;\">\n",
              "      <th></th>\n",
              "      <th>title</th>\n",
              "      <th>price</th>\n",
              "      <th>currency</th>\n",
              "      <th>total_area</th>\n",
              "      <th>room_count</th>\n",
              "      <th>flour</th>\n",
              "      <th>condition</th>\n",
              "      <th>building_type</th>\n",
              "      <th>balcony_type</th>\n",
              "    </tr>\n",
              "    <tr>\n",
              "      <th>District</th>\n",
              "      <th></th>\n",
              "      <th></th>\n",
              "      <th></th>\n",
              "      <th></th>\n",
              "      <th></th>\n",
              "      <th></th>\n",
              "      <th></th>\n",
              "      <th></th>\n",
              "      <th></th>\n",
              "    </tr>\n",
              "  </thead>\n",
              "  <tbody>\n",
              "    <tr>\n",
              "      <th>Ajapnyak</th>\n",
              "      <td>83</td>\n",
              "      <td>83</td>\n",
              "      <td>83</td>\n",
              "      <td>83</td>\n",
              "      <td>83</td>\n",
              "      <td>83</td>\n",
              "      <td>83</td>\n",
              "      <td>83</td>\n",
              "      <td>83</td>\n",
              "    </tr>\n",
              "    <tr>\n",
              "      <th>Arabkir</th>\n",
              "      <td>675</td>\n",
              "      <td>675</td>\n",
              "      <td>675</td>\n",
              "      <td>675</td>\n",
              "      <td>675</td>\n",
              "      <td>675</td>\n",
              "      <td>675</td>\n",
              "      <td>675</td>\n",
              "      <td>675</td>\n",
              "    </tr>\n",
              "    <tr>\n",
              "      <th>Avan</th>\n",
              "      <td>21</td>\n",
              "      <td>21</td>\n",
              "      <td>21</td>\n",
              "      <td>21</td>\n",
              "      <td>21</td>\n",
              "      <td>21</td>\n",
              "      <td>21</td>\n",
              "      <td>21</td>\n",
              "      <td>21</td>\n",
              "    </tr>\n",
              "    <tr>\n",
              "      <th>Davtashen</th>\n",
              "      <td>80</td>\n",
              "      <td>80</td>\n",
              "      <td>80</td>\n",
              "      <td>80</td>\n",
              "      <td>80</td>\n",
              "      <td>80</td>\n",
              "      <td>80</td>\n",
              "      <td>80</td>\n",
              "      <td>80</td>\n",
              "    </tr>\n",
              "    <tr>\n",
              "      <th>Downtown</th>\n",
              "      <td>735</td>\n",
              "      <td>735</td>\n",
              "      <td>735</td>\n",
              "      <td>735</td>\n",
              "      <td>735</td>\n",
              "      <td>735</td>\n",
              "      <td>735</td>\n",
              "      <td>735</td>\n",
              "      <td>735</td>\n",
              "    </tr>\n",
              "    <tr>\n",
              "      <th>Erebuni</th>\n",
              "      <td>27</td>\n",
              "      <td>27</td>\n",
              "      <td>27</td>\n",
              "      <td>27</td>\n",
              "      <td>27</td>\n",
              "      <td>27</td>\n",
              "      <td>27</td>\n",
              "      <td>27</td>\n",
              "      <td>27</td>\n",
              "    </tr>\n",
              "    <tr>\n",
              "      <th>Kanaker-Zeitun</th>\n",
              "      <td>199</td>\n",
              "      <td>199</td>\n",
              "      <td>199</td>\n",
              "      <td>199</td>\n",
              "      <td>199</td>\n",
              "      <td>199</td>\n",
              "      <td>199</td>\n",
              "      <td>199</td>\n",
              "      <td>199</td>\n",
              "    </tr>\n",
              "    <tr>\n",
              "      <th>Malatia-Sebastia</th>\n",
              "      <td>42</td>\n",
              "      <td>42</td>\n",
              "      <td>42</td>\n",
              "      <td>42</td>\n",
              "      <td>42</td>\n",
              "      <td>42</td>\n",
              "      <td>42</td>\n",
              "      <td>42</td>\n",
              "      <td>42</td>\n",
              "    </tr>\n",
              "    <tr>\n",
              "      <th>Nork</th>\n",
              "      <td>106</td>\n",
              "      <td>106</td>\n",
              "      <td>106</td>\n",
              "      <td>106</td>\n",
              "      <td>106</td>\n",
              "      <td>106</td>\n",
              "      <td>106</td>\n",
              "      <td>106</td>\n",
              "      <td>106</td>\n",
              "    </tr>\n",
              "    <tr>\n",
              "      <th>Nork-Marash</th>\n",
              "      <td>17</td>\n",
              "      <td>17</td>\n",
              "      <td>17</td>\n",
              "      <td>17</td>\n",
              "      <td>17</td>\n",
              "      <td>17</td>\n",
              "      <td>17</td>\n",
              "      <td>17</td>\n",
              "      <td>17</td>\n",
              "    </tr>\n",
              "    <tr>\n",
              "      <th>Nubarashen</th>\n",
              "      <td>1</td>\n",
              "      <td>1</td>\n",
              "      <td>1</td>\n",
              "      <td>1</td>\n",
              "      <td>1</td>\n",
              "      <td>1</td>\n",
              "      <td>1</td>\n",
              "      <td>1</td>\n",
              "      <td>1</td>\n",
              "    </tr>\n",
              "    <tr>\n",
              "      <th>Shengavit</th>\n",
              "      <td>61</td>\n",
              "      <td>61</td>\n",
              "      <td>61</td>\n",
              "      <td>61</td>\n",
              "      <td>61</td>\n",
              "      <td>61</td>\n",
              "      <td>61</td>\n",
              "      <td>61</td>\n",
              "      <td>61</td>\n",
              "    </tr>\n",
              "    <tr>\n",
              "      <th>in</th>\n",
              "      <td>1</td>\n",
              "      <td>1</td>\n",
              "      <td>1</td>\n",
              "      <td>1</td>\n",
              "      <td>1</td>\n",
              "      <td>1</td>\n",
              "      <td>1</td>\n",
              "      <td>1</td>\n",
              "      <td>1</td>\n",
              "    </tr>\n",
              "    <tr>\n",
              "      <th>region</th>\n",
              "      <td>21</td>\n",
              "      <td>21</td>\n",
              "      <td>21</td>\n",
              "      <td>21</td>\n",
              "      <td>21</td>\n",
              "      <td>21</td>\n",
              "      <td>21</td>\n",
              "      <td>21</td>\n",
              "      <td>21</td>\n",
              "    </tr>\n",
              "  </tbody>\n",
              "</table>\n",
              "</div>"
            ],
            "text/plain": [
              "                  title  price  ...  building_type  balcony_type\n",
              "District                        ...                             \n",
              "Ajapnyak             83     83  ...             83            83\n",
              "Arabkir             675    675  ...            675           675\n",
              "Avan                 21     21  ...             21            21\n",
              "Davtashen            80     80  ...             80            80\n",
              "Downtown            735    735  ...            735           735\n",
              "Erebuni              27     27  ...             27            27\n",
              "Kanaker-Zeitun      199    199  ...            199           199\n",
              "Malatia-Sebastia     42     42  ...             42            42\n",
              "Nork                106    106  ...            106           106\n",
              "Nork-Marash          17     17  ...             17            17\n",
              "Nubarashen            1      1  ...              1             1\n",
              "Shengavit            61     61  ...             61            61\n",
              "in                    1      1  ...              1             1\n",
              "region               21     21  ...             21            21\n",
              "\n",
              "[14 rows x 9 columns]"
            ]
          },
          "metadata": {
            "tags": []
          },
          "execution_count": 10
        }
      ]
    },
    {
      "cell_type": "code",
      "metadata": {
        "id": "17Hn_NjCbCR5",
        "colab_type": "code",
        "colab": {}
      },
      "source": [
        "pd.options.display.max_columns = None\n",
        "pd.options.display.max_rows = None"
      ],
      "execution_count": 13,
      "outputs": []
    },
    {
      "cell_type": "code",
      "metadata": {
        "id": "MY3Y2sxXbDge",
        "colab_type": "code",
        "colab": {}
      },
      "source": [
        "df.head(1000)"
      ],
      "execution_count": null,
      "outputs": []
    },
    {
      "cell_type": "code",
      "metadata": {
        "id": "GO2H8tte9MKp",
        "colab_type": "code",
        "colab": {
          "base_uri": "https://localhost:8080/",
          "height": 68
        },
        "outputId": "c7e68eb9-710e-4554-f893-0b94a9fa679f"
      },
      "source": [
        "df['District'].unique()"
      ],
      "execution_count": 11,
      "outputs": [
        {
          "output_type": "execute_result",
          "data": {
            "text/plain": [
              "array(['Erebuni', 'Downtown', 'Nork', 'Davtashen', 'Ajapnyak', 'Avan',\n",
              "       'Arabkir', 'Shengavit', 'Kanaker-Zeitun', 'Malatia-Sebastia',\n",
              "       'region', 'in', 'Nork-Marash', 'Nubarashen'], dtype=object)"
            ]
          },
          "metadata": {
            "tags": []
          },
          "execution_count": 11
        }
      ]
    },
    {
      "cell_type": "markdown",
      "metadata": {
        "id": "zqTFSd7oeHaX",
        "colab_type": "text"
      },
      "source": [
        "After exploring the dataset, I understood that 'in' unique value in 'District' is because our raw data also contains some data on apartments that are located in Regions of Armenia. We need to deal with it, to have only Yerevan apartments in our dataset."
      ]
    },
    {
      "cell_type": "code",
      "metadata": {
        "id": "QRg7RpVAcaWL",
        "colab_type": "code",
        "colab": {}
      },
      "source": [
        "indexNames = df[(df['District'] == 'region')].index"
      ],
      "execution_count": 15,
      "outputs": []
    },
    {
      "cell_type": "code",
      "metadata": {
        "id": "6bSoZvcTgRF4",
        "colab_type": "code",
        "colab": {}
      },
      "source": [
        "df.drop(indexNames, inplace=True)"
      ],
      "execution_count": 16,
      "outputs": []
    },
    {
      "cell_type": "code",
      "metadata": {
        "id": "ZoJl98GHe7FG",
        "colab_type": "code",
        "colab": {
          "base_uri": "https://localhost:8080/",
          "height": 68
        },
        "outputId": "64ac33dd-0943-47ad-d7d4-41024a403c83"
      },
      "source": [
        "df['District'].unique()"
      ],
      "execution_count": 17,
      "outputs": [
        {
          "output_type": "execute_result",
          "data": {
            "text/plain": [
              "array(['Erebuni', 'Downtown', 'Nork', 'Davtashen', 'Ajapnyak', 'Avan',\n",
              "       'Arabkir', 'Shengavit', 'Kanaker-Zeitun', 'Malatia-Sebastia', 'in',\n",
              "       'Nork-Marash', 'Nubarashen'], dtype=object)"
            ]
          },
          "metadata": {
            "tags": []
          },
          "execution_count": 17
        }
      ]
    },
    {
      "cell_type": "code",
      "metadata": {
        "id": "1v9gFnS1czFt",
        "colab_type": "code",
        "colab": {}
      },
      "source": [
        "indexNames2 = df[(df['District'] == 'in')].index"
      ],
      "execution_count": 18,
      "outputs": []
    },
    {
      "cell_type": "code",
      "metadata": {
        "id": "MxSyalPBhrCd",
        "colab_type": "code",
        "colab": {}
      },
      "source": [
        "df.drop(indexNames2 , inplace=True)"
      ],
      "execution_count": 19,
      "outputs": []
    },
    {
      "cell_type": "code",
      "metadata": {
        "id": "tyO1m2cLhwEA",
        "colab_type": "code",
        "colab": {
          "base_uri": "https://localhost:8080/",
          "height": 68
        },
        "outputId": "0952edc3-6694-4b5f-d1df-f830f26abb2e"
      },
      "source": [
        "df['District'].unique()"
      ],
      "execution_count": 20,
      "outputs": [
        {
          "output_type": "execute_result",
          "data": {
            "text/plain": [
              "array(['Erebuni', 'Downtown', 'Nork', 'Davtashen', 'Ajapnyak', 'Avan',\n",
              "       'Arabkir', 'Shengavit', 'Kanaker-Zeitun', 'Malatia-Sebastia',\n",
              "       'Nork-Marash', 'Nubarashen'], dtype=object)"
            ]
          },
          "metadata": {
            "tags": []
          },
          "execution_count": 20
        }
      ]
    },
    {
      "cell_type": "code",
      "metadata": {
        "id": "bHqY0ZWRih0M",
        "colab_type": "code",
        "colab": {
          "base_uri": "https://localhost:8080/",
          "height": 306
        },
        "outputId": "19fa9722-508e-4114-c5f4-0ccb80804743"
      },
      "source": [
        "df.info()"
      ],
      "execution_count": 21,
      "outputs": [
        {
          "output_type": "stream",
          "text": [
            "<class 'pandas.core.frame.DataFrame'>\n",
            "Int64Index: 2047 entries, 0 to 2068\n",
            "Data columns (total 10 columns):\n",
            " #   Column         Non-Null Count  Dtype \n",
            "---  ------         --------------  ----- \n",
            " 0   title          2047 non-null   object\n",
            " 1   price          2047 non-null   object\n",
            " 2   currency       2047 non-null   object\n",
            " 3   total_area     2047 non-null   object\n",
            " 4   room_count     2047 non-null   object\n",
            " 5   flour          2047 non-null   object\n",
            " 6   condition      2047 non-null   object\n",
            " 7   building_type  2047 non-null   object\n",
            " 8   balcony_type   2047 non-null   object\n",
            " 9   District       2047 non-null   object\n",
            "dtypes: object(10)\n",
            "memory usage: 175.9+ KB\n"
          ],
          "name": "stdout"
        }
      ]
    },
    {
      "cell_type": "code",
      "metadata": {
        "id": "pFUkIBlbh1oE",
        "colab_type": "code",
        "colab": {}
      },
      "source": [
        "df = df.reset_index(drop=True)"
      ],
      "execution_count": 22,
      "outputs": []
    },
    {
      "cell_type": "code",
      "metadata": {
        "id": "TmjiovHdiNiw",
        "colab_type": "code",
        "colab": {
          "base_uri": "https://localhost:8080/",
          "height": 306
        },
        "outputId": "99582227-0bb7-48ca-917f-dc369159eb5b"
      },
      "source": [
        "df.info()"
      ],
      "execution_count": 23,
      "outputs": [
        {
          "output_type": "stream",
          "text": [
            "<class 'pandas.core.frame.DataFrame'>\n",
            "RangeIndex: 2047 entries, 0 to 2046\n",
            "Data columns (total 10 columns):\n",
            " #   Column         Non-Null Count  Dtype \n",
            "---  ------         --------------  ----- \n",
            " 0   title          2047 non-null   object\n",
            " 1   price          2047 non-null   object\n",
            " 2   currency       2047 non-null   object\n",
            " 3   total_area     2047 non-null   object\n",
            " 4   room_count     2047 non-null   object\n",
            " 5   flour          2047 non-null   object\n",
            " 6   condition      2047 non-null   object\n",
            " 7   building_type  2047 non-null   object\n",
            " 8   balcony_type   2047 non-null   object\n",
            " 9   District       2047 non-null   object\n",
            "dtypes: object(10)\n",
            "memory usage: 160.0+ KB\n"
          ],
          "name": "stdout"
        }
      ]
    },
    {
      "cell_type": "code",
      "metadata": {
        "id": "3Xsx8I5THv3S",
        "colab_type": "code",
        "colab": {
          "base_uri": "https://localhost:8080/",
          "height": 34
        },
        "outputId": "1efaeeac-4369-4378-c4dc-c44dd666f66c"
      },
      "source": [
        "type(['District'][0])"
      ],
      "execution_count": 24,
      "outputs": [
        {
          "output_type": "execute_result",
          "data": {
            "text/plain": [
              "str"
            ]
          },
          "metadata": {
            "tags": []
          },
          "execution_count": 24
        }
      ]
    },
    {
      "cell_type": "markdown",
      "metadata": {
        "id": "iRj61gF-Y4Fo",
        "colab_type": "text"
      },
      "source": [
        "Splitting was successful, we can drop 'title' column."
      ]
    },
    {
      "cell_type": "code",
      "metadata": {
        "id": "6vauqHrlgugK",
        "colab_type": "code",
        "colab": {}
      },
      "source": [
        "df = df.drop(['title'], axis=1)"
      ],
      "execution_count": 25,
      "outputs": []
    },
    {
      "cell_type": "code",
      "metadata": {
        "id": "k8wyNqtuheyP",
        "colab_type": "code",
        "colab": {
          "base_uri": "https://localhost:8080/",
          "height": 204
        },
        "outputId": "398dfe77-2f54-413f-cbeb-8be333050cda"
      },
      "source": [
        "df.head()"
      ],
      "execution_count": 26,
      "outputs": [
        {
          "output_type": "execute_result",
          "data": {
            "text/html": [
              "<div>\n",
              "<style scoped>\n",
              "    .dataframe tbody tr th:only-of-type {\n",
              "        vertical-align: middle;\n",
              "    }\n",
              "\n",
              "    .dataframe tbody tr th {\n",
              "        vertical-align: top;\n",
              "    }\n",
              "\n",
              "    .dataframe thead th {\n",
              "        text-align: right;\n",
              "    }\n",
              "</style>\n",
              "<table border=\"1\" class=\"dataframe\">\n",
              "  <thead>\n",
              "    <tr style=\"text-align: right;\">\n",
              "      <th></th>\n",
              "      <th>price</th>\n",
              "      <th>currency</th>\n",
              "      <th>total_area</th>\n",
              "      <th>room_count</th>\n",
              "      <th>flour</th>\n",
              "      <th>condition</th>\n",
              "      <th>building_type</th>\n",
              "      <th>balcony_type</th>\n",
              "      <th>District</th>\n",
              "    </tr>\n",
              "  </thead>\n",
              "  <tbody>\n",
              "    <tr>\n",
              "      <th>0</th>\n",
              "      <td>52,000</td>\n",
              "      <td>USD</td>\n",
              "      <td>66 m2</td>\n",
              "      <td>Count of rooms 2</td>\n",
              "      <td>Floor 4</td>\n",
              "      <td>repair</td>\n",
              "      <td>['type', 'High-rise']</td>\n",
              "      <td>Large</td>\n",
              "      <td>Erebuni</td>\n",
              "    </tr>\n",
              "    <tr>\n",
              "      <th>1</th>\n",
              "      <td>130,000</td>\n",
              "      <td>USD</td>\n",
              "      <td>90 m2</td>\n",
              "      <td>Count of rooms 3</td>\n",
              "      <td>Floor 2</td>\n",
              "      <td>repair</td>\n",
              "      <td>['type', 'Stone']</td>\n",
              "      <td>Large</td>\n",
              "      <td>Downtown</td>\n",
              "    </tr>\n",
              "    <tr>\n",
              "      <th>2</th>\n",
              "      <td>80,000</td>\n",
              "      <td>USD</td>\n",
              "      <td>42 m2</td>\n",
              "      <td>Count of rooms 1</td>\n",
              "      <td>Floor 3</td>\n",
              "      <td>Repairing</td>\n",
              "      <td>['type', 'High-rise']</td>\n",
              "      <td>Large</td>\n",
              "      <td>Downtown</td>\n",
              "    </tr>\n",
              "    <tr>\n",
              "      <th>3</th>\n",
              "      <td>55,000</td>\n",
              "      <td>USD</td>\n",
              "      <td>37 m2</td>\n",
              "      <td>Count of rooms 1</td>\n",
              "      <td>Floor 9</td>\n",
              "      <td>3-5y</td>\n",
              "      <td>['type', 'High-rise']</td>\n",
              "      <td>Lodgia</td>\n",
              "      <td>Downtown</td>\n",
              "    </tr>\n",
              "    <tr>\n",
              "      <th>4</th>\n",
              "      <td>47,000</td>\n",
              "      <td>USD</td>\n",
              "      <td>63 m2</td>\n",
              "      <td>Count of rooms 2</td>\n",
              "      <td>Floor 8</td>\n",
              "      <td>repair</td>\n",
              "      <td>['type', 'High-rise']</td>\n",
              "      <td>Large</td>\n",
              "      <td>Nork</td>\n",
              "    </tr>\n",
              "  </tbody>\n",
              "</table>\n",
              "</div>"
            ],
            "text/plain": [
              "     price currency total_area        room_count    flour  condition  \\\n",
              "0   52,000      USD      66 m2  Count of rooms 2  Floor 4     repair   \n",
              "1  130,000      USD      90 m2  Count of rooms 3  Floor 2     repair   \n",
              "2   80,000      USD      42 m2  Count of rooms 1  Floor 3  Repairing   \n",
              "3   55,000      USD      37 m2  Count of rooms 1  Floor 9       3-5y   \n",
              "4   47,000      USD      63 m2  Count of rooms 2  Floor 8     repair   \n",
              "\n",
              "           building_type balcony_type  District  \n",
              "0  ['type', 'High-rise']        Large   Erebuni  \n",
              "1      ['type', 'Stone']        Large  Downtown  \n",
              "2  ['type', 'High-rise']        Large  Downtown  \n",
              "3  ['type', 'High-rise']       Lodgia  Downtown  \n",
              "4  ['type', 'High-rise']        Large      Nork  "
            ]
          },
          "metadata": {
            "tags": []
          },
          "execution_count": 26
        }
      ]
    },
    {
      "cell_type": "markdown",
      "metadata": {
        "id": "2MLe1Zuzhy8R",
        "colab_type": "text"
      },
      "source": [
        "***'price' column***"
      ]
    },
    {
      "cell_type": "code",
      "metadata": {
        "id": "GprEbA7NpPe2",
        "colab_type": "code",
        "colab": {}
      },
      "source": [
        " #gerring rid of ','\n",
        " df['Price'] = df['price'].astype(str).str.replace(',', '', regex=False)"
      ],
      "execution_count": 27,
      "outputs": []
    },
    {
      "cell_type": "code",
      "metadata": {
        "id": "a7hDRdqSqxYJ",
        "colab_type": "code",
        "colab": {
          "base_uri": "https://localhost:8080/",
          "height": 34
        },
        "outputId": "08dc5230-6174-4093-bc5c-a5d0c5365e96"
      },
      "source": [
        "type(df['Price'][0])"
      ],
      "execution_count": 28,
      "outputs": [
        {
          "output_type": "execute_result",
          "data": {
            "text/plain": [
              "str"
            ]
          },
          "metadata": {
            "tags": []
          },
          "execution_count": 28
        }
      ]
    },
    {
      "cell_type": "code",
      "metadata": {
        "id": "2d_8mGEnqzY2",
        "colab_type": "code",
        "colab": {}
      },
      "source": [
        "df['Price'] = pd.to_numeric(df['Price'])"
      ],
      "execution_count": 29,
      "outputs": []
    },
    {
      "cell_type": "code",
      "metadata": {
        "id": "CFsbetyYq30I",
        "colab_type": "code",
        "colab": {
          "base_uri": "https://localhost:8080/",
          "height": 34
        },
        "outputId": "16b252a7-f072-406a-a5e4-108ff93e1130"
      },
      "source": [
        "type(df['Price'][0])"
      ],
      "execution_count": 30,
      "outputs": [
        {
          "output_type": "execute_result",
          "data": {
            "text/plain": [
              "numpy.int64"
            ]
          },
          "metadata": {
            "tags": []
          },
          "execution_count": 30
        }
      ]
    },
    {
      "cell_type": "code",
      "metadata": {
        "id": "aNRzG1VQITjM",
        "colab_type": "code",
        "colab": {}
      },
      "source": [
        "df = df.drop(['price'], axis=1)"
      ],
      "execution_count": 31,
      "outputs": []
    },
    {
      "cell_type": "code",
      "metadata": {
        "id": "uprEe95zq57L",
        "colab_type": "code",
        "colab": {
          "base_uri": "https://localhost:8080/",
          "height": 204
        },
        "outputId": "19cce0cd-5fd1-40f7-9b4d-04797fe28bd5"
      },
      "source": [
        "df.head()"
      ],
      "execution_count": 32,
      "outputs": [
        {
          "output_type": "execute_result",
          "data": {
            "text/html": [
              "<div>\n",
              "<style scoped>\n",
              "    .dataframe tbody tr th:only-of-type {\n",
              "        vertical-align: middle;\n",
              "    }\n",
              "\n",
              "    .dataframe tbody tr th {\n",
              "        vertical-align: top;\n",
              "    }\n",
              "\n",
              "    .dataframe thead th {\n",
              "        text-align: right;\n",
              "    }\n",
              "</style>\n",
              "<table border=\"1\" class=\"dataframe\">\n",
              "  <thead>\n",
              "    <tr style=\"text-align: right;\">\n",
              "      <th></th>\n",
              "      <th>currency</th>\n",
              "      <th>total_area</th>\n",
              "      <th>room_count</th>\n",
              "      <th>flour</th>\n",
              "      <th>condition</th>\n",
              "      <th>building_type</th>\n",
              "      <th>balcony_type</th>\n",
              "      <th>District</th>\n",
              "      <th>Price</th>\n",
              "    </tr>\n",
              "  </thead>\n",
              "  <tbody>\n",
              "    <tr>\n",
              "      <th>0</th>\n",
              "      <td>USD</td>\n",
              "      <td>66 m2</td>\n",
              "      <td>Count of rooms 2</td>\n",
              "      <td>Floor 4</td>\n",
              "      <td>repair</td>\n",
              "      <td>['type', 'High-rise']</td>\n",
              "      <td>Large</td>\n",
              "      <td>Erebuni</td>\n",
              "      <td>52000</td>\n",
              "    </tr>\n",
              "    <tr>\n",
              "      <th>1</th>\n",
              "      <td>USD</td>\n",
              "      <td>90 m2</td>\n",
              "      <td>Count of rooms 3</td>\n",
              "      <td>Floor 2</td>\n",
              "      <td>repair</td>\n",
              "      <td>['type', 'Stone']</td>\n",
              "      <td>Large</td>\n",
              "      <td>Downtown</td>\n",
              "      <td>130000</td>\n",
              "    </tr>\n",
              "    <tr>\n",
              "      <th>2</th>\n",
              "      <td>USD</td>\n",
              "      <td>42 m2</td>\n",
              "      <td>Count of rooms 1</td>\n",
              "      <td>Floor 3</td>\n",
              "      <td>Repairing</td>\n",
              "      <td>['type', 'High-rise']</td>\n",
              "      <td>Large</td>\n",
              "      <td>Downtown</td>\n",
              "      <td>80000</td>\n",
              "    </tr>\n",
              "    <tr>\n",
              "      <th>3</th>\n",
              "      <td>USD</td>\n",
              "      <td>37 m2</td>\n",
              "      <td>Count of rooms 1</td>\n",
              "      <td>Floor 9</td>\n",
              "      <td>3-5y</td>\n",
              "      <td>['type', 'High-rise']</td>\n",
              "      <td>Lodgia</td>\n",
              "      <td>Downtown</td>\n",
              "      <td>55000</td>\n",
              "    </tr>\n",
              "    <tr>\n",
              "      <th>4</th>\n",
              "      <td>USD</td>\n",
              "      <td>63 m2</td>\n",
              "      <td>Count of rooms 2</td>\n",
              "      <td>Floor 8</td>\n",
              "      <td>repair</td>\n",
              "      <td>['type', 'High-rise']</td>\n",
              "      <td>Large</td>\n",
              "      <td>Nork</td>\n",
              "      <td>47000</td>\n",
              "    </tr>\n",
              "  </tbody>\n",
              "</table>\n",
              "</div>"
            ],
            "text/plain": [
              "  currency total_area        room_count    flour  condition  \\\n",
              "0      USD      66 m2  Count of rooms 2  Floor 4     repair   \n",
              "1      USD      90 m2  Count of rooms 3  Floor 2     repair   \n",
              "2      USD      42 m2  Count of rooms 1  Floor 3  Repairing   \n",
              "3      USD      37 m2  Count of rooms 1  Floor 9       3-5y   \n",
              "4      USD      63 m2  Count of rooms 2  Floor 8     repair   \n",
              "\n",
              "           building_type balcony_type  District   Price  \n",
              "0  ['type', 'High-rise']        Large   Erebuni   52000  \n",
              "1      ['type', 'Stone']        Large  Downtown  130000  \n",
              "2  ['type', 'High-rise']        Large  Downtown   80000  \n",
              "3  ['type', 'High-rise']       Lodgia  Downtown   55000  \n",
              "4  ['type', 'High-rise']        Large      Nork   47000  "
            ]
          },
          "metadata": {
            "tags": []
          },
          "execution_count": 32
        }
      ]
    },
    {
      "cell_type": "markdown",
      "metadata": {
        "id": "eszfji8x3ZBX",
        "colab_type": "text"
      },
      "source": [
        "***'currency' column***"
      ]
    },
    {
      "cell_type": "code",
      "metadata": {
        "id": "JMjbWqjohnqx",
        "colab_type": "code",
        "colab": {
          "base_uri": "https://localhost:8080/",
          "height": 34
        },
        "outputId": "b155c20f-8c65-4718-eab4-a5dd7ee1893c"
      },
      "source": [
        "df['currency'].nunique()"
      ],
      "execution_count": 33,
      "outputs": [
        {
          "output_type": "execute_result",
          "data": {
            "text/plain": [
              "1"
            ]
          },
          "metadata": {
            "tags": []
          },
          "execution_count": 33
        }
      ]
    },
    {
      "cell_type": "markdown",
      "metadata": {
        "id": "Rdr39yJsiB4W",
        "colab_type": "text"
      },
      "source": [
        "As we see, currency has only one value USD. Henc, we can drop it."
      ]
    },
    {
      "cell_type": "code",
      "metadata": {
        "id": "IOTpdxsShvqx",
        "colab_type": "code",
        "colab": {}
      },
      "source": [
        "#drop\n",
        "df = df.drop(['currency'], axis=1)"
      ],
      "execution_count": 34,
      "outputs": []
    },
    {
      "cell_type": "markdown",
      "metadata": {
        "id": "Di0U_6klif0h",
        "colab_type": "text"
      },
      "source": [
        "***'total_area'*** column"
      ]
    },
    {
      "cell_type": "code",
      "metadata": {
        "id": "2EVeOxIBiezQ",
        "colab_type": "code",
        "colab": {
          "base_uri": "https://localhost:8080/",
          "height": 34
        },
        "outputId": "abd74d39-f26f-4e0a-c55d-a5ad358a39c8"
      },
      "source": [
        "type(df['total_area'][0])"
      ],
      "execution_count": 35,
      "outputs": [
        {
          "output_type": "execute_result",
          "data": {
            "text/plain": [
              "str"
            ]
          },
          "metadata": {
            "tags": []
          },
          "execution_count": 35
        }
      ]
    },
    {
      "cell_type": "code",
      "metadata": {
        "id": "eDoweeCsioCJ",
        "colab_type": "code",
        "colab": {}
      },
      "source": [
        "df['Total Area(m2)'] = df['total_area'].str.split().str[0]"
      ],
      "execution_count": 36,
      "outputs": []
    },
    {
      "cell_type": "code",
      "metadata": {
        "id": "D1vj1V_uin7q",
        "colab_type": "code",
        "colab": {
          "base_uri": "https://localhost:8080/",
          "height": 204
        },
        "outputId": "14b08b4a-9a3f-4ca1-82db-6be13ee84e64"
      },
      "source": [
        "df.head()"
      ],
      "execution_count": 37,
      "outputs": [
        {
          "output_type": "execute_result",
          "data": {
            "text/html": [
              "<div>\n",
              "<style scoped>\n",
              "    .dataframe tbody tr th:only-of-type {\n",
              "        vertical-align: middle;\n",
              "    }\n",
              "\n",
              "    .dataframe tbody tr th {\n",
              "        vertical-align: top;\n",
              "    }\n",
              "\n",
              "    .dataframe thead th {\n",
              "        text-align: right;\n",
              "    }\n",
              "</style>\n",
              "<table border=\"1\" class=\"dataframe\">\n",
              "  <thead>\n",
              "    <tr style=\"text-align: right;\">\n",
              "      <th></th>\n",
              "      <th>total_area</th>\n",
              "      <th>room_count</th>\n",
              "      <th>flour</th>\n",
              "      <th>condition</th>\n",
              "      <th>building_type</th>\n",
              "      <th>balcony_type</th>\n",
              "      <th>District</th>\n",
              "      <th>Price</th>\n",
              "      <th>Total Area(m2)</th>\n",
              "    </tr>\n",
              "  </thead>\n",
              "  <tbody>\n",
              "    <tr>\n",
              "      <th>0</th>\n",
              "      <td>66 m2</td>\n",
              "      <td>Count of rooms 2</td>\n",
              "      <td>Floor 4</td>\n",
              "      <td>repair</td>\n",
              "      <td>['type', 'High-rise']</td>\n",
              "      <td>Large</td>\n",
              "      <td>Erebuni</td>\n",
              "      <td>52000</td>\n",
              "      <td>66</td>\n",
              "    </tr>\n",
              "    <tr>\n",
              "      <th>1</th>\n",
              "      <td>90 m2</td>\n",
              "      <td>Count of rooms 3</td>\n",
              "      <td>Floor 2</td>\n",
              "      <td>repair</td>\n",
              "      <td>['type', 'Stone']</td>\n",
              "      <td>Large</td>\n",
              "      <td>Downtown</td>\n",
              "      <td>130000</td>\n",
              "      <td>90</td>\n",
              "    </tr>\n",
              "    <tr>\n",
              "      <th>2</th>\n",
              "      <td>42 m2</td>\n",
              "      <td>Count of rooms 1</td>\n",
              "      <td>Floor 3</td>\n",
              "      <td>Repairing</td>\n",
              "      <td>['type', 'High-rise']</td>\n",
              "      <td>Large</td>\n",
              "      <td>Downtown</td>\n",
              "      <td>80000</td>\n",
              "      <td>42</td>\n",
              "    </tr>\n",
              "    <tr>\n",
              "      <th>3</th>\n",
              "      <td>37 m2</td>\n",
              "      <td>Count of rooms 1</td>\n",
              "      <td>Floor 9</td>\n",
              "      <td>3-5y</td>\n",
              "      <td>['type', 'High-rise']</td>\n",
              "      <td>Lodgia</td>\n",
              "      <td>Downtown</td>\n",
              "      <td>55000</td>\n",
              "      <td>37</td>\n",
              "    </tr>\n",
              "    <tr>\n",
              "      <th>4</th>\n",
              "      <td>63 m2</td>\n",
              "      <td>Count of rooms 2</td>\n",
              "      <td>Floor 8</td>\n",
              "      <td>repair</td>\n",
              "      <td>['type', 'High-rise']</td>\n",
              "      <td>Large</td>\n",
              "      <td>Nork</td>\n",
              "      <td>47000</td>\n",
              "      <td>63</td>\n",
              "    </tr>\n",
              "  </tbody>\n",
              "</table>\n",
              "</div>"
            ],
            "text/plain": [
              "  total_area        room_count    flour  condition          building_type  \\\n",
              "0      66 m2  Count of rooms 2  Floor 4     repair  ['type', 'High-rise']   \n",
              "1      90 m2  Count of rooms 3  Floor 2     repair      ['type', 'Stone']   \n",
              "2      42 m2  Count of rooms 1  Floor 3  Repairing  ['type', 'High-rise']   \n",
              "3      37 m2  Count of rooms 1  Floor 9       3-5y  ['type', 'High-rise']   \n",
              "4      63 m2  Count of rooms 2  Floor 8     repair  ['type', 'High-rise']   \n",
              "\n",
              "  balcony_type  District   Price Total Area(m2)  \n",
              "0        Large   Erebuni   52000             66  \n",
              "1        Large  Downtown  130000             90  \n",
              "2        Large  Downtown   80000             42  \n",
              "3       Lodgia  Downtown   55000             37  \n",
              "4        Large      Nork   47000             63  "
            ]
          },
          "metadata": {
            "tags": []
          },
          "execution_count": 37
        }
      ]
    },
    {
      "cell_type": "code",
      "metadata": {
        "id": "5127hxPtin3U",
        "colab_type": "code",
        "colab": {
          "base_uri": "https://localhost:8080/",
          "height": 34
        },
        "outputId": "800ffe66-0807-4401-9056-3bfc2d54f468"
      },
      "source": [
        "type(df['Total Area(m2)'][0])"
      ],
      "execution_count": 38,
      "outputs": [
        {
          "output_type": "execute_result",
          "data": {
            "text/plain": [
              "str"
            ]
          },
          "metadata": {
            "tags": []
          },
          "execution_count": 38
        }
      ]
    },
    {
      "cell_type": "code",
      "metadata": {
        "id": "SAWkGIltpIuu",
        "colab_type": "code",
        "colab": {}
      },
      "source": [
        "#chanching data type to numeric\n",
        "df['Total Area(m2)'] = pd.to_numeric(df['Total Area(m2)'])"
      ],
      "execution_count": 39,
      "outputs": []
    },
    {
      "cell_type": "code",
      "metadata": {
        "id": "dtrf87f6inlX",
        "colab_type": "code",
        "colab": {
          "base_uri": "https://localhost:8080/",
          "height": 34
        },
        "outputId": "33b056b4-3ba8-45f0-89f5-daa5f602f78e"
      },
      "source": [
        "type(df['Total Area(m2)'][0])"
      ],
      "execution_count": 40,
      "outputs": [
        {
          "output_type": "execute_result",
          "data": {
            "text/plain": [
              "numpy.int64"
            ]
          },
          "metadata": {
            "tags": []
          },
          "execution_count": 40
        }
      ]
    },
    {
      "cell_type": "code",
      "metadata": {
        "id": "TvKByrqtmfoG",
        "colab_type": "code",
        "colab": {}
      },
      "source": [
        "df = df.drop(['total_area'], axis=1)"
      ],
      "execution_count": 41,
      "outputs": []
    },
    {
      "cell_type": "code",
      "metadata": {
        "id": "i_3VGGTvmfff",
        "colab_type": "code",
        "colab": {
          "base_uri": "https://localhost:8080/",
          "height": 204
        },
        "outputId": "cfbbd51a-4eb8-46c3-9a44-b3f79686a7d9"
      },
      "source": [
        "df.head()"
      ],
      "execution_count": 42,
      "outputs": [
        {
          "output_type": "execute_result",
          "data": {
            "text/html": [
              "<div>\n",
              "<style scoped>\n",
              "    .dataframe tbody tr th:only-of-type {\n",
              "        vertical-align: middle;\n",
              "    }\n",
              "\n",
              "    .dataframe tbody tr th {\n",
              "        vertical-align: top;\n",
              "    }\n",
              "\n",
              "    .dataframe thead th {\n",
              "        text-align: right;\n",
              "    }\n",
              "</style>\n",
              "<table border=\"1\" class=\"dataframe\">\n",
              "  <thead>\n",
              "    <tr style=\"text-align: right;\">\n",
              "      <th></th>\n",
              "      <th>room_count</th>\n",
              "      <th>flour</th>\n",
              "      <th>condition</th>\n",
              "      <th>building_type</th>\n",
              "      <th>balcony_type</th>\n",
              "      <th>District</th>\n",
              "      <th>Price</th>\n",
              "      <th>Total Area(m2)</th>\n",
              "    </tr>\n",
              "  </thead>\n",
              "  <tbody>\n",
              "    <tr>\n",
              "      <th>0</th>\n",
              "      <td>Count of rooms 2</td>\n",
              "      <td>Floor 4</td>\n",
              "      <td>repair</td>\n",
              "      <td>['type', 'High-rise']</td>\n",
              "      <td>Large</td>\n",
              "      <td>Erebuni</td>\n",
              "      <td>52000</td>\n",
              "      <td>66</td>\n",
              "    </tr>\n",
              "    <tr>\n",
              "      <th>1</th>\n",
              "      <td>Count of rooms 3</td>\n",
              "      <td>Floor 2</td>\n",
              "      <td>repair</td>\n",
              "      <td>['type', 'Stone']</td>\n",
              "      <td>Large</td>\n",
              "      <td>Downtown</td>\n",
              "      <td>130000</td>\n",
              "      <td>90</td>\n",
              "    </tr>\n",
              "    <tr>\n",
              "      <th>2</th>\n",
              "      <td>Count of rooms 1</td>\n",
              "      <td>Floor 3</td>\n",
              "      <td>Repairing</td>\n",
              "      <td>['type', 'High-rise']</td>\n",
              "      <td>Large</td>\n",
              "      <td>Downtown</td>\n",
              "      <td>80000</td>\n",
              "      <td>42</td>\n",
              "    </tr>\n",
              "    <tr>\n",
              "      <th>3</th>\n",
              "      <td>Count of rooms 1</td>\n",
              "      <td>Floor 9</td>\n",
              "      <td>3-5y</td>\n",
              "      <td>['type', 'High-rise']</td>\n",
              "      <td>Lodgia</td>\n",
              "      <td>Downtown</td>\n",
              "      <td>55000</td>\n",
              "      <td>37</td>\n",
              "    </tr>\n",
              "    <tr>\n",
              "      <th>4</th>\n",
              "      <td>Count of rooms 2</td>\n",
              "      <td>Floor 8</td>\n",
              "      <td>repair</td>\n",
              "      <td>['type', 'High-rise']</td>\n",
              "      <td>Large</td>\n",
              "      <td>Nork</td>\n",
              "      <td>47000</td>\n",
              "      <td>63</td>\n",
              "    </tr>\n",
              "  </tbody>\n",
              "</table>\n",
              "</div>"
            ],
            "text/plain": [
              "         room_count    flour  condition          building_type balcony_type  \\\n",
              "0  Count of rooms 2  Floor 4     repair  ['type', 'High-rise']        Large   \n",
              "1  Count of rooms 3  Floor 2     repair      ['type', 'Stone']        Large   \n",
              "2  Count of rooms 1  Floor 3  Repairing  ['type', 'High-rise']        Large   \n",
              "3  Count of rooms 1  Floor 9       3-5y  ['type', 'High-rise']       Lodgia   \n",
              "4  Count of rooms 2  Floor 8     repair  ['type', 'High-rise']        Large   \n",
              "\n",
              "   District   Price  Total Area(m2)  \n",
              "0   Erebuni   52000              66  \n",
              "1  Downtown  130000              90  \n",
              "2  Downtown   80000              42  \n",
              "3  Downtown   55000              37  \n",
              "4      Nork   47000              63  "
            ]
          },
          "metadata": {
            "tags": []
          },
          "execution_count": 42
        }
      ]
    },
    {
      "cell_type": "markdown",
      "metadata": {
        "id": "T4QorepGnpc2",
        "colab_type": "text"
      },
      "source": [
        "***'room_count' column***"
      ]
    },
    {
      "cell_type": "code",
      "metadata": {
        "id": "TOgCvyZ_n1s-",
        "colab_type": "code",
        "colab": {
          "base_uri": "https://localhost:8080/",
          "height": 34
        },
        "outputId": "6b9a1893-d7c9-4561-c3a8-df7ccf61d008"
      },
      "source": [
        "type(df['room_count'][0])"
      ],
      "execution_count": 43,
      "outputs": [
        {
          "output_type": "execute_result",
          "data": {
            "text/plain": [
              "str"
            ]
          },
          "metadata": {
            "tags": []
          },
          "execution_count": 43
        }
      ]
    },
    {
      "cell_type": "code",
      "metadata": {
        "id": "NYLXoo3mn1jM",
        "colab_type": "code",
        "colab": {}
      },
      "source": [
        "df['Room Count'] = df['room_count'].str.split().str[-1]"
      ],
      "execution_count": 44,
      "outputs": []
    },
    {
      "cell_type": "code",
      "metadata": {
        "id": "agtEsmMZn1ZD",
        "colab_type": "code",
        "colab": {
          "base_uri": "https://localhost:8080/",
          "height": 204
        },
        "outputId": "915e1c6b-8874-4788-d05f-194fc4b7bf4e"
      },
      "source": [
        "df.head()"
      ],
      "execution_count": 45,
      "outputs": [
        {
          "output_type": "execute_result",
          "data": {
            "text/html": [
              "<div>\n",
              "<style scoped>\n",
              "    .dataframe tbody tr th:only-of-type {\n",
              "        vertical-align: middle;\n",
              "    }\n",
              "\n",
              "    .dataframe tbody tr th {\n",
              "        vertical-align: top;\n",
              "    }\n",
              "\n",
              "    .dataframe thead th {\n",
              "        text-align: right;\n",
              "    }\n",
              "</style>\n",
              "<table border=\"1\" class=\"dataframe\">\n",
              "  <thead>\n",
              "    <tr style=\"text-align: right;\">\n",
              "      <th></th>\n",
              "      <th>room_count</th>\n",
              "      <th>flour</th>\n",
              "      <th>condition</th>\n",
              "      <th>building_type</th>\n",
              "      <th>balcony_type</th>\n",
              "      <th>District</th>\n",
              "      <th>Price</th>\n",
              "      <th>Total Area(m2)</th>\n",
              "      <th>Room Count</th>\n",
              "    </tr>\n",
              "  </thead>\n",
              "  <tbody>\n",
              "    <tr>\n",
              "      <th>0</th>\n",
              "      <td>Count of rooms 2</td>\n",
              "      <td>Floor 4</td>\n",
              "      <td>repair</td>\n",
              "      <td>['type', 'High-rise']</td>\n",
              "      <td>Large</td>\n",
              "      <td>Erebuni</td>\n",
              "      <td>52000</td>\n",
              "      <td>66</td>\n",
              "      <td>2</td>\n",
              "    </tr>\n",
              "    <tr>\n",
              "      <th>1</th>\n",
              "      <td>Count of rooms 3</td>\n",
              "      <td>Floor 2</td>\n",
              "      <td>repair</td>\n",
              "      <td>['type', 'Stone']</td>\n",
              "      <td>Large</td>\n",
              "      <td>Downtown</td>\n",
              "      <td>130000</td>\n",
              "      <td>90</td>\n",
              "      <td>3</td>\n",
              "    </tr>\n",
              "    <tr>\n",
              "      <th>2</th>\n",
              "      <td>Count of rooms 1</td>\n",
              "      <td>Floor 3</td>\n",
              "      <td>Repairing</td>\n",
              "      <td>['type', 'High-rise']</td>\n",
              "      <td>Large</td>\n",
              "      <td>Downtown</td>\n",
              "      <td>80000</td>\n",
              "      <td>42</td>\n",
              "      <td>1</td>\n",
              "    </tr>\n",
              "    <tr>\n",
              "      <th>3</th>\n",
              "      <td>Count of rooms 1</td>\n",
              "      <td>Floor 9</td>\n",
              "      <td>3-5y</td>\n",
              "      <td>['type', 'High-rise']</td>\n",
              "      <td>Lodgia</td>\n",
              "      <td>Downtown</td>\n",
              "      <td>55000</td>\n",
              "      <td>37</td>\n",
              "      <td>1</td>\n",
              "    </tr>\n",
              "    <tr>\n",
              "      <th>4</th>\n",
              "      <td>Count of rooms 2</td>\n",
              "      <td>Floor 8</td>\n",
              "      <td>repair</td>\n",
              "      <td>['type', 'High-rise']</td>\n",
              "      <td>Large</td>\n",
              "      <td>Nork</td>\n",
              "      <td>47000</td>\n",
              "      <td>63</td>\n",
              "      <td>2</td>\n",
              "    </tr>\n",
              "  </tbody>\n",
              "</table>\n",
              "</div>"
            ],
            "text/plain": [
              "         room_count    flour  condition          building_type balcony_type  \\\n",
              "0  Count of rooms 2  Floor 4     repair  ['type', 'High-rise']        Large   \n",
              "1  Count of rooms 3  Floor 2     repair      ['type', 'Stone']        Large   \n",
              "2  Count of rooms 1  Floor 3  Repairing  ['type', 'High-rise']        Large   \n",
              "3  Count of rooms 1  Floor 9       3-5y  ['type', 'High-rise']       Lodgia   \n",
              "4  Count of rooms 2  Floor 8     repair  ['type', 'High-rise']        Large   \n",
              "\n",
              "   District   Price  Total Area(m2) Room Count  \n",
              "0   Erebuni   52000              66          2  \n",
              "1  Downtown  130000              90          3  \n",
              "2  Downtown   80000              42          1  \n",
              "3  Downtown   55000              37          1  \n",
              "4      Nork   47000              63          2  "
            ]
          },
          "metadata": {
            "tags": []
          },
          "execution_count": 45
        }
      ]
    },
    {
      "cell_type": "code",
      "metadata": {
        "id": "ECgHldcCn1NA",
        "colab_type": "code",
        "colab": {}
      },
      "source": [
        "df['Room Count'] = pd.to_numeric(df['Room Count'])"
      ],
      "execution_count": 46,
      "outputs": []
    },
    {
      "cell_type": "code",
      "metadata": {
        "id": "FTE-2W2MmfTk",
        "colab_type": "code",
        "colab": {
          "base_uri": "https://localhost:8080/",
          "height": 34
        },
        "outputId": "bab01da1-3a29-4909-a832-bfbe0f037789"
      },
      "source": [
        "type(df['Room Count'][0])"
      ],
      "execution_count": 47,
      "outputs": [
        {
          "output_type": "execute_result",
          "data": {
            "text/plain": [
              "numpy.int64"
            ]
          },
          "metadata": {
            "tags": []
          },
          "execution_count": 47
        }
      ]
    },
    {
      "cell_type": "code",
      "metadata": {
        "id": "wej3yHH2pivj",
        "colab_type": "code",
        "colab": {}
      },
      "source": [
        "df = df.drop(['room_count'], axis=1)"
      ],
      "execution_count": 48,
      "outputs": []
    },
    {
      "cell_type": "code",
      "metadata": {
        "id": "x9kBsBuUpqKb",
        "colab_type": "code",
        "colab": {
          "base_uri": "https://localhost:8080/",
          "height": 204
        },
        "outputId": "bbb9525d-890e-475c-b24a-edbc50896656"
      },
      "source": [
        "df.head()"
      ],
      "execution_count": 49,
      "outputs": [
        {
          "output_type": "execute_result",
          "data": {
            "text/html": [
              "<div>\n",
              "<style scoped>\n",
              "    .dataframe tbody tr th:only-of-type {\n",
              "        vertical-align: middle;\n",
              "    }\n",
              "\n",
              "    .dataframe tbody tr th {\n",
              "        vertical-align: top;\n",
              "    }\n",
              "\n",
              "    .dataframe thead th {\n",
              "        text-align: right;\n",
              "    }\n",
              "</style>\n",
              "<table border=\"1\" class=\"dataframe\">\n",
              "  <thead>\n",
              "    <tr style=\"text-align: right;\">\n",
              "      <th></th>\n",
              "      <th>flour</th>\n",
              "      <th>condition</th>\n",
              "      <th>building_type</th>\n",
              "      <th>balcony_type</th>\n",
              "      <th>District</th>\n",
              "      <th>Price</th>\n",
              "      <th>Total Area(m2)</th>\n",
              "      <th>Room Count</th>\n",
              "    </tr>\n",
              "  </thead>\n",
              "  <tbody>\n",
              "    <tr>\n",
              "      <th>0</th>\n",
              "      <td>Floor 4</td>\n",
              "      <td>repair</td>\n",
              "      <td>['type', 'High-rise']</td>\n",
              "      <td>Large</td>\n",
              "      <td>Erebuni</td>\n",
              "      <td>52000</td>\n",
              "      <td>66</td>\n",
              "      <td>2</td>\n",
              "    </tr>\n",
              "    <tr>\n",
              "      <th>1</th>\n",
              "      <td>Floor 2</td>\n",
              "      <td>repair</td>\n",
              "      <td>['type', 'Stone']</td>\n",
              "      <td>Large</td>\n",
              "      <td>Downtown</td>\n",
              "      <td>130000</td>\n",
              "      <td>90</td>\n",
              "      <td>3</td>\n",
              "    </tr>\n",
              "    <tr>\n",
              "      <th>2</th>\n",
              "      <td>Floor 3</td>\n",
              "      <td>Repairing</td>\n",
              "      <td>['type', 'High-rise']</td>\n",
              "      <td>Large</td>\n",
              "      <td>Downtown</td>\n",
              "      <td>80000</td>\n",
              "      <td>42</td>\n",
              "      <td>1</td>\n",
              "    </tr>\n",
              "    <tr>\n",
              "      <th>3</th>\n",
              "      <td>Floor 9</td>\n",
              "      <td>3-5y</td>\n",
              "      <td>['type', 'High-rise']</td>\n",
              "      <td>Lodgia</td>\n",
              "      <td>Downtown</td>\n",
              "      <td>55000</td>\n",
              "      <td>37</td>\n",
              "      <td>1</td>\n",
              "    </tr>\n",
              "    <tr>\n",
              "      <th>4</th>\n",
              "      <td>Floor 8</td>\n",
              "      <td>repair</td>\n",
              "      <td>['type', 'High-rise']</td>\n",
              "      <td>Large</td>\n",
              "      <td>Nork</td>\n",
              "      <td>47000</td>\n",
              "      <td>63</td>\n",
              "      <td>2</td>\n",
              "    </tr>\n",
              "  </tbody>\n",
              "</table>\n",
              "</div>"
            ],
            "text/plain": [
              "     flour  condition          building_type balcony_type  District   Price  \\\n",
              "0  Floor 4     repair  ['type', 'High-rise']        Large   Erebuni   52000   \n",
              "1  Floor 2     repair      ['type', 'Stone']        Large  Downtown  130000   \n",
              "2  Floor 3  Repairing  ['type', 'High-rise']        Large  Downtown   80000   \n",
              "3  Floor 9       3-5y  ['type', 'High-rise']       Lodgia  Downtown   55000   \n",
              "4  Floor 8     repair  ['type', 'High-rise']        Large      Nork   47000   \n",
              "\n",
              "   Total Area(m2)  Room Count  \n",
              "0              66           2  \n",
              "1              90           3  \n",
              "2              42           1  \n",
              "3              37           1  \n",
              "4              63           2  "
            ]
          },
          "metadata": {
            "tags": []
          },
          "execution_count": 49
        }
      ]
    },
    {
      "cell_type": "markdown",
      "metadata": {
        "id": "HzzUA5HTqwR5",
        "colab_type": "text"
      },
      "source": [
        "***'floor' column***"
      ]
    },
    {
      "cell_type": "code",
      "metadata": {
        "id": "Z7clmTg-pvWc",
        "colab_type": "code",
        "colab": {
          "base_uri": "https://localhost:8080/",
          "height": 34
        },
        "outputId": "6e546cb7-b1b0-4fa6-f27b-23c1c6f397ec"
      },
      "source": [
        "type(df['flour'][0])"
      ],
      "execution_count": 50,
      "outputs": [
        {
          "output_type": "execute_result",
          "data": {
            "text/plain": [
              "str"
            ]
          },
          "metadata": {
            "tags": []
          },
          "execution_count": 50
        }
      ]
    },
    {
      "cell_type": "code",
      "metadata": {
        "id": "3w-uYoiytal2",
        "colab_type": "code",
        "colab": {}
      },
      "source": [
        "df['Floor'] = df['flour'].str.split().str[-1]"
      ],
      "execution_count": 51,
      "outputs": []
    },
    {
      "cell_type": "code",
      "metadata": {
        "id": "-vXpX0QctaeT",
        "colab_type": "code",
        "colab": {
          "base_uri": "https://localhost:8080/",
          "height": 204
        },
        "outputId": "19799543-0ae1-4970-b301-466258691cfd"
      },
      "source": [
        "df.head()"
      ],
      "execution_count": 52,
      "outputs": [
        {
          "output_type": "execute_result",
          "data": {
            "text/html": [
              "<div>\n",
              "<style scoped>\n",
              "    .dataframe tbody tr th:only-of-type {\n",
              "        vertical-align: middle;\n",
              "    }\n",
              "\n",
              "    .dataframe tbody tr th {\n",
              "        vertical-align: top;\n",
              "    }\n",
              "\n",
              "    .dataframe thead th {\n",
              "        text-align: right;\n",
              "    }\n",
              "</style>\n",
              "<table border=\"1\" class=\"dataframe\">\n",
              "  <thead>\n",
              "    <tr style=\"text-align: right;\">\n",
              "      <th></th>\n",
              "      <th>flour</th>\n",
              "      <th>condition</th>\n",
              "      <th>building_type</th>\n",
              "      <th>balcony_type</th>\n",
              "      <th>District</th>\n",
              "      <th>Price</th>\n",
              "      <th>Total Area(m2)</th>\n",
              "      <th>Room Count</th>\n",
              "      <th>Floor</th>\n",
              "    </tr>\n",
              "  </thead>\n",
              "  <tbody>\n",
              "    <tr>\n",
              "      <th>0</th>\n",
              "      <td>Floor 4</td>\n",
              "      <td>repair</td>\n",
              "      <td>['type', 'High-rise']</td>\n",
              "      <td>Large</td>\n",
              "      <td>Erebuni</td>\n",
              "      <td>52000</td>\n",
              "      <td>66</td>\n",
              "      <td>2</td>\n",
              "      <td>4</td>\n",
              "    </tr>\n",
              "    <tr>\n",
              "      <th>1</th>\n",
              "      <td>Floor 2</td>\n",
              "      <td>repair</td>\n",
              "      <td>['type', 'Stone']</td>\n",
              "      <td>Large</td>\n",
              "      <td>Downtown</td>\n",
              "      <td>130000</td>\n",
              "      <td>90</td>\n",
              "      <td>3</td>\n",
              "      <td>2</td>\n",
              "    </tr>\n",
              "    <tr>\n",
              "      <th>2</th>\n",
              "      <td>Floor 3</td>\n",
              "      <td>Repairing</td>\n",
              "      <td>['type', 'High-rise']</td>\n",
              "      <td>Large</td>\n",
              "      <td>Downtown</td>\n",
              "      <td>80000</td>\n",
              "      <td>42</td>\n",
              "      <td>1</td>\n",
              "      <td>3</td>\n",
              "    </tr>\n",
              "    <tr>\n",
              "      <th>3</th>\n",
              "      <td>Floor 9</td>\n",
              "      <td>3-5y</td>\n",
              "      <td>['type', 'High-rise']</td>\n",
              "      <td>Lodgia</td>\n",
              "      <td>Downtown</td>\n",
              "      <td>55000</td>\n",
              "      <td>37</td>\n",
              "      <td>1</td>\n",
              "      <td>9</td>\n",
              "    </tr>\n",
              "    <tr>\n",
              "      <th>4</th>\n",
              "      <td>Floor 8</td>\n",
              "      <td>repair</td>\n",
              "      <td>['type', 'High-rise']</td>\n",
              "      <td>Large</td>\n",
              "      <td>Nork</td>\n",
              "      <td>47000</td>\n",
              "      <td>63</td>\n",
              "      <td>2</td>\n",
              "      <td>8</td>\n",
              "    </tr>\n",
              "  </tbody>\n",
              "</table>\n",
              "</div>"
            ],
            "text/plain": [
              "     flour  condition          building_type balcony_type  District   Price  \\\n",
              "0  Floor 4     repair  ['type', 'High-rise']        Large   Erebuni   52000   \n",
              "1  Floor 2     repair      ['type', 'Stone']        Large  Downtown  130000   \n",
              "2  Floor 3  Repairing  ['type', 'High-rise']        Large  Downtown   80000   \n",
              "3  Floor 9       3-5y  ['type', 'High-rise']       Lodgia  Downtown   55000   \n",
              "4  Floor 8     repair  ['type', 'High-rise']        Large      Nork   47000   \n",
              "\n",
              "   Total Area(m2)  Room Count Floor  \n",
              "0              66           2     4  \n",
              "1              90           3     2  \n",
              "2              42           1     3  \n",
              "3              37           1     9  \n",
              "4              63           2     8  "
            ]
          },
          "metadata": {
            "tags": []
          },
          "execution_count": 52
        }
      ]
    },
    {
      "cell_type": "code",
      "metadata": {
        "id": "LcoFAb0dtaYM",
        "colab_type": "code",
        "colab": {
          "base_uri": "https://localhost:8080/",
          "height": 435
        },
        "outputId": "652c169c-eb36-4afd-edf7-6e22a61be219"
      },
      "source": [
        "df['Floor'] = pd.to_numeric(df['Floor'])"
      ],
      "execution_count": 53,
      "outputs": [
        {
          "output_type": "error",
          "ename": "ValueError",
          "evalue": "ignored",
          "traceback": [
            "\u001b[0;31m---------------------------------------------------------------------------\u001b[0m",
            "\u001b[0;31mValueError\u001b[0m                                Traceback (most recent call last)",
            "\u001b[0;32mpandas/_libs/lib.pyx\u001b[0m in \u001b[0;36mpandas._libs.lib.maybe_convert_numeric\u001b[0;34m()\u001b[0m\n",
            "\u001b[0;31mValueError\u001b[0m: Unable to parse string \"Б\"",
            "\nDuring handling of the above exception, another exception occurred:\n",
            "\u001b[0;31mValueError\u001b[0m                                Traceback (most recent call last)",
            "\u001b[0;32m<ipython-input-53-d8feb4eb6a20>\u001b[0m in \u001b[0;36m<module>\u001b[0;34m()\u001b[0m\n\u001b[0;32m----> 1\u001b[0;31m \u001b[0mdf\u001b[0m\u001b[0;34m[\u001b[0m\u001b[0;34m'Floor'\u001b[0m\u001b[0;34m]\u001b[0m \u001b[0;34m=\u001b[0m \u001b[0mpd\u001b[0m\u001b[0;34m.\u001b[0m\u001b[0mto_numeric\u001b[0m\u001b[0;34m(\u001b[0m\u001b[0mdf\u001b[0m\u001b[0;34m[\u001b[0m\u001b[0;34m'Floor'\u001b[0m\u001b[0;34m]\u001b[0m\u001b[0;34m)\u001b[0m\u001b[0;34m\u001b[0m\u001b[0;34m\u001b[0m\u001b[0m\n\u001b[0m",
            "\u001b[0;32m/usr/local/lib/python3.6/dist-packages/pandas/core/tools/numeric.py\u001b[0m in \u001b[0;36mto_numeric\u001b[0;34m(arg, errors, downcast)\u001b[0m\n\u001b[1;32m    148\u001b[0m         \u001b[0;32mtry\u001b[0m\u001b[0;34m:\u001b[0m\u001b[0;34m\u001b[0m\u001b[0;34m\u001b[0m\u001b[0m\n\u001b[1;32m    149\u001b[0m             values = lib.maybe_convert_numeric(\n\u001b[0;32m--> 150\u001b[0;31m                 \u001b[0mvalues\u001b[0m\u001b[0;34m,\u001b[0m \u001b[0mset\u001b[0m\u001b[0;34m(\u001b[0m\u001b[0;34m)\u001b[0m\u001b[0;34m,\u001b[0m \u001b[0mcoerce_numeric\u001b[0m\u001b[0;34m=\u001b[0m\u001b[0mcoerce_numeric\u001b[0m\u001b[0;34m\u001b[0m\u001b[0;34m\u001b[0m\u001b[0m\n\u001b[0m\u001b[1;32m    151\u001b[0m             )\n\u001b[1;32m    152\u001b[0m         \u001b[0;32mexcept\u001b[0m \u001b[0;34m(\u001b[0m\u001b[0mValueError\u001b[0m\u001b[0;34m,\u001b[0m \u001b[0mTypeError\u001b[0m\u001b[0;34m)\u001b[0m\u001b[0;34m:\u001b[0m\u001b[0;34m\u001b[0m\u001b[0;34m\u001b[0m\u001b[0m\n",
            "\u001b[0;32mpandas/_libs/lib.pyx\u001b[0m in \u001b[0;36mpandas._libs.lib.maybe_convert_numeric\u001b[0;34m()\u001b[0m\n",
            "\u001b[0;31mValueError\u001b[0m: Unable to parse string \"Б\" at position 7"
          ]
        }
      ]
    },
    {
      "cell_type": "code",
      "metadata": {
        "id": "lOOeELBNlA1x",
        "colab_type": "code",
        "colab": {
          "base_uri": "https://localhost:8080/",
          "height": 136
        },
        "outputId": "5e69d3d9-7148-4951-f71b-7569bd66e954"
      },
      "source": [
        "df['Floor'].unique()"
      ],
      "execution_count": 55,
      "outputs": [
        {
          "output_type": "execute_result",
          "data": {
            "text/plain": [
              "array(['4', '2', '3', '9', '8', '5', 'Б', '1', '6', '7', '11', '13', '14',\n",
              "       '15', '2,3', '10', '16', '17', '18', '12', '4,5', 'М,4', '5,6',\n",
              "       'Н,5', 'М,5', 'М,3', 'Н,4', 'Н', '10,11', 'М', '1,2', 'Б,П',\n",
              "       'Б,Пп', 'Н,9', '12,13', '16,17', 'Н,М', '5,6,7', 'М,9', 'Н,3',\n",
              "       'М,6', 'П,1', '8,9', 'Н,3,4', 'Пп', '1,2,3', 'М,8', '15,16',\n",
              "       'Н,М,4', 'Н,4,5', 'М,П,2', 'Пп,1', 'М,2', 'М,10', 'Н,2', '14,15',\n",
              "       '3,4', '15,16,17', 'М,4,5', 'М,7', '13,14,15'], dtype=object)"
            ]
          },
          "metadata": {
            "tags": []
          },
          "execution_count": 55
        }
      ]
    },
    {
      "cell_type": "code",
      "metadata": {
        "id": "ItAjNEs9lNcz",
        "colab_type": "code",
        "colab": {
          "base_uri": "https://localhost:8080/",
          "height": 1000
        },
        "outputId": "30a6c2c6-1ac8-456d-f2a2-bedaa4957130"
      },
      "source": [
        "df.groupby(['Floor']).count()"
      ],
      "execution_count": 56,
      "outputs": [
        {
          "output_type": "execute_result",
          "data": {
            "text/html": [
              "<div>\n",
              "<style scoped>\n",
              "    .dataframe tbody tr th:only-of-type {\n",
              "        vertical-align: middle;\n",
              "    }\n",
              "\n",
              "    .dataframe tbody tr th {\n",
              "        vertical-align: top;\n",
              "    }\n",
              "\n",
              "    .dataframe thead th {\n",
              "        text-align: right;\n",
              "    }\n",
              "</style>\n",
              "<table border=\"1\" class=\"dataframe\">\n",
              "  <thead>\n",
              "    <tr style=\"text-align: right;\">\n",
              "      <th></th>\n",
              "      <th>flour</th>\n",
              "      <th>condition</th>\n",
              "      <th>building_type</th>\n",
              "      <th>balcony_type</th>\n",
              "      <th>District</th>\n",
              "      <th>Price</th>\n",
              "      <th>Total Area(m2)</th>\n",
              "      <th>Room Count</th>\n",
              "    </tr>\n",
              "    <tr>\n",
              "      <th>Floor</th>\n",
              "      <th></th>\n",
              "      <th></th>\n",
              "      <th></th>\n",
              "      <th></th>\n",
              "      <th></th>\n",
              "      <th></th>\n",
              "      <th></th>\n",
              "      <th></th>\n",
              "    </tr>\n",
              "  </thead>\n",
              "  <tbody>\n",
              "    <tr>\n",
              "      <th>1</th>\n",
              "      <td>124</td>\n",
              "      <td>124</td>\n",
              "      <td>124</td>\n",
              "      <td>124</td>\n",
              "      <td>124</td>\n",
              "      <td>124</td>\n",
              "      <td>124</td>\n",
              "      <td>124</td>\n",
              "    </tr>\n",
              "    <tr>\n",
              "      <th>1,2</th>\n",
              "      <td>3</td>\n",
              "      <td>3</td>\n",
              "      <td>3</td>\n",
              "      <td>3</td>\n",
              "      <td>3</td>\n",
              "      <td>3</td>\n",
              "      <td>3</td>\n",
              "      <td>3</td>\n",
              "    </tr>\n",
              "    <tr>\n",
              "      <th>1,2,3</th>\n",
              "      <td>1</td>\n",
              "      <td>1</td>\n",
              "      <td>1</td>\n",
              "      <td>1</td>\n",
              "      <td>1</td>\n",
              "      <td>1</td>\n",
              "      <td>1</td>\n",
              "      <td>1</td>\n",
              "    </tr>\n",
              "    <tr>\n",
              "      <th>10</th>\n",
              "      <td>42</td>\n",
              "      <td>42</td>\n",
              "      <td>42</td>\n",
              "      <td>42</td>\n",
              "      <td>42</td>\n",
              "      <td>42</td>\n",
              "      <td>42</td>\n",
              "      <td>42</td>\n",
              "    </tr>\n",
              "    <tr>\n",
              "      <th>10,11</th>\n",
              "      <td>2</td>\n",
              "      <td>2</td>\n",
              "      <td>2</td>\n",
              "      <td>2</td>\n",
              "      <td>2</td>\n",
              "      <td>2</td>\n",
              "      <td>2</td>\n",
              "      <td>2</td>\n",
              "    </tr>\n",
              "    <tr>\n",
              "      <th>11</th>\n",
              "      <td>49</td>\n",
              "      <td>49</td>\n",
              "      <td>49</td>\n",
              "      <td>49</td>\n",
              "      <td>49</td>\n",
              "      <td>49</td>\n",
              "      <td>49</td>\n",
              "      <td>49</td>\n",
              "    </tr>\n",
              "    <tr>\n",
              "      <th>12</th>\n",
              "      <td>36</td>\n",
              "      <td>36</td>\n",
              "      <td>36</td>\n",
              "      <td>36</td>\n",
              "      <td>36</td>\n",
              "      <td>36</td>\n",
              "      <td>36</td>\n",
              "      <td>36</td>\n",
              "    </tr>\n",
              "    <tr>\n",
              "      <th>12,13</th>\n",
              "      <td>2</td>\n",
              "      <td>2</td>\n",
              "      <td>2</td>\n",
              "      <td>2</td>\n",
              "      <td>2</td>\n",
              "      <td>2</td>\n",
              "      <td>2</td>\n",
              "      <td>2</td>\n",
              "    </tr>\n",
              "    <tr>\n",
              "      <th>13</th>\n",
              "      <td>48</td>\n",
              "      <td>48</td>\n",
              "      <td>48</td>\n",
              "      <td>48</td>\n",
              "      <td>48</td>\n",
              "      <td>48</td>\n",
              "      <td>48</td>\n",
              "      <td>48</td>\n",
              "    </tr>\n",
              "    <tr>\n",
              "      <th>13,14,15</th>\n",
              "      <td>1</td>\n",
              "      <td>1</td>\n",
              "      <td>1</td>\n",
              "      <td>1</td>\n",
              "      <td>1</td>\n",
              "      <td>1</td>\n",
              "      <td>1</td>\n",
              "      <td>1</td>\n",
              "    </tr>\n",
              "    <tr>\n",
              "      <th>14</th>\n",
              "      <td>26</td>\n",
              "      <td>26</td>\n",
              "      <td>26</td>\n",
              "      <td>26</td>\n",
              "      <td>26</td>\n",
              "      <td>26</td>\n",
              "      <td>26</td>\n",
              "      <td>26</td>\n",
              "    </tr>\n",
              "    <tr>\n",
              "      <th>14,15</th>\n",
              "      <td>1</td>\n",
              "      <td>1</td>\n",
              "      <td>1</td>\n",
              "      <td>1</td>\n",
              "      <td>1</td>\n",
              "      <td>1</td>\n",
              "      <td>1</td>\n",
              "      <td>1</td>\n",
              "    </tr>\n",
              "    <tr>\n",
              "      <th>15</th>\n",
              "      <td>17</td>\n",
              "      <td>17</td>\n",
              "      <td>17</td>\n",
              "      <td>17</td>\n",
              "      <td>17</td>\n",
              "      <td>17</td>\n",
              "      <td>17</td>\n",
              "      <td>17</td>\n",
              "    </tr>\n",
              "    <tr>\n",
              "      <th>15,16</th>\n",
              "      <td>1</td>\n",
              "      <td>1</td>\n",
              "      <td>1</td>\n",
              "      <td>1</td>\n",
              "      <td>1</td>\n",
              "      <td>1</td>\n",
              "      <td>1</td>\n",
              "      <td>1</td>\n",
              "    </tr>\n",
              "    <tr>\n",
              "      <th>15,16,17</th>\n",
              "      <td>1</td>\n",
              "      <td>1</td>\n",
              "      <td>1</td>\n",
              "      <td>1</td>\n",
              "      <td>1</td>\n",
              "      <td>1</td>\n",
              "      <td>1</td>\n",
              "      <td>1</td>\n",
              "    </tr>\n",
              "    <tr>\n",
              "      <th>16</th>\n",
              "      <td>10</td>\n",
              "      <td>10</td>\n",
              "      <td>10</td>\n",
              "      <td>10</td>\n",
              "      <td>10</td>\n",
              "      <td>10</td>\n",
              "      <td>10</td>\n",
              "      <td>10</td>\n",
              "    </tr>\n",
              "    <tr>\n",
              "      <th>16,17</th>\n",
              "      <td>3</td>\n",
              "      <td>3</td>\n",
              "      <td>3</td>\n",
              "      <td>3</td>\n",
              "      <td>3</td>\n",
              "      <td>3</td>\n",
              "      <td>3</td>\n",
              "      <td>3</td>\n",
              "    </tr>\n",
              "    <tr>\n",
              "      <th>17</th>\n",
              "      <td>6</td>\n",
              "      <td>6</td>\n",
              "      <td>6</td>\n",
              "      <td>6</td>\n",
              "      <td>6</td>\n",
              "      <td>6</td>\n",
              "      <td>6</td>\n",
              "      <td>6</td>\n",
              "    </tr>\n",
              "    <tr>\n",
              "      <th>18</th>\n",
              "      <td>3</td>\n",
              "      <td>3</td>\n",
              "      <td>3</td>\n",
              "      <td>3</td>\n",
              "      <td>3</td>\n",
              "      <td>3</td>\n",
              "      <td>3</td>\n",
              "      <td>3</td>\n",
              "    </tr>\n",
              "    <tr>\n",
              "      <th>2</th>\n",
              "      <td>245</td>\n",
              "      <td>245</td>\n",
              "      <td>245</td>\n",
              "      <td>245</td>\n",
              "      <td>245</td>\n",
              "      <td>245</td>\n",
              "      <td>245</td>\n",
              "      <td>245</td>\n",
              "    </tr>\n",
              "    <tr>\n",
              "      <th>2,3</th>\n",
              "      <td>2</td>\n",
              "      <td>2</td>\n",
              "      <td>2</td>\n",
              "      <td>2</td>\n",
              "      <td>2</td>\n",
              "      <td>2</td>\n",
              "      <td>2</td>\n",
              "      <td>2</td>\n",
              "    </tr>\n",
              "    <tr>\n",
              "      <th>3</th>\n",
              "      <td>246</td>\n",
              "      <td>246</td>\n",
              "      <td>246</td>\n",
              "      <td>246</td>\n",
              "      <td>246</td>\n",
              "      <td>246</td>\n",
              "      <td>246</td>\n",
              "      <td>246</td>\n",
              "    </tr>\n",
              "    <tr>\n",
              "      <th>3,4</th>\n",
              "      <td>2</td>\n",
              "      <td>2</td>\n",
              "      <td>2</td>\n",
              "      <td>2</td>\n",
              "      <td>2</td>\n",
              "      <td>2</td>\n",
              "      <td>2</td>\n",
              "      <td>2</td>\n",
              "    </tr>\n",
              "    <tr>\n",
              "      <th>4</th>\n",
              "      <td>308</td>\n",
              "      <td>308</td>\n",
              "      <td>308</td>\n",
              "      <td>308</td>\n",
              "      <td>308</td>\n",
              "      <td>308</td>\n",
              "      <td>308</td>\n",
              "      <td>308</td>\n",
              "    </tr>\n",
              "    <tr>\n",
              "      <th>4,5</th>\n",
              "      <td>6</td>\n",
              "      <td>6</td>\n",
              "      <td>6</td>\n",
              "      <td>6</td>\n",
              "      <td>6</td>\n",
              "      <td>6</td>\n",
              "      <td>6</td>\n",
              "      <td>6</td>\n",
              "    </tr>\n",
              "    <tr>\n",
              "      <th>5</th>\n",
              "      <td>276</td>\n",
              "      <td>276</td>\n",
              "      <td>276</td>\n",
              "      <td>276</td>\n",
              "      <td>276</td>\n",
              "      <td>276</td>\n",
              "      <td>276</td>\n",
              "      <td>276</td>\n",
              "    </tr>\n",
              "    <tr>\n",
              "      <th>5,6</th>\n",
              "      <td>5</td>\n",
              "      <td>5</td>\n",
              "      <td>5</td>\n",
              "      <td>5</td>\n",
              "      <td>5</td>\n",
              "      <td>5</td>\n",
              "      <td>5</td>\n",
              "      <td>5</td>\n",
              "    </tr>\n",
              "    <tr>\n",
              "      <th>5,6,7</th>\n",
              "      <td>1</td>\n",
              "      <td>1</td>\n",
              "      <td>1</td>\n",
              "      <td>1</td>\n",
              "      <td>1</td>\n",
              "      <td>1</td>\n",
              "      <td>1</td>\n",
              "      <td>1</td>\n",
              "    </tr>\n",
              "    <tr>\n",
              "      <th>6</th>\n",
              "      <td>100</td>\n",
              "      <td>100</td>\n",
              "      <td>100</td>\n",
              "      <td>100</td>\n",
              "      <td>100</td>\n",
              "      <td>100</td>\n",
              "      <td>100</td>\n",
              "      <td>100</td>\n",
              "    </tr>\n",
              "    <tr>\n",
              "      <th>7</th>\n",
              "      <td>89</td>\n",
              "      <td>89</td>\n",
              "      <td>89</td>\n",
              "      <td>89</td>\n",
              "      <td>89</td>\n",
              "      <td>89</td>\n",
              "      <td>89</td>\n",
              "      <td>89</td>\n",
              "    </tr>\n",
              "    <tr>\n",
              "      <th>8</th>\n",
              "      <td>89</td>\n",
              "      <td>89</td>\n",
              "      <td>89</td>\n",
              "      <td>89</td>\n",
              "      <td>89</td>\n",
              "      <td>89</td>\n",
              "      <td>89</td>\n",
              "      <td>89</td>\n",
              "    </tr>\n",
              "    <tr>\n",
              "      <th>8,9</th>\n",
              "      <td>1</td>\n",
              "      <td>1</td>\n",
              "      <td>1</td>\n",
              "      <td>1</td>\n",
              "      <td>1</td>\n",
              "      <td>1</td>\n",
              "      <td>1</td>\n",
              "      <td>1</td>\n",
              "    </tr>\n",
              "    <tr>\n",
              "      <th>9</th>\n",
              "      <td>84</td>\n",
              "      <td>84</td>\n",
              "      <td>84</td>\n",
              "      <td>84</td>\n",
              "      <td>84</td>\n",
              "      <td>84</td>\n",
              "      <td>84</td>\n",
              "      <td>84</td>\n",
              "    </tr>\n",
              "    <tr>\n",
              "      <th>Б</th>\n",
              "      <td>92</td>\n",
              "      <td>92</td>\n",
              "      <td>92</td>\n",
              "      <td>92</td>\n",
              "      <td>92</td>\n",
              "      <td>92</td>\n",
              "      <td>92</td>\n",
              "      <td>92</td>\n",
              "    </tr>\n",
              "    <tr>\n",
              "      <th>Б,П</th>\n",
              "      <td>2</td>\n",
              "      <td>2</td>\n",
              "      <td>2</td>\n",
              "      <td>2</td>\n",
              "      <td>2</td>\n",
              "      <td>2</td>\n",
              "      <td>2</td>\n",
              "      <td>2</td>\n",
              "    </tr>\n",
              "    <tr>\n",
              "      <th>Б,Пп</th>\n",
              "      <td>5</td>\n",
              "      <td>5</td>\n",
              "      <td>5</td>\n",
              "      <td>5</td>\n",
              "      <td>5</td>\n",
              "      <td>5</td>\n",
              "      <td>5</td>\n",
              "      <td>5</td>\n",
              "    </tr>\n",
              "    <tr>\n",
              "      <th>М</th>\n",
              "      <td>10</td>\n",
              "      <td>10</td>\n",
              "      <td>10</td>\n",
              "      <td>10</td>\n",
              "      <td>10</td>\n",
              "      <td>10</td>\n",
              "      <td>10</td>\n",
              "      <td>10</td>\n",
              "    </tr>\n",
              "    <tr>\n",
              "      <th>М,10</th>\n",
              "      <td>1</td>\n",
              "      <td>1</td>\n",
              "      <td>1</td>\n",
              "      <td>1</td>\n",
              "      <td>1</td>\n",
              "      <td>1</td>\n",
              "      <td>1</td>\n",
              "      <td>1</td>\n",
              "    </tr>\n",
              "    <tr>\n",
              "      <th>М,2</th>\n",
              "      <td>4</td>\n",
              "      <td>4</td>\n",
              "      <td>4</td>\n",
              "      <td>4</td>\n",
              "      <td>4</td>\n",
              "      <td>4</td>\n",
              "      <td>4</td>\n",
              "      <td>4</td>\n",
              "    </tr>\n",
              "    <tr>\n",
              "      <th>М,3</th>\n",
              "      <td>4</td>\n",
              "      <td>4</td>\n",
              "      <td>4</td>\n",
              "      <td>4</td>\n",
              "      <td>4</td>\n",
              "      <td>4</td>\n",
              "      <td>4</td>\n",
              "      <td>4</td>\n",
              "    </tr>\n",
              "    <tr>\n",
              "      <th>М,4</th>\n",
              "      <td>16</td>\n",
              "      <td>16</td>\n",
              "      <td>16</td>\n",
              "      <td>16</td>\n",
              "      <td>16</td>\n",
              "      <td>16</td>\n",
              "      <td>16</td>\n",
              "      <td>16</td>\n",
              "    </tr>\n",
              "    <tr>\n",
              "      <th>М,4,5</th>\n",
              "      <td>1</td>\n",
              "      <td>1</td>\n",
              "      <td>1</td>\n",
              "      <td>1</td>\n",
              "      <td>1</td>\n",
              "      <td>1</td>\n",
              "      <td>1</td>\n",
              "      <td>1</td>\n",
              "    </tr>\n",
              "    <tr>\n",
              "      <th>М,5</th>\n",
              "      <td>9</td>\n",
              "      <td>9</td>\n",
              "      <td>9</td>\n",
              "      <td>9</td>\n",
              "      <td>9</td>\n",
              "      <td>9</td>\n",
              "      <td>9</td>\n",
              "      <td>9</td>\n",
              "    </tr>\n",
              "    <tr>\n",
              "      <th>М,6</th>\n",
              "      <td>6</td>\n",
              "      <td>6</td>\n",
              "      <td>6</td>\n",
              "      <td>6</td>\n",
              "      <td>6</td>\n",
              "      <td>6</td>\n",
              "      <td>6</td>\n",
              "      <td>6</td>\n",
              "    </tr>\n",
              "    <tr>\n",
              "      <th>М,7</th>\n",
              "      <td>1</td>\n",
              "      <td>1</td>\n",
              "      <td>1</td>\n",
              "      <td>1</td>\n",
              "      <td>1</td>\n",
              "      <td>1</td>\n",
              "      <td>1</td>\n",
              "      <td>1</td>\n",
              "    </tr>\n",
              "    <tr>\n",
              "      <th>М,8</th>\n",
              "      <td>2</td>\n",
              "      <td>2</td>\n",
              "      <td>2</td>\n",
              "      <td>2</td>\n",
              "      <td>2</td>\n",
              "      <td>2</td>\n",
              "      <td>2</td>\n",
              "      <td>2</td>\n",
              "    </tr>\n",
              "    <tr>\n",
              "      <th>М,9</th>\n",
              "      <td>3</td>\n",
              "      <td>3</td>\n",
              "      <td>3</td>\n",
              "      <td>3</td>\n",
              "      <td>3</td>\n",
              "      <td>3</td>\n",
              "      <td>3</td>\n",
              "      <td>3</td>\n",
              "    </tr>\n",
              "    <tr>\n",
              "      <th>М,П,2</th>\n",
              "      <td>2</td>\n",
              "      <td>2</td>\n",
              "      <td>2</td>\n",
              "      <td>2</td>\n",
              "      <td>2</td>\n",
              "      <td>2</td>\n",
              "      <td>2</td>\n",
              "      <td>2</td>\n",
              "    </tr>\n",
              "    <tr>\n",
              "      <th>Н</th>\n",
              "      <td>18</td>\n",
              "      <td>18</td>\n",
              "      <td>18</td>\n",
              "      <td>18</td>\n",
              "      <td>18</td>\n",
              "      <td>18</td>\n",
              "      <td>18</td>\n",
              "      <td>18</td>\n",
              "    </tr>\n",
              "    <tr>\n",
              "      <th>Н,2</th>\n",
              "      <td>1</td>\n",
              "      <td>1</td>\n",
              "      <td>1</td>\n",
              "      <td>1</td>\n",
              "      <td>1</td>\n",
              "      <td>1</td>\n",
              "      <td>1</td>\n",
              "      <td>1</td>\n",
              "    </tr>\n",
              "    <tr>\n",
              "      <th>Н,3</th>\n",
              "      <td>2</td>\n",
              "      <td>2</td>\n",
              "      <td>2</td>\n",
              "      <td>2</td>\n",
              "      <td>2</td>\n",
              "      <td>2</td>\n",
              "      <td>2</td>\n",
              "      <td>2</td>\n",
              "    </tr>\n",
              "    <tr>\n",
              "      <th>Н,3,4</th>\n",
              "      <td>2</td>\n",
              "      <td>2</td>\n",
              "      <td>2</td>\n",
              "      <td>2</td>\n",
              "      <td>2</td>\n",
              "      <td>2</td>\n",
              "      <td>2</td>\n",
              "      <td>2</td>\n",
              "    </tr>\n",
              "    <tr>\n",
              "      <th>Н,4</th>\n",
              "      <td>10</td>\n",
              "      <td>10</td>\n",
              "      <td>10</td>\n",
              "      <td>10</td>\n",
              "      <td>10</td>\n",
              "      <td>10</td>\n",
              "      <td>10</td>\n",
              "      <td>10</td>\n",
              "    </tr>\n",
              "    <tr>\n",
              "      <th>Н,4,5</th>\n",
              "      <td>1</td>\n",
              "      <td>1</td>\n",
              "      <td>1</td>\n",
              "      <td>1</td>\n",
              "      <td>1</td>\n",
              "      <td>1</td>\n",
              "      <td>1</td>\n",
              "      <td>1</td>\n",
              "    </tr>\n",
              "    <tr>\n",
              "      <th>Н,5</th>\n",
              "      <td>6</td>\n",
              "      <td>6</td>\n",
              "      <td>6</td>\n",
              "      <td>6</td>\n",
              "      <td>6</td>\n",
              "      <td>6</td>\n",
              "      <td>6</td>\n",
              "      <td>6</td>\n",
              "    </tr>\n",
              "    <tr>\n",
              "      <th>Н,9</th>\n",
              "      <td>3</td>\n",
              "      <td>3</td>\n",
              "      <td>3</td>\n",
              "      <td>3</td>\n",
              "      <td>3</td>\n",
              "      <td>3</td>\n",
              "      <td>3</td>\n",
              "      <td>3</td>\n",
              "    </tr>\n",
              "    <tr>\n",
              "      <th>Н,М</th>\n",
              "      <td>4</td>\n",
              "      <td>4</td>\n",
              "      <td>4</td>\n",
              "      <td>4</td>\n",
              "      <td>4</td>\n",
              "      <td>4</td>\n",
              "      <td>4</td>\n",
              "      <td>4</td>\n",
              "    </tr>\n",
              "    <tr>\n",
              "      <th>Н,М,4</th>\n",
              "      <td>1</td>\n",
              "      <td>1</td>\n",
              "      <td>1</td>\n",
              "      <td>1</td>\n",
              "      <td>1</td>\n",
              "      <td>1</td>\n",
              "      <td>1</td>\n",
              "      <td>1</td>\n",
              "    </tr>\n",
              "    <tr>\n",
              "      <th>П,1</th>\n",
              "      <td>5</td>\n",
              "      <td>5</td>\n",
              "      <td>5</td>\n",
              "      <td>5</td>\n",
              "      <td>5</td>\n",
              "      <td>5</td>\n",
              "      <td>5</td>\n",
              "      <td>5</td>\n",
              "    </tr>\n",
              "    <tr>\n",
              "      <th>Пп</th>\n",
              "      <td>3</td>\n",
              "      <td>3</td>\n",
              "      <td>3</td>\n",
              "      <td>3</td>\n",
              "      <td>3</td>\n",
              "      <td>3</td>\n",
              "      <td>3</td>\n",
              "      <td>3</td>\n",
              "    </tr>\n",
              "    <tr>\n",
              "      <th>Пп,1</th>\n",
              "      <td>3</td>\n",
              "      <td>3</td>\n",
              "      <td>3</td>\n",
              "      <td>3</td>\n",
              "      <td>3</td>\n",
              "      <td>3</td>\n",
              "      <td>3</td>\n",
              "      <td>3</td>\n",
              "    </tr>\n",
              "  </tbody>\n",
              "</table>\n",
              "</div>"
            ],
            "text/plain": [
              "          flour  condition  building_type  balcony_type  District  Price  \\\n",
              "Floor                                                                      \n",
              "1           124        124            124           124       124    124   \n",
              "1,2           3          3              3             3         3      3   \n",
              "1,2,3         1          1              1             1         1      1   \n",
              "10           42         42             42            42        42     42   \n",
              "10,11         2          2              2             2         2      2   \n",
              "11           49         49             49            49        49     49   \n",
              "12           36         36             36            36        36     36   \n",
              "12,13         2          2              2             2         2      2   \n",
              "13           48         48             48            48        48     48   \n",
              "13,14,15      1          1              1             1         1      1   \n",
              "14           26         26             26            26        26     26   \n",
              "14,15         1          1              1             1         1      1   \n",
              "15           17         17             17            17        17     17   \n",
              "15,16         1          1              1             1         1      1   \n",
              "15,16,17      1          1              1             1         1      1   \n",
              "16           10         10             10            10        10     10   \n",
              "16,17         3          3              3             3         3      3   \n",
              "17            6          6              6             6         6      6   \n",
              "18            3          3              3             3         3      3   \n",
              "2           245        245            245           245       245    245   \n",
              "2,3           2          2              2             2         2      2   \n",
              "3           246        246            246           246       246    246   \n",
              "3,4           2          2              2             2         2      2   \n",
              "4           308        308            308           308       308    308   \n",
              "4,5           6          6              6             6         6      6   \n",
              "5           276        276            276           276       276    276   \n",
              "5,6           5          5              5             5         5      5   \n",
              "5,6,7         1          1              1             1         1      1   \n",
              "6           100        100            100           100       100    100   \n",
              "7            89         89             89            89        89     89   \n",
              "8            89         89             89            89        89     89   \n",
              "8,9           1          1              1             1         1      1   \n",
              "9            84         84             84            84        84     84   \n",
              "Б            92         92             92            92        92     92   \n",
              "Б,П           2          2              2             2         2      2   \n",
              "Б,Пп          5          5              5             5         5      5   \n",
              "М            10         10             10            10        10     10   \n",
              "М,10          1          1              1             1         1      1   \n",
              "М,2           4          4              4             4         4      4   \n",
              "М,3           4          4              4             4         4      4   \n",
              "М,4          16         16             16            16        16     16   \n",
              "М,4,5         1          1              1             1         1      1   \n",
              "М,5           9          9              9             9         9      9   \n",
              "М,6           6          6              6             6         6      6   \n",
              "М,7           1          1              1             1         1      1   \n",
              "М,8           2          2              2             2         2      2   \n",
              "М,9           3          3              3             3         3      3   \n",
              "М,П,2         2          2              2             2         2      2   \n",
              "Н            18         18             18            18        18     18   \n",
              "Н,2           1          1              1             1         1      1   \n",
              "Н,3           2          2              2             2         2      2   \n",
              "Н,3,4         2          2              2             2         2      2   \n",
              "Н,4          10         10             10            10        10     10   \n",
              "Н,4,5         1          1              1             1         1      1   \n",
              "Н,5           6          6              6             6         6      6   \n",
              "Н,9           3          3              3             3         3      3   \n",
              "Н,М           4          4              4             4         4      4   \n",
              "Н,М,4         1          1              1             1         1      1   \n",
              "П,1           5          5              5             5         5      5   \n",
              "Пп            3          3              3             3         3      3   \n",
              "Пп,1          3          3              3             3         3      3   \n",
              "\n",
              "          Total Area(m2)  Room Count  \n",
              "Floor                                 \n",
              "1                    124         124  \n",
              "1,2                    3           3  \n",
              "1,2,3                  1           1  \n",
              "10                    42          42  \n",
              "10,11                  2           2  \n",
              "11                    49          49  \n",
              "12                    36          36  \n",
              "12,13                  2           2  \n",
              "13                    48          48  \n",
              "13,14,15               1           1  \n",
              "14                    26          26  \n",
              "14,15                  1           1  \n",
              "15                    17          17  \n",
              "15,16                  1           1  \n",
              "15,16,17               1           1  \n",
              "16                    10          10  \n",
              "16,17                  3           3  \n",
              "17                     6           6  \n",
              "18                     3           3  \n",
              "2                    245         245  \n",
              "2,3                    2           2  \n",
              "3                    246         246  \n",
              "3,4                    2           2  \n",
              "4                    308         308  \n",
              "4,5                    6           6  \n",
              "5                    276         276  \n",
              "5,6                    5           5  \n",
              "5,6,7                  1           1  \n",
              "6                    100         100  \n",
              "7                     89          89  \n",
              "8                     89          89  \n",
              "8,9                    1           1  \n",
              "9                     84          84  \n",
              "Б                     92          92  \n",
              "Б,П                    2           2  \n",
              "Б,Пп                   5           5  \n",
              "М                     10          10  \n",
              "М,10                   1           1  \n",
              "М,2                    4           4  \n",
              "М,3                    4           4  \n",
              "М,4                   16          16  \n",
              "М,4,5                  1           1  \n",
              "М,5                    9           9  \n",
              "М,6                    6           6  \n",
              "М,7                    1           1  \n",
              "М,8                    2           2  \n",
              "М,9                    3           3  \n",
              "М,П,2                  2           2  \n",
              "Н                     18          18  \n",
              "Н,2                    1           1  \n",
              "Н,3                    2           2  \n",
              "Н,3,4                  2           2  \n",
              "Н,4                   10          10  \n",
              "Н,4,5                  1           1  \n",
              "Н,5                    6           6  \n",
              "Н,9                    3           3  \n",
              "Н,М                    4           4  \n",
              "Н,М,4                  1           1  \n",
              "П,1                    5           5  \n",
              "Пп                     3           3  \n",
              "Пп,1                   3           3  "
            ]
          },
          "metadata": {
            "tags": []
          },
          "execution_count": 56
        }
      ]
    },
    {
      "cell_type": "markdown",
      "metadata": {
        "id": "vT1gPXJF6DWD",
        "colab_type": "text"
      },
      "source": [
        "In order to understand the meaning of this Russion letters under the Floor column I revisited the website from which I have scraped this data.\n",
        "\n",
        "There are basement or roof top and other types of floores that have specific names and they aren't considered as a regular floor. Also we have large apartments which have several floors. \n",
        "\n",
        "I will replace this letter values with appropriate numerical values and, for several floor apartments we will keep the mean of those floors."
      ]
    },
    {
      "cell_type": "code",
      "metadata": {
        "id": "ljxikLsJMY-g",
        "colab_type": "code",
        "colab": {}
      },
      "source": [
        "new_values = {'4':'4', '2':'2', '3':'3', '9':'9', '8':'8', \n",
        "              '5':'5', 'Б':'1', '1':'1', '6':'6',\n",
        "              '7':'7', '11':'11', '13':'13', '14':'14',\n",
        "              '15':'15', '2,3':'3', '10':'10', '16':'16', \n",
        "              '17':'17', '18':'18', '12':'12', '4,5':'5', 'М,4':'4',\n",
        "              '5,6':'6', 'Н,5':'5', 'М,5':'5', 'М,3':'3', 'Н,4':'4', 'Н':'4', \n",
        "              '10,11':'11', 'М':'4', '1,2':'2', 'Б,П':'0',\n",
        "              'Б,Пп':'0', 'Н,9':'9', '12,13':'13', '16,17':'17', 'Н,М':'5',\n",
        "              '5,6,7':'6', 'М,9':'9', 'Н,3':'3', 'М,6':'6', 'П,1':'1', '8,9':'9', \n",
        "              'Н,3,4':'3', 'Пп':'0', '1,2,3':'2', 'М,8':'8', '15,16':'16',\n",
        "              'Н,М,4':'4', 'Н,4,5':'4', 'М,П,2':'2', 'Пп,1':'1', 'М,2':'2', \n",
        "              'М,10':'10', 'Н,2':'2', '14,15':'15', '3,4':'4', '15,16,17':'16',\n",
        "              'М,4,5':'4', 'М,7':'7', '13,14,15':'14'}\n",
        "    \n",
        "df['Floor'] = df['Floor'].map(new_values)"
      ],
      "execution_count": 58,
      "outputs": []
    },
    {
      "cell_type": "code",
      "metadata": {
        "id": "2AajqJdAMB8R",
        "colab_type": "code",
        "colab": {
          "base_uri": "https://localhost:8080/",
          "height": 51
        },
        "outputId": "fdc8c7af-ee0b-47c0-8120-697745e18167"
      },
      "source": [
        "df['Floor'].unique()"
      ],
      "execution_count": 59,
      "outputs": [
        {
          "output_type": "execute_result",
          "data": {
            "text/plain": [
              "array(['4', '2', '3', '9', '8', '5', '1', '6', '7', '11', '13', '14',\n",
              "       '15', '10', '16', '17', '18', '12', '0'], dtype=object)"
            ]
          },
          "metadata": {
            "tags": []
          },
          "execution_count": 59
        }
      ]
    },
    {
      "cell_type": "code",
      "metadata": {
        "id": "8OvlQz3xUxGj",
        "colab_type": "code",
        "colab": {}
      },
      "source": [
        "df['Floor'] = pd.to_numeric(df['Floor'])"
      ],
      "execution_count": 60,
      "outputs": []
    },
    {
      "cell_type": "code",
      "metadata": {
        "id": "z5_bxmpoVACn",
        "colab_type": "code",
        "colab": {
          "base_uri": "https://localhost:8080/",
          "height": 34
        },
        "outputId": "17d71b09-1c0b-4920-afbb-42e09d46b86d"
      },
      "source": [
        "type(df['Floor'][0])"
      ],
      "execution_count": 61,
      "outputs": [
        {
          "output_type": "execute_result",
          "data": {
            "text/plain": [
              "numpy.int64"
            ]
          },
          "metadata": {
            "tags": []
          },
          "execution_count": 61
        }
      ]
    },
    {
      "cell_type": "code",
      "metadata": {
        "id": "c4qzl8Q47vx2",
        "colab_type": "code",
        "colab": {}
      },
      "source": [
        "df = df.drop(['flour'], axis=1)"
      ],
      "execution_count": 62,
      "outputs": []
    },
    {
      "cell_type": "code",
      "metadata": {
        "id": "GPHLUXz_taGj",
        "colab_type": "code",
        "colab": {
          "base_uri": "https://localhost:8080/",
          "height": 204
        },
        "outputId": "925f9a25-cac4-4cc7-9e73-4b1eee8b9f36"
      },
      "source": [
        "df.head()"
      ],
      "execution_count": 63,
      "outputs": [
        {
          "output_type": "execute_result",
          "data": {
            "text/html": [
              "<div>\n",
              "<style scoped>\n",
              "    .dataframe tbody tr th:only-of-type {\n",
              "        vertical-align: middle;\n",
              "    }\n",
              "\n",
              "    .dataframe tbody tr th {\n",
              "        vertical-align: top;\n",
              "    }\n",
              "\n",
              "    .dataframe thead th {\n",
              "        text-align: right;\n",
              "    }\n",
              "</style>\n",
              "<table border=\"1\" class=\"dataframe\">\n",
              "  <thead>\n",
              "    <tr style=\"text-align: right;\">\n",
              "      <th></th>\n",
              "      <th>condition</th>\n",
              "      <th>building_type</th>\n",
              "      <th>balcony_type</th>\n",
              "      <th>District</th>\n",
              "      <th>Price</th>\n",
              "      <th>Total Area(m2)</th>\n",
              "      <th>Room Count</th>\n",
              "      <th>Floor</th>\n",
              "    </tr>\n",
              "  </thead>\n",
              "  <tbody>\n",
              "    <tr>\n",
              "      <th>0</th>\n",
              "      <td>repair</td>\n",
              "      <td>['type', 'High-rise']</td>\n",
              "      <td>Large</td>\n",
              "      <td>Erebuni</td>\n",
              "      <td>52000</td>\n",
              "      <td>66</td>\n",
              "      <td>2</td>\n",
              "      <td>4</td>\n",
              "    </tr>\n",
              "    <tr>\n",
              "      <th>1</th>\n",
              "      <td>repair</td>\n",
              "      <td>['type', 'Stone']</td>\n",
              "      <td>Large</td>\n",
              "      <td>Downtown</td>\n",
              "      <td>130000</td>\n",
              "      <td>90</td>\n",
              "      <td>3</td>\n",
              "      <td>2</td>\n",
              "    </tr>\n",
              "    <tr>\n",
              "      <th>2</th>\n",
              "      <td>Repairing</td>\n",
              "      <td>['type', 'High-rise']</td>\n",
              "      <td>Large</td>\n",
              "      <td>Downtown</td>\n",
              "      <td>80000</td>\n",
              "      <td>42</td>\n",
              "      <td>1</td>\n",
              "      <td>3</td>\n",
              "    </tr>\n",
              "    <tr>\n",
              "      <th>3</th>\n",
              "      <td>3-5y</td>\n",
              "      <td>['type', 'High-rise']</td>\n",
              "      <td>Lodgia</td>\n",
              "      <td>Downtown</td>\n",
              "      <td>55000</td>\n",
              "      <td>37</td>\n",
              "      <td>1</td>\n",
              "      <td>9</td>\n",
              "    </tr>\n",
              "    <tr>\n",
              "      <th>4</th>\n",
              "      <td>repair</td>\n",
              "      <td>['type', 'High-rise']</td>\n",
              "      <td>Large</td>\n",
              "      <td>Nork</td>\n",
              "      <td>47000</td>\n",
              "      <td>63</td>\n",
              "      <td>2</td>\n",
              "      <td>8</td>\n",
              "    </tr>\n",
              "  </tbody>\n",
              "</table>\n",
              "</div>"
            ],
            "text/plain": [
              "   condition          building_type balcony_type  District   Price  \\\n",
              "0     repair  ['type', 'High-rise']        Large   Erebuni   52000   \n",
              "1     repair      ['type', 'Stone']        Large  Downtown  130000   \n",
              "2  Repairing  ['type', 'High-rise']        Large  Downtown   80000   \n",
              "3       3-5y  ['type', 'High-rise']       Lodgia  Downtown   55000   \n",
              "4     repair  ['type', 'High-rise']        Large      Nork   47000   \n",
              "\n",
              "   Total Area(m2)  Room Count  Floor  \n",
              "0              66           2      4  \n",
              "1              90           3      2  \n",
              "2              42           1      3  \n",
              "3              37           1      9  \n",
              "4              63           2      8  "
            ]
          },
          "metadata": {
            "tags": []
          },
          "execution_count": 63
        }
      ]
    },
    {
      "cell_type": "markdown",
      "metadata": {
        "id": "9KxAK8jDaszV",
        "colab_type": "text"
      },
      "source": [
        "***'condition' column***"
      ]
    },
    {
      "cell_type": "code",
      "metadata": {
        "id": "9B9UZd3Gaydg",
        "colab_type": "code",
        "colab": {
          "base_uri": "https://localhost:8080/",
          "height": 34
        },
        "outputId": "1adefff5-4f9c-4ece-e5ae-33abfaefd2fe"
      },
      "source": [
        "type(df['condition'][0])"
      ],
      "execution_count": 64,
      "outputs": [
        {
          "output_type": "execute_result",
          "data": {
            "text/plain": [
              "str"
            ]
          },
          "metadata": {
            "tags": []
          },
          "execution_count": 64
        }
      ]
    },
    {
      "cell_type": "code",
      "metadata": {
        "id": "j-Gjgb3-bEtn",
        "colab_type": "code",
        "colab": {
          "base_uri": "https://localhost:8080/",
          "height": 34
        },
        "outputId": "5fb285b0-1c73-40fc-f006-c1609391f97c"
      },
      "source": [
        "df['condition'].nunique()"
      ],
      "execution_count": 65,
      "outputs": [
        {
          "output_type": "execute_result",
          "data": {
            "text/plain": [
              "8"
            ]
          },
          "metadata": {
            "tags": []
          },
          "execution_count": 65
        }
      ]
    },
    {
      "cell_type": "code",
      "metadata": {
        "id": "AUfs8ArqbsqK",
        "colab_type": "code",
        "colab": {
          "base_uri": "https://localhost:8080/",
          "height": 51
        },
        "outputId": "3456738f-acc9-46af-c005-d4712e114bd8"
      },
      "source": [
        "df['condition'].unique()"
      ],
      "execution_count": 66,
      "outputs": [
        {
          "output_type": "execute_result",
          "data": {
            "text/plain": [
              "array(['repair', 'Repairing', '3-5y', 'Original', '2y.', 'repairs',\n",
              "       'req.', 'Ruins'], dtype=object)"
            ]
          },
          "metadata": {
            "tags": []
          },
          "execution_count": 66
        }
      ]
    },
    {
      "cell_type": "markdown",
      "metadata": {
        "id": "6TfwVf3Cflxs",
        "colab_type": "text"
      },
      "source": [
        "I displayed all the data and tried to understand 'req.' meaning, based on other conditions, just to be sure, those are old Soviet buildings which require repairing.\n",
        "\n",
        "As we see from our unique values, Repaired condition is written in 3 different ways. To solve it we will assign the same value instead of that."
      ]
    },
    {
      "cell_type": "code",
      "metadata": {
        "id": "yDFh9zpN3nLv",
        "colab_type": "code",
        "colab": {}
      },
      "source": [
        "corrected_values = {'repair':'Repaired', 'Repairing':'Repaired', '3-5y':'3-5 Years','Original':'Original', '2y.':'2 Years', \n",
        "     'repairs':'Repaired', 'req.':'Needs Repairing', 'Ruins':'Ruins'}\n",
        "\n",
        "df['Condition'] = df['condition'].map(corrected_values)"
      ],
      "execution_count": 68,
      "outputs": []
    },
    {
      "cell_type": "code",
      "metadata": {
        "id": "yVEHNzqVWKBl",
        "colab_type": "code",
        "colab": {
          "base_uri": "https://localhost:8080/",
          "height": 204
        },
        "outputId": "80cac5c1-9178-4310-f895-f71c3972efb0"
      },
      "source": [
        "df.head()"
      ],
      "execution_count": 69,
      "outputs": [
        {
          "output_type": "execute_result",
          "data": {
            "text/html": [
              "<div>\n",
              "<style scoped>\n",
              "    .dataframe tbody tr th:only-of-type {\n",
              "        vertical-align: middle;\n",
              "    }\n",
              "\n",
              "    .dataframe tbody tr th {\n",
              "        vertical-align: top;\n",
              "    }\n",
              "\n",
              "    .dataframe thead th {\n",
              "        text-align: right;\n",
              "    }\n",
              "</style>\n",
              "<table border=\"1\" class=\"dataframe\">\n",
              "  <thead>\n",
              "    <tr style=\"text-align: right;\">\n",
              "      <th></th>\n",
              "      <th>condition</th>\n",
              "      <th>building_type</th>\n",
              "      <th>balcony_type</th>\n",
              "      <th>District</th>\n",
              "      <th>Price</th>\n",
              "      <th>Total Area(m2)</th>\n",
              "      <th>Room Count</th>\n",
              "      <th>Floor</th>\n",
              "      <th>Condition</th>\n",
              "    </tr>\n",
              "  </thead>\n",
              "  <tbody>\n",
              "    <tr>\n",
              "      <th>0</th>\n",
              "      <td>repair</td>\n",
              "      <td>['type', 'High-rise']</td>\n",
              "      <td>Large</td>\n",
              "      <td>Erebuni</td>\n",
              "      <td>52000</td>\n",
              "      <td>66</td>\n",
              "      <td>2</td>\n",
              "      <td>4</td>\n",
              "      <td>Repaired</td>\n",
              "    </tr>\n",
              "    <tr>\n",
              "      <th>1</th>\n",
              "      <td>repair</td>\n",
              "      <td>['type', 'Stone']</td>\n",
              "      <td>Large</td>\n",
              "      <td>Downtown</td>\n",
              "      <td>130000</td>\n",
              "      <td>90</td>\n",
              "      <td>3</td>\n",
              "      <td>2</td>\n",
              "      <td>Repaired</td>\n",
              "    </tr>\n",
              "    <tr>\n",
              "      <th>2</th>\n",
              "      <td>Repairing</td>\n",
              "      <td>['type', 'High-rise']</td>\n",
              "      <td>Large</td>\n",
              "      <td>Downtown</td>\n",
              "      <td>80000</td>\n",
              "      <td>42</td>\n",
              "      <td>1</td>\n",
              "      <td>3</td>\n",
              "      <td>Repaired</td>\n",
              "    </tr>\n",
              "    <tr>\n",
              "      <th>3</th>\n",
              "      <td>3-5y</td>\n",
              "      <td>['type', 'High-rise']</td>\n",
              "      <td>Lodgia</td>\n",
              "      <td>Downtown</td>\n",
              "      <td>55000</td>\n",
              "      <td>37</td>\n",
              "      <td>1</td>\n",
              "      <td>9</td>\n",
              "      <td>3-5 Years</td>\n",
              "    </tr>\n",
              "    <tr>\n",
              "      <th>4</th>\n",
              "      <td>repair</td>\n",
              "      <td>['type', 'High-rise']</td>\n",
              "      <td>Large</td>\n",
              "      <td>Nork</td>\n",
              "      <td>47000</td>\n",
              "      <td>63</td>\n",
              "      <td>2</td>\n",
              "      <td>8</td>\n",
              "      <td>Repaired</td>\n",
              "    </tr>\n",
              "  </tbody>\n",
              "</table>\n",
              "</div>"
            ],
            "text/plain": [
              "   condition          building_type balcony_type  District   Price  \\\n",
              "0     repair  ['type', 'High-rise']        Large   Erebuni   52000   \n",
              "1     repair      ['type', 'Stone']        Large  Downtown  130000   \n",
              "2  Repairing  ['type', 'High-rise']        Large  Downtown   80000   \n",
              "3       3-5y  ['type', 'High-rise']       Lodgia  Downtown   55000   \n",
              "4     repair  ['type', 'High-rise']        Large      Nork   47000   \n",
              "\n",
              "   Total Area(m2)  Room Count  Floor  Condition  \n",
              "0              66           2      4   Repaired  \n",
              "1              90           3      2   Repaired  \n",
              "2              42           1      3   Repaired  \n",
              "3              37           1      9  3-5 Years  \n",
              "4              63           2      8   Repaired  "
            ]
          },
          "metadata": {
            "tags": []
          },
          "execution_count": 69
        }
      ]
    },
    {
      "cell_type": "code",
      "metadata": {
        "id": "QztemRuU6PAh",
        "colab_type": "code",
        "colab": {
          "base_uri": "https://localhost:8080/",
          "height": 51
        },
        "outputId": "b6553fc4-ce2b-4d12-c8e2-213cbd1e6ed5"
      },
      "source": [
        "df['Condition'].unique()"
      ],
      "execution_count": 70,
      "outputs": [
        {
          "output_type": "execute_result",
          "data": {
            "text/plain": [
              "array(['Repaired', '3-5 Years', 'Original', '2 Years', 'Needs Repairing',\n",
              "       'Ruins'], dtype=object)"
            ]
          },
          "metadata": {
            "tags": []
          },
          "execution_count": 70
        }
      ]
    },
    {
      "cell_type": "code",
      "metadata": {
        "id": "M4ibadVj7ecp",
        "colab_type": "code",
        "colab": {
          "base_uri": "https://localhost:8080/",
          "height": 34
        },
        "outputId": "1f40510d-a673-4b3a-847f-6ef9b9f2e02c"
      },
      "source": [
        "df['Condition'].nunique()"
      ],
      "execution_count": 71,
      "outputs": [
        {
          "output_type": "execute_result",
          "data": {
            "text/plain": [
              "6"
            ]
          },
          "metadata": {
            "tags": []
          },
          "execution_count": 71
        }
      ]
    },
    {
      "cell_type": "code",
      "metadata": {
        "id": "YYy7a9YUWh-8",
        "colab_type": "code",
        "colab": {}
      },
      "source": [
        "df = df.drop(['condition'], axis=1)"
      ],
      "execution_count": 72,
      "outputs": []
    },
    {
      "cell_type": "markdown",
      "metadata": {
        "id": "EU5AW6yw7kWV",
        "colab_type": "text"
      },
      "source": [
        "***'building_type'*** column"
      ]
    },
    {
      "cell_type": "code",
      "metadata": {
        "id": "CcPCl1xp7vcp",
        "colab_type": "code",
        "colab": {
          "base_uri": "https://localhost:8080/",
          "height": 34
        },
        "outputId": "e3573804-b78d-404a-82bc-e4f36a218a4e"
      },
      "source": [
        "type(df['building_type'][0])"
      ],
      "execution_count": 73,
      "outputs": [
        {
          "output_type": "execute_result",
          "data": {
            "text/plain": [
              "str"
            ]
          },
          "metadata": {
            "tags": []
          },
          "execution_count": 73
        }
      ]
    },
    {
      "cell_type": "code",
      "metadata": {
        "id": "CQ2Kvvrt8QWj",
        "colab_type": "code",
        "colab": {
          "base_uri": "https://localhost:8080/",
          "height": 85
        },
        "outputId": "4ed56aa4-f012-4978-eee1-6e3af1289b21"
      },
      "source": [
        "df['building_type'].unique()"
      ],
      "execution_count": 74,
      "outputs": [
        {
          "output_type": "execute_result",
          "data": {
            "text/plain": [
              "array([\"['type', 'High-rise']\", \"['type', 'Stone']\",\n",
              "       \"['type', 'Khrushchev(2,75м)']\", \"['New', 'building']\",\n",
              "       \"['', 'b/o']\", \"['', 'w/o']\", \"['type', 'Khrushchev(2,5-2,6м)']\",\n",
              "       \"['type', 'Panel(5f.)']\", \"['type', 'Casset']\"], dtype=object)"
            ]
          },
          "metadata": {
            "tags": []
          },
          "execution_count": 74
        }
      ]
    },
    {
      "cell_type": "code",
      "metadata": {
        "id": "tmW-8LR-FqXM",
        "colab_type": "code",
        "colab": {}
      },
      "source": [
        "corrected_values_building = {\"['type', 'High-rise']\":\"High-rise\", \"['type', 'Stone']\":\"Stone\", \n",
        "                             \"['type', 'Khrushchev(2,75м)']\":\"Khrushchev(2,75м)\", \"['New', 'building']\":\"New Building\",\n",
        "                           \"['', 'b/o']\":\"Stalinian\", \"['', 'w/o']\":\"Stalinian\", \"['type', 'Khrushchev(2,5-2,6м)']\":\"Khrushchev(2,5-2,6м)\", \n",
        "                           \"['type', 'Panel(5f.)']\":\"Panel(5floor)\", \"['type', 'Casset']\":\"Casset\"}\n",
        "\n",
        "df['Building Type'] = df['building_type'].map(corrected_values_building)"
      ],
      "execution_count": 75,
      "outputs": []
    },
    {
      "cell_type": "code",
      "metadata": {
        "id": "Lvp9QYmrW89a",
        "colab_type": "code",
        "colab": {
          "base_uri": "https://localhost:8080/",
          "height": 204
        },
        "outputId": "701e5798-d5f2-4c75-be05-b5d54e4f3e53"
      },
      "source": [
        "df.head()"
      ],
      "execution_count": 76,
      "outputs": [
        {
          "output_type": "execute_result",
          "data": {
            "text/html": [
              "<div>\n",
              "<style scoped>\n",
              "    .dataframe tbody tr th:only-of-type {\n",
              "        vertical-align: middle;\n",
              "    }\n",
              "\n",
              "    .dataframe tbody tr th {\n",
              "        vertical-align: top;\n",
              "    }\n",
              "\n",
              "    .dataframe thead th {\n",
              "        text-align: right;\n",
              "    }\n",
              "</style>\n",
              "<table border=\"1\" class=\"dataframe\">\n",
              "  <thead>\n",
              "    <tr style=\"text-align: right;\">\n",
              "      <th></th>\n",
              "      <th>building_type</th>\n",
              "      <th>balcony_type</th>\n",
              "      <th>District</th>\n",
              "      <th>Price</th>\n",
              "      <th>Total Area(m2)</th>\n",
              "      <th>Room Count</th>\n",
              "      <th>Floor</th>\n",
              "      <th>Condition</th>\n",
              "      <th>Building Type</th>\n",
              "    </tr>\n",
              "  </thead>\n",
              "  <tbody>\n",
              "    <tr>\n",
              "      <th>0</th>\n",
              "      <td>['type', 'High-rise']</td>\n",
              "      <td>Large</td>\n",
              "      <td>Erebuni</td>\n",
              "      <td>52000</td>\n",
              "      <td>66</td>\n",
              "      <td>2</td>\n",
              "      <td>4</td>\n",
              "      <td>Repaired</td>\n",
              "      <td>High-rise</td>\n",
              "    </tr>\n",
              "    <tr>\n",
              "      <th>1</th>\n",
              "      <td>['type', 'Stone']</td>\n",
              "      <td>Large</td>\n",
              "      <td>Downtown</td>\n",
              "      <td>130000</td>\n",
              "      <td>90</td>\n",
              "      <td>3</td>\n",
              "      <td>2</td>\n",
              "      <td>Repaired</td>\n",
              "      <td>Stone</td>\n",
              "    </tr>\n",
              "    <tr>\n",
              "      <th>2</th>\n",
              "      <td>['type', 'High-rise']</td>\n",
              "      <td>Large</td>\n",
              "      <td>Downtown</td>\n",
              "      <td>80000</td>\n",
              "      <td>42</td>\n",
              "      <td>1</td>\n",
              "      <td>3</td>\n",
              "      <td>Repaired</td>\n",
              "      <td>High-rise</td>\n",
              "    </tr>\n",
              "    <tr>\n",
              "      <th>3</th>\n",
              "      <td>['type', 'High-rise']</td>\n",
              "      <td>Lodgia</td>\n",
              "      <td>Downtown</td>\n",
              "      <td>55000</td>\n",
              "      <td>37</td>\n",
              "      <td>1</td>\n",
              "      <td>9</td>\n",
              "      <td>3-5 Years</td>\n",
              "      <td>High-rise</td>\n",
              "    </tr>\n",
              "    <tr>\n",
              "      <th>4</th>\n",
              "      <td>['type', 'High-rise']</td>\n",
              "      <td>Large</td>\n",
              "      <td>Nork</td>\n",
              "      <td>47000</td>\n",
              "      <td>63</td>\n",
              "      <td>2</td>\n",
              "      <td>8</td>\n",
              "      <td>Repaired</td>\n",
              "      <td>High-rise</td>\n",
              "    </tr>\n",
              "  </tbody>\n",
              "</table>\n",
              "</div>"
            ],
            "text/plain": [
              "           building_type balcony_type  District   Price  Total Area(m2)  \\\n",
              "0  ['type', 'High-rise']        Large   Erebuni   52000              66   \n",
              "1      ['type', 'Stone']        Large  Downtown  130000              90   \n",
              "2  ['type', 'High-rise']        Large  Downtown   80000              42   \n",
              "3  ['type', 'High-rise']       Lodgia  Downtown   55000              37   \n",
              "4  ['type', 'High-rise']        Large      Nork   47000              63   \n",
              "\n",
              "   Room Count  Floor  Condition Building Type  \n",
              "0           2      4   Repaired     High-rise  \n",
              "1           3      2   Repaired         Stone  \n",
              "2           1      3   Repaired     High-rise  \n",
              "3           1      9  3-5 Years     High-rise  \n",
              "4           2      8   Repaired     High-rise  "
            ]
          },
          "metadata": {
            "tags": []
          },
          "execution_count": 76
        }
      ]
    },
    {
      "cell_type": "code",
      "metadata": {
        "id": "v6R9b9lci0F9",
        "colab_type": "code",
        "colab": {}
      },
      "source": [
        "df = df.drop(['building_type'], axis=1)"
      ],
      "execution_count": 77,
      "outputs": []
    },
    {
      "cell_type": "markdown",
      "metadata": {
        "id": "kR4ws3BFZfLA",
        "colab_type": "text"
      },
      "source": [
        "***'balcony_type'*** column"
      ]
    },
    {
      "cell_type": "code",
      "metadata": {
        "id": "AiFCIHuYZiVg",
        "colab_type": "code",
        "colab": {
          "base_uri": "https://localhost:8080/",
          "height": 34
        },
        "outputId": "94a96a3c-34f1-476d-9131-561c8cfe5d0b"
      },
      "source": [
        "type(df['balcony_type'][0])"
      ],
      "execution_count": 79,
      "outputs": [
        {
          "output_type": "execute_result",
          "data": {
            "text/plain": [
              "str"
            ]
          },
          "metadata": {
            "tags": []
          },
          "execution_count": 79
        }
      ]
    },
    {
      "cell_type": "code",
      "metadata": {
        "id": "XNu4mV49ZlW6",
        "colab_type": "code",
        "colab": {
          "base_uri": "https://localhost:8080/",
          "height": 34
        },
        "outputId": "c59d35c7-f988-44b2-f8ef-70332f389bc0"
      },
      "source": [
        "df['balcony_type'].unique()"
      ],
      "execution_count": 80,
      "outputs": [
        {
          "output_type": "execute_result",
          "data": {
            "text/plain": [
              "array(['Large', 'Lodgia', 'Front', 'French'], dtype=object)"
            ]
          },
          "metadata": {
            "tags": []
          },
          "execution_count": 80
        }
      ]
    },
    {
      "cell_type": "code",
      "metadata": {
        "id": "l_net_KlZrIz",
        "colab_type": "code",
        "colab": {
          "base_uri": "https://localhost:8080/",
          "height": 204
        },
        "outputId": "81468356-d8ab-403b-9310-5a7e1f0d3011"
      },
      "source": [
        "df.head()"
      ],
      "execution_count": 81,
      "outputs": [
        {
          "output_type": "execute_result",
          "data": {
            "text/html": [
              "<div>\n",
              "<style scoped>\n",
              "    .dataframe tbody tr th:only-of-type {\n",
              "        vertical-align: middle;\n",
              "    }\n",
              "\n",
              "    .dataframe tbody tr th {\n",
              "        vertical-align: top;\n",
              "    }\n",
              "\n",
              "    .dataframe thead th {\n",
              "        text-align: right;\n",
              "    }\n",
              "</style>\n",
              "<table border=\"1\" class=\"dataframe\">\n",
              "  <thead>\n",
              "    <tr style=\"text-align: right;\">\n",
              "      <th></th>\n",
              "      <th>balcony_type</th>\n",
              "      <th>District</th>\n",
              "      <th>Price</th>\n",
              "      <th>Total Area(m2)</th>\n",
              "      <th>Room Count</th>\n",
              "      <th>Floor</th>\n",
              "      <th>Condition</th>\n",
              "      <th>Building Type</th>\n",
              "    </tr>\n",
              "  </thead>\n",
              "  <tbody>\n",
              "    <tr>\n",
              "      <th>0</th>\n",
              "      <td>Large</td>\n",
              "      <td>Erebuni</td>\n",
              "      <td>52000</td>\n",
              "      <td>66</td>\n",
              "      <td>2</td>\n",
              "      <td>4</td>\n",
              "      <td>Repaired</td>\n",
              "      <td>High-rise</td>\n",
              "    </tr>\n",
              "    <tr>\n",
              "      <th>1</th>\n",
              "      <td>Large</td>\n",
              "      <td>Downtown</td>\n",
              "      <td>130000</td>\n",
              "      <td>90</td>\n",
              "      <td>3</td>\n",
              "      <td>2</td>\n",
              "      <td>Repaired</td>\n",
              "      <td>Stone</td>\n",
              "    </tr>\n",
              "    <tr>\n",
              "      <th>2</th>\n",
              "      <td>Large</td>\n",
              "      <td>Downtown</td>\n",
              "      <td>80000</td>\n",
              "      <td>42</td>\n",
              "      <td>1</td>\n",
              "      <td>3</td>\n",
              "      <td>Repaired</td>\n",
              "      <td>High-rise</td>\n",
              "    </tr>\n",
              "    <tr>\n",
              "      <th>3</th>\n",
              "      <td>Lodgia</td>\n",
              "      <td>Downtown</td>\n",
              "      <td>55000</td>\n",
              "      <td>37</td>\n",
              "      <td>1</td>\n",
              "      <td>9</td>\n",
              "      <td>3-5 Years</td>\n",
              "      <td>High-rise</td>\n",
              "    </tr>\n",
              "    <tr>\n",
              "      <th>4</th>\n",
              "      <td>Large</td>\n",
              "      <td>Nork</td>\n",
              "      <td>47000</td>\n",
              "      <td>63</td>\n",
              "      <td>2</td>\n",
              "      <td>8</td>\n",
              "      <td>Repaired</td>\n",
              "      <td>High-rise</td>\n",
              "    </tr>\n",
              "  </tbody>\n",
              "</table>\n",
              "</div>"
            ],
            "text/plain": [
              "  balcony_type  District   Price  Total Area(m2)  Room Count  Floor  \\\n",
              "0        Large   Erebuni   52000              66           2      4   \n",
              "1        Large  Downtown  130000              90           3      2   \n",
              "2        Large  Downtown   80000              42           1      3   \n",
              "3       Lodgia  Downtown   55000              37           1      9   \n",
              "4        Large      Nork   47000              63           2      8   \n",
              "\n",
              "   Condition Building Type  \n",
              "0   Repaired     High-rise  \n",
              "1   Repaired         Stone  \n",
              "2   Repaired     High-rise  \n",
              "3  3-5 Years     High-rise  \n",
              "4   Repaired     High-rise  "
            ]
          },
          "metadata": {
            "tags": []
          },
          "execution_count": 81
        }
      ]
    },
    {
      "cell_type": "code",
      "metadata": {
        "id": "Lz-kvCMqXYYi",
        "colab_type": "code",
        "colab": {}
      },
      "source": [
        "df['Balcony Type'] = df['balcony_type']"
      ],
      "execution_count": 82,
      "outputs": []
    },
    {
      "cell_type": "code",
      "metadata": {
        "id": "LASdb4DkX1V6",
        "colab_type": "code",
        "colab": {}
      },
      "source": [
        "df = df.drop(['balcony_type'], axis=1)"
      ],
      "execution_count": 83,
      "outputs": []
    },
    {
      "cell_type": "markdown",
      "metadata": {
        "id": "mjqP6c1cYDMl",
        "colab_type": "text"
      },
      "source": [
        "***Summary***\n",
        "\n",
        "We have cleaned our dataset and as a result we have: 4 numeric features 5 categorical features.\n",
        "\n",
        "We will save our data on data_cleaned.csv file.\n"
      ]
    },
    {
      "cell_type": "code",
      "metadata": {
        "id": "-0AUiWIqX-1b",
        "colab_type": "code",
        "colab": {
          "base_uri": "https://localhost:8080/",
          "height": 204
        },
        "outputId": "f821fad7-adff-40f4-f516-1f75db36daed"
      },
      "source": [
        "df.head()"
      ],
      "execution_count": 84,
      "outputs": [
        {
          "output_type": "execute_result",
          "data": {
            "text/html": [
              "<div>\n",
              "<style scoped>\n",
              "    .dataframe tbody tr th:only-of-type {\n",
              "        vertical-align: middle;\n",
              "    }\n",
              "\n",
              "    .dataframe tbody tr th {\n",
              "        vertical-align: top;\n",
              "    }\n",
              "\n",
              "    .dataframe thead th {\n",
              "        text-align: right;\n",
              "    }\n",
              "</style>\n",
              "<table border=\"1\" class=\"dataframe\">\n",
              "  <thead>\n",
              "    <tr style=\"text-align: right;\">\n",
              "      <th></th>\n",
              "      <th>District</th>\n",
              "      <th>Price</th>\n",
              "      <th>Total Area(m2)</th>\n",
              "      <th>Room Count</th>\n",
              "      <th>Floor</th>\n",
              "      <th>Condition</th>\n",
              "      <th>Building Type</th>\n",
              "      <th>Balcony Type</th>\n",
              "    </tr>\n",
              "  </thead>\n",
              "  <tbody>\n",
              "    <tr>\n",
              "      <th>0</th>\n",
              "      <td>Erebuni</td>\n",
              "      <td>52000</td>\n",
              "      <td>66</td>\n",
              "      <td>2</td>\n",
              "      <td>4</td>\n",
              "      <td>Repaired</td>\n",
              "      <td>High-rise</td>\n",
              "      <td>Large</td>\n",
              "    </tr>\n",
              "    <tr>\n",
              "      <th>1</th>\n",
              "      <td>Downtown</td>\n",
              "      <td>130000</td>\n",
              "      <td>90</td>\n",
              "      <td>3</td>\n",
              "      <td>2</td>\n",
              "      <td>Repaired</td>\n",
              "      <td>Stone</td>\n",
              "      <td>Large</td>\n",
              "    </tr>\n",
              "    <tr>\n",
              "      <th>2</th>\n",
              "      <td>Downtown</td>\n",
              "      <td>80000</td>\n",
              "      <td>42</td>\n",
              "      <td>1</td>\n",
              "      <td>3</td>\n",
              "      <td>Repaired</td>\n",
              "      <td>High-rise</td>\n",
              "      <td>Large</td>\n",
              "    </tr>\n",
              "    <tr>\n",
              "      <th>3</th>\n",
              "      <td>Downtown</td>\n",
              "      <td>55000</td>\n",
              "      <td>37</td>\n",
              "      <td>1</td>\n",
              "      <td>9</td>\n",
              "      <td>3-5 Years</td>\n",
              "      <td>High-rise</td>\n",
              "      <td>Lodgia</td>\n",
              "    </tr>\n",
              "    <tr>\n",
              "      <th>4</th>\n",
              "      <td>Nork</td>\n",
              "      <td>47000</td>\n",
              "      <td>63</td>\n",
              "      <td>2</td>\n",
              "      <td>8</td>\n",
              "      <td>Repaired</td>\n",
              "      <td>High-rise</td>\n",
              "      <td>Large</td>\n",
              "    </tr>\n",
              "  </tbody>\n",
              "</table>\n",
              "</div>"
            ],
            "text/plain": [
              "   District   Price  Total Area(m2)  Room Count  Floor  Condition  \\\n",
              "0   Erebuni   52000              66           2      4   Repaired   \n",
              "1  Downtown  130000              90           3      2   Repaired   \n",
              "2  Downtown   80000              42           1      3   Repaired   \n",
              "3  Downtown   55000              37           1      9  3-5 Years   \n",
              "4      Nork   47000              63           2      8   Repaired   \n",
              "\n",
              "  Building Type Balcony Type  \n",
              "0     High-rise        Large  \n",
              "1         Stone        Large  \n",
              "2     High-rise        Large  \n",
              "3     High-rise       Lodgia  \n",
              "4     High-rise        Large  "
            ]
          },
          "metadata": {
            "tags": []
          },
          "execution_count": 84
        }
      ]
    },
    {
      "cell_type": "code",
      "metadata": {
        "id": "shFgBSrTnShL",
        "colab_type": "code",
        "colab": {
          "base_uri": "https://localhost:8080/",
          "height": 51
        },
        "outputId": "9348359f-faee-4db0-d5be-c201568a3b96"
      },
      "source": [
        "df.columns.values"
      ],
      "execution_count": 85,
      "outputs": [
        {
          "output_type": "execute_result",
          "data": {
            "text/plain": [
              "array(['District', 'Price', 'Total Area(m2)', 'Room Count', 'Floor',\n",
              "       'Condition', 'Building Type', 'Balcony Type'], dtype=object)"
            ]
          },
          "metadata": {
            "tags": []
          },
          "execution_count": 85
        }
      ]
    },
    {
      "cell_type": "code",
      "metadata": {
        "id": "36zx43ghnY-A",
        "colab_type": "code",
        "colab": {}
      },
      "source": [
        "cols = ['Price', 'Total Area(m2)', 'Room Count', 'Floor',\n",
        "       'Condition', 'Building Type', 'Balcony Type', 'District']"
      ],
      "execution_count": 86,
      "outputs": []
    },
    {
      "cell_type": "code",
      "metadata": {
        "id": "X2WFOfpxnl6n",
        "colab_type": "code",
        "colab": {}
      },
      "source": [
        "data_cleaned = df[cols]"
      ],
      "execution_count": 87,
      "outputs": []
    },
    {
      "cell_type": "code",
      "metadata": {
        "id": "cqZ1noV-n7sK",
        "colab_type": "code",
        "colab": {
          "base_uri": "https://localhost:8080/",
          "height": 204
        },
        "outputId": "45922450-1090-4197-ad5b-b35152ee66b1"
      },
      "source": [
        "data_cleaned.head()"
      ],
      "execution_count": 88,
      "outputs": [
        {
          "output_type": "execute_result",
          "data": {
            "text/html": [
              "<div>\n",
              "<style scoped>\n",
              "    .dataframe tbody tr th:only-of-type {\n",
              "        vertical-align: middle;\n",
              "    }\n",
              "\n",
              "    .dataframe tbody tr th {\n",
              "        vertical-align: top;\n",
              "    }\n",
              "\n",
              "    .dataframe thead th {\n",
              "        text-align: right;\n",
              "    }\n",
              "</style>\n",
              "<table border=\"1\" class=\"dataframe\">\n",
              "  <thead>\n",
              "    <tr style=\"text-align: right;\">\n",
              "      <th></th>\n",
              "      <th>Price</th>\n",
              "      <th>Total Area(m2)</th>\n",
              "      <th>Room Count</th>\n",
              "      <th>Floor</th>\n",
              "      <th>Condition</th>\n",
              "      <th>Building Type</th>\n",
              "      <th>Balcony Type</th>\n",
              "      <th>District</th>\n",
              "    </tr>\n",
              "  </thead>\n",
              "  <tbody>\n",
              "    <tr>\n",
              "      <th>0</th>\n",
              "      <td>52000</td>\n",
              "      <td>66</td>\n",
              "      <td>2</td>\n",
              "      <td>4</td>\n",
              "      <td>Repaired</td>\n",
              "      <td>High-rise</td>\n",
              "      <td>Large</td>\n",
              "      <td>Erebuni</td>\n",
              "    </tr>\n",
              "    <tr>\n",
              "      <th>1</th>\n",
              "      <td>130000</td>\n",
              "      <td>90</td>\n",
              "      <td>3</td>\n",
              "      <td>2</td>\n",
              "      <td>Repaired</td>\n",
              "      <td>Stone</td>\n",
              "      <td>Large</td>\n",
              "      <td>Downtown</td>\n",
              "    </tr>\n",
              "    <tr>\n",
              "      <th>2</th>\n",
              "      <td>80000</td>\n",
              "      <td>42</td>\n",
              "      <td>1</td>\n",
              "      <td>3</td>\n",
              "      <td>Repaired</td>\n",
              "      <td>High-rise</td>\n",
              "      <td>Large</td>\n",
              "      <td>Downtown</td>\n",
              "    </tr>\n",
              "    <tr>\n",
              "      <th>3</th>\n",
              "      <td>55000</td>\n",
              "      <td>37</td>\n",
              "      <td>1</td>\n",
              "      <td>9</td>\n",
              "      <td>3-5 Years</td>\n",
              "      <td>High-rise</td>\n",
              "      <td>Lodgia</td>\n",
              "      <td>Downtown</td>\n",
              "    </tr>\n",
              "    <tr>\n",
              "      <th>4</th>\n",
              "      <td>47000</td>\n",
              "      <td>63</td>\n",
              "      <td>2</td>\n",
              "      <td>8</td>\n",
              "      <td>Repaired</td>\n",
              "      <td>High-rise</td>\n",
              "      <td>Large</td>\n",
              "      <td>Nork</td>\n",
              "    </tr>\n",
              "  </tbody>\n",
              "</table>\n",
              "</div>"
            ],
            "text/plain": [
              "    Price  Total Area(m2)  Room Count  Floor  Condition Building Type  \\\n",
              "0   52000              66           2      4   Repaired     High-rise   \n",
              "1  130000              90           3      2   Repaired         Stone   \n",
              "2   80000              42           1      3   Repaired     High-rise   \n",
              "3   55000              37           1      9  3-5 Years     High-rise   \n",
              "4   47000              63           2      8   Repaired     High-rise   \n",
              "\n",
              "  Balcony Type  District  \n",
              "0        Large   Erebuni  \n",
              "1        Large  Downtown  \n",
              "2        Large  Downtown  \n",
              "3       Lodgia  Downtown  \n",
              "4        Large      Nork  "
            ]
          },
          "metadata": {
            "tags": []
          },
          "execution_count": 88
        }
      ]
    },
    {
      "cell_type": "code",
      "metadata": {
        "id": "yE0wuOJYaLD1",
        "colab_type": "code",
        "colab": {
          "base_uri": "https://localhost:8080/",
          "height": 272
        },
        "outputId": "30bcbb54-fe38-4085-c3a2-b67b6388a5d5"
      },
      "source": [
        "data_cleaned.info()"
      ],
      "execution_count": 89,
      "outputs": [
        {
          "output_type": "stream",
          "text": [
            "<class 'pandas.core.frame.DataFrame'>\n",
            "RangeIndex: 2047 entries, 0 to 2046\n",
            "Data columns (total 8 columns):\n",
            " #   Column          Non-Null Count  Dtype \n",
            "---  ------          --------------  ----- \n",
            " 0   Price           2047 non-null   int64 \n",
            " 1   Total Area(m2)  2047 non-null   int64 \n",
            " 2   Room Count      2047 non-null   int64 \n",
            " 3   Floor           2047 non-null   int64 \n",
            " 4   Condition       2047 non-null   object\n",
            " 5   Building Type   2047 non-null   object\n",
            " 6   Balcony Type    2047 non-null   object\n",
            " 7   District        2047 non-null   object\n",
            "dtypes: int64(4), object(4)\n",
            "memory usage: 128.1+ KB\n"
          ],
          "name": "stdout"
        }
      ]
    },
    {
      "cell_type": "code",
      "metadata": {
        "id": "c1eKq8GLnXgD",
        "colab_type": "code",
        "colab": {
          "base_uri": "https://localhost:8080/",
          "height": 17
        },
        "outputId": "38345c75-8422-4df6-ed23-d41169f6919a"
      },
      "source": [
        "from google.colab import files\n",
        "data_cleaned.to_csv('data_cleaned.csv', index=False) \n",
        "files.download('data_cleaned.csv')"
      ],
      "execution_count": 90,
      "outputs": [
        {
          "output_type": "display_data",
          "data": {
            "application/javascript": [
              "\n",
              "    async function download(id, filename, size) {\n",
              "      if (!google.colab.kernel.accessAllowed) {\n",
              "        return;\n",
              "      }\n",
              "      const div = document.createElement('div');\n",
              "      const label = document.createElement('label');\n",
              "      label.textContent = `Downloading \"${filename}\": `;\n",
              "      div.appendChild(label);\n",
              "      const progress = document.createElement('progress');\n",
              "      progress.max = size;\n",
              "      div.appendChild(progress);\n",
              "      document.body.appendChild(div);\n",
              "\n",
              "      const buffers = [];\n",
              "      let downloaded = 0;\n",
              "\n",
              "      const channel = await google.colab.kernel.comms.open(id);\n",
              "      // Send a message to notify the kernel that we're ready.\n",
              "      channel.send({})\n",
              "\n",
              "      for await (const message of channel.messages) {\n",
              "        // Send a message to notify the kernel that we're ready.\n",
              "        channel.send({})\n",
              "        if (message.buffers) {\n",
              "          for (const buffer of message.buffers) {\n",
              "            buffers.push(buffer);\n",
              "            downloaded += buffer.byteLength;\n",
              "            progress.value = downloaded;\n",
              "          }\n",
              "        }\n",
              "      }\n",
              "      const blob = new Blob(buffers, {type: 'application/binary'});\n",
              "      const a = document.createElement('a');\n",
              "      a.href = window.URL.createObjectURL(blob);\n",
              "      a.download = filename;\n",
              "      div.appendChild(a);\n",
              "      a.click();\n",
              "      div.remove();\n",
              "    }\n",
              "  "
            ],
            "text/plain": [
              "<IPython.core.display.Javascript object>"
            ]
          },
          "metadata": {
            "tags": []
          }
        },
        {
          "output_type": "display_data",
          "data": {
            "application/javascript": [
              "download(\"download_afcdaf89-6856-469c-bb68-e88444e64ca5\", \"data_cleaned.csv\", 102983)"
            ],
            "text/plain": [
              "<IPython.core.display.Javascript object>"
            ]
          },
          "metadata": {
            "tags": []
          }
        }
      ]
    }
  ]
}