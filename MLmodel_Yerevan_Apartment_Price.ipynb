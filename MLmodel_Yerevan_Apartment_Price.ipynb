{
  "nbformat": 4,
  "nbformat_minor": 0,
  "metadata": {
    "colab": {
      "name": "MLmodel_Yerevan_Apartment_Price.ipynb",
      "provenance": [],
      "authorship_tag": "ABX9TyNJdIXp8OV88+MAvSxhSgZQ",
      "include_colab_link": true
    },
    "kernelspec": {
      "name": "python3",
      "display_name": "Python 3"
    }
  },
  "cells": [
    {
      "cell_type": "markdown",
      "metadata": {
        "id": "view-in-github",
        "colab_type": "text"
      },
      "source": [
        "<a href=\"https://colab.research.google.com/github/vard-uhi/Yerevan-Apartment-Price-Prediction/blob/master/MLmodel_Yerevan_Apartment_Price.ipynb\" target=\"_parent\"><img src=\"https://colab.research.google.com/assets/colab-badge.svg\" alt=\"Open In Colab\"/></a>"
      ]
    },
    {
      "cell_type": "markdown",
      "metadata": {
        "id": "D0RR3esfyARj",
        "colab_type": "text"
      },
      "source": [
        "**Yerevan Apartment Price**\n",
        "\n",
        "We are going to predict Apartment Prices in Yerevan based on scraped data, and for this exercise we will use Linear Regression."
      ]
    },
    {
      "cell_type": "code",
      "metadata": {
        "id": "S8mys0j1x9bW",
        "colab_type": "code",
        "colab": {
          "base_uri": "https://localhost:8080/",
          "height": 71
        },
        "outputId": "99cca0c6-0b71-4235-d740-c9b5677ed055"
      },
      "source": [
        "#data manipulation, transformation\n",
        "import pandas as pd \n",
        "\n",
        "#visualization\n",
        "import matplotlib.pyplot as plt \n",
        "import seaborn as sns #visualization\n",
        "\n",
        "#for scientific computations\n",
        "import numpy as np \n",
        "\n",
        "#for train and test split\n",
        "from sklearn.model_selection import train_test_split \n",
        "\n",
        "#model building in stats\n",
        "import statsmodels.api as sm\n",
        "\n",
        "#internal validity stastistical tests and plots\n",
        "from statsmodels.api import qqplot #for qq plot\n",
        "from statsmodels.stats.diagnostic import het_breuschpagan,linear_rainbow  #variance equality and linearity tests\n",
        "from scipy.stats import shapiro #for checking normality\n",
        "from statsmodels.stats.outliers_influence import variance_inflation_factor #for checking Multicolinearity\n",
        "from sklearn.metrics import r2_score #R-squared"
      ],
      "execution_count": 1,
      "outputs": [
        {
          "output_type": "stream",
          "text": [
            "/usr/local/lib/python3.6/dist-packages/statsmodels/tools/_testing.py:19: FutureWarning: pandas.util.testing is deprecated. Use the functions in the public API at pandas.testing instead.\n",
            "  import pandas.util.testing as tm\n"
          ],
          "name": "stderr"
        }
      ]
    },
    {
      "cell_type": "code",
      "metadata": {
        "id": "FCkxABKFyHog",
        "colab_type": "code",
        "colab": {
          "resources": {
            "http://localhost:8080/nbextensions/google.colab/files.js": {
              "data": "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",
              "ok": true,
              "headers": [
                [
                  "content-type",
                  "application/javascript"
                ]
              ],
              "status": 200,
              "status_text": ""
            }
          },
          "base_uri": "https://localhost:8080/",
          "height": 72
        },
        "outputId": "68030f53-183d-4822-af26-34b07fca68a5"
      },
      "source": [
        "#load the data\n",
        "from google.colab import files\n",
        "data_to_load = files.upload()"
      ],
      "execution_count": 134,
      "outputs": [
        {
          "output_type": "display_data",
          "data": {
            "text/html": [
              "\n",
              "     <input type=\"file\" id=\"files-dbbaa687-d161-484f-9f51-9a4e474a92e4\" name=\"files[]\" multiple disabled\n",
              "        style=\"border:none\" />\n",
              "     <output id=\"result-dbbaa687-d161-484f-9f51-9a4e474a92e4\">\n",
              "      Upload widget is only available when the cell has been executed in the\n",
              "      current browser session. Please rerun this cell to enable.\n",
              "      </output>\n",
              "      <script src=\"/nbextensions/google.colab/files.js\"></script> "
            ],
            "text/plain": [
              "<IPython.core.display.HTML object>"
            ]
          },
          "metadata": {
            "tags": []
          }
        },
        {
          "output_type": "stream",
          "text": [
            "Saving data_cleaned.csv to data_cleaned (5).csv\n"
          ],
          "name": "stdout"
        }
      ]
    },
    {
      "cell_type": "code",
      "metadata": {
        "id": "UT58KzAVyLbd",
        "colab_type": "code",
        "colab": {}
      },
      "source": [
        "import io\n",
        "# .read_csv() assigns the information from the initial *.csv file to this variable\n",
        "raw_data = pd.read_csv(io.BytesIO(data_to_load['data_cleaned.csv']))"
      ],
      "execution_count": 135,
      "outputs": []
    },
    {
      "cell_type": "code",
      "metadata": {
        "id": "UnGOA_RlyRD3",
        "colab_type": "code",
        "colab": {}
      },
      "source": [
        "df = raw_data.copy()"
      ],
      "execution_count": 136,
      "outputs": []
    },
    {
      "cell_type": "markdown",
      "metadata": {
        "id": "Of-IYJIGyXMS",
        "colab_type": "text"
      },
      "source": [
        "#### **Descriptive Analysis**"
      ]
    },
    {
      "cell_type": "code",
      "metadata": {
        "id": "lN86TX7AyTh2",
        "colab_type": "code",
        "colab": {
          "base_uri": "https://localhost:8080/",
          "height": 272
        },
        "outputId": "bc3e2ee7-ce72-4ab5-bb95-d5f0b046f6fa"
      },
      "source": [
        "#data overview\n",
        "df.info()"
      ],
      "execution_count": 137,
      "outputs": [
        {
          "output_type": "stream",
          "text": [
            "<class 'pandas.core.frame.DataFrame'>\n",
            "RangeIndex: 2047 entries, 0 to 2046\n",
            "Data columns (total 8 columns):\n",
            " #   Column          Non-Null Count  Dtype \n",
            "---  ------          --------------  ----- \n",
            " 0   Price           2047 non-null   int64 \n",
            " 1   Total Area(m2)  2047 non-null   int64 \n",
            " 2   Room Count      2047 non-null   int64 \n",
            " 3   Floor           2047 non-null   int64 \n",
            " 4   Condition       2047 non-null   object\n",
            " 5   Building Type   2047 non-null   object\n",
            " 6   Balcony Type    2047 non-null   object\n",
            " 7   District        2047 non-null   object\n",
            "dtypes: int64(4), object(4)\n",
            "memory usage: 128.1+ KB\n"
          ],
          "name": "stdout"
        }
      ]
    },
    {
      "cell_type": "code",
      "metadata": {
        "id": "kluIEvk6ybxR",
        "colab_type": "code",
        "colab": {
          "base_uri": "https://localhost:8080/",
          "height": 390
        },
        "outputId": "4d28cd5e-7df6-43aa-d453-ce120b445966"
      },
      "source": [
        "#some statistics about data including categorical variables\n",
        "df.describe(include='all')"
      ],
      "execution_count": 138,
      "outputs": [
        {
          "output_type": "execute_result",
          "data": {
            "text/html": [
              "<div>\n",
              "<style scoped>\n",
              "    .dataframe tbody tr th:only-of-type {\n",
              "        vertical-align: middle;\n",
              "    }\n",
              "\n",
              "    .dataframe tbody tr th {\n",
              "        vertical-align: top;\n",
              "    }\n",
              "\n",
              "    .dataframe thead th {\n",
              "        text-align: right;\n",
              "    }\n",
              "</style>\n",
              "<table border=\"1\" class=\"dataframe\">\n",
              "  <thead>\n",
              "    <tr style=\"text-align: right;\">\n",
              "      <th></th>\n",
              "      <th>Price</th>\n",
              "      <th>Total Area(m2)</th>\n",
              "      <th>Room Count</th>\n",
              "      <th>Floor</th>\n",
              "      <th>Condition</th>\n",
              "      <th>Building Type</th>\n",
              "      <th>Balcony Type</th>\n",
              "      <th>District</th>\n",
              "    </tr>\n",
              "  </thead>\n",
              "  <tbody>\n",
              "    <tr>\n",
              "      <th>count</th>\n",
              "      <td>2.047000e+03</td>\n",
              "      <td>2047.000000</td>\n",
              "      <td>2047.000000</td>\n",
              "      <td>2047.000000</td>\n",
              "      <td>2047</td>\n",
              "      <td>2047</td>\n",
              "      <td>2047</td>\n",
              "      <td>2047</td>\n",
              "    </tr>\n",
              "    <tr>\n",
              "      <th>unique</th>\n",
              "      <td>NaN</td>\n",
              "      <td>NaN</td>\n",
              "      <td>NaN</td>\n",
              "      <td>NaN</td>\n",
              "      <td>6</td>\n",
              "      <td>8</td>\n",
              "      <td>4</td>\n",
              "      <td>12</td>\n",
              "    </tr>\n",
              "    <tr>\n",
              "      <th>top</th>\n",
              "      <td>NaN</td>\n",
              "      <td>NaN</td>\n",
              "      <td>NaN</td>\n",
              "      <td>NaN</td>\n",
              "      <td>Repaired</td>\n",
              "      <td>High-rise</td>\n",
              "      <td>Large</td>\n",
              "      <td>Downtown</td>\n",
              "    </tr>\n",
              "    <tr>\n",
              "      <th>freq</th>\n",
              "      <td>NaN</td>\n",
              "      <td>NaN</td>\n",
              "      <td>NaN</td>\n",
              "      <td>NaN</td>\n",
              "      <td>1103</td>\n",
              "      <td>570</td>\n",
              "      <td>1095</td>\n",
              "      <td>735</td>\n",
              "    </tr>\n",
              "    <tr>\n",
              "      <th>mean</th>\n",
              "      <td>1.461657e+05</td>\n",
              "      <td>99.889106</td>\n",
              "      <td>2.945286</td>\n",
              "      <td>5.103078</td>\n",
              "      <td>NaN</td>\n",
              "      <td>NaN</td>\n",
              "      <td>NaN</td>\n",
              "      <td>NaN</td>\n",
              "    </tr>\n",
              "    <tr>\n",
              "      <th>std</th>\n",
              "      <td>1.634760e+05</td>\n",
              "      <td>53.859316</td>\n",
              "      <td>1.044436</td>\n",
              "      <td>3.521422</td>\n",
              "      <td>NaN</td>\n",
              "      <td>NaN</td>\n",
              "      <td>NaN</td>\n",
              "      <td>NaN</td>\n",
              "    </tr>\n",
              "    <tr>\n",
              "      <th>min</th>\n",
              "      <td>3.000000e+04</td>\n",
              "      <td>26.000000</td>\n",
              "      <td>1.000000</td>\n",
              "      <td>0.000000</td>\n",
              "      <td>NaN</td>\n",
              "      <td>NaN</td>\n",
              "      <td>NaN</td>\n",
              "      <td>NaN</td>\n",
              "    </tr>\n",
              "    <tr>\n",
              "      <th>25%</th>\n",
              "      <td>7.200000e+04</td>\n",
              "      <td>71.000000</td>\n",
              "      <td>2.000000</td>\n",
              "      <td>3.000000</td>\n",
              "      <td>NaN</td>\n",
              "      <td>NaN</td>\n",
              "      <td>NaN</td>\n",
              "      <td>NaN</td>\n",
              "    </tr>\n",
              "    <tr>\n",
              "      <th>50%</th>\n",
              "      <td>1.000000e+05</td>\n",
              "      <td>87.000000</td>\n",
              "      <td>3.000000</td>\n",
              "      <td>4.000000</td>\n",
              "      <td>NaN</td>\n",
              "      <td>NaN</td>\n",
              "      <td>NaN</td>\n",
              "      <td>NaN</td>\n",
              "    </tr>\n",
              "    <tr>\n",
              "      <th>75%</th>\n",
              "      <td>1.550000e+05</td>\n",
              "      <td>110.000000</td>\n",
              "      <td>3.000000</td>\n",
              "      <td>7.000000</td>\n",
              "      <td>NaN</td>\n",
              "      <td>NaN</td>\n",
              "      <td>NaN</td>\n",
              "      <td>NaN</td>\n",
              "    </tr>\n",
              "    <tr>\n",
              "      <th>max</th>\n",
              "      <td>4.000000e+06</td>\n",
              "      <td>764.000000</td>\n",
              "      <td>10.000000</td>\n",
              "      <td>18.000000</td>\n",
              "      <td>NaN</td>\n",
              "      <td>NaN</td>\n",
              "      <td>NaN</td>\n",
              "      <td>NaN</td>\n",
              "    </tr>\n",
              "  </tbody>\n",
              "</table>\n",
              "</div>"
            ],
            "text/plain": [
              "               Price  Total Area(m2)  ...  Balcony Type  District\n",
              "count   2.047000e+03     2047.000000  ...          2047      2047\n",
              "unique           NaN             NaN  ...             4        12\n",
              "top              NaN             NaN  ...         Large  Downtown\n",
              "freq             NaN             NaN  ...          1095       735\n",
              "mean    1.461657e+05       99.889106  ...           NaN       NaN\n",
              "std     1.634760e+05       53.859316  ...           NaN       NaN\n",
              "min     3.000000e+04       26.000000  ...           NaN       NaN\n",
              "25%     7.200000e+04       71.000000  ...           NaN       NaN\n",
              "50%     1.000000e+05       87.000000  ...           NaN       NaN\n",
              "75%     1.550000e+05      110.000000  ...           NaN       NaN\n",
              "max     4.000000e+06      764.000000  ...           NaN       NaN\n",
              "\n",
              "[11 rows x 8 columns]"
            ]
          },
          "metadata": {
            "tags": []
          },
          "execution_count": 138
        }
      ]
    },
    {
      "cell_type": "markdown",
      "metadata": {
        "id": "Reo2K8qSyhMU",
        "colab_type": "text"
      },
      "source": [
        "As we see, our dataset doesn't have many features. It has 2047 rows and 8 features. Our data is not that informative to compare with classical house price prediction “Boston” dataset. Let's continue to see what information we can extract from it and what degree of prediction accuracy we can reach with this sample."
      ]
    },
    {
      "cell_type": "code",
      "metadata": {
        "id": "ck6PMv3gyeLJ",
        "colab_type": "code",
        "colab": {
          "base_uri": "https://localhost:8080/",
          "height": 280
        },
        "outputId": "9cedda95-b4b4-4f24-803f-405257a01d9f"
      },
      "source": [
        "#plotting Price dependent variable\n",
        "sns.boxplot(y = df['Price'])"
      ],
      "execution_count": 139,
      "outputs": [
        {
          "output_type": "execute_result",
          "data": {
            "text/plain": [
              "<matplotlib.axes._subplots.AxesSubplot at 0x7f2a5e81c3c8>"
            ]
          },
          "metadata": {
            "tags": []
          },
          "execution_count": 139
        },
        {
          "output_type": "display_data",
          "data": {
            "image/png": "[encoded data removed]",
            "text/plain": [
              "<Figure size 432x288 with 1 Axes>"
            ]
          },
          "metadata": {
            "tags": [],
            "needs_background": "light"
          }
        }
      ]
    },
    {
      "cell_type": "code",
      "metadata": {
        "id": "Nj2PvIQD-4M8",
        "colab_type": "code",
        "colab": {}
      },
      "source": [
        "df = df[df['Price'] < df['Price'].quantile(0.99)].reset_index(drop=True)"
      ],
      "execution_count": 140,
      "outputs": []
    },
    {
      "cell_type": "code",
      "metadata": {
        "id": "g0KVaib9QnN3",
        "colab_type": "code",
        "colab": {}
      },
      "source": [
        "df = df[df['Total Area(m2)'] < df['Total Area(m2)'].quantile(0.98)].reset_index(drop=True)"
      ],
      "execution_count": 141,
      "outputs": []
    },
    {
      "cell_type": "code",
      "metadata": {
        "id": "vFf10oS8yV-S",
        "colab_type": "code",
        "colab": {
          "base_uri": "https://localhost:8080/",
          "height": 34
        },
        "outputId": "10c56afb-3335-4873-ec7b-8e80ad017de0"
      },
      "source": [
        "df.shape"
      ],
      "execution_count": 142,
      "outputs": [
        {
          "output_type": "execute_result",
          "data": {
            "text/plain": [
              "(1983, 8)"
            ]
          },
          "metadata": {
            "tags": []
          },
          "execution_count": 142
        }
      ]
    },
    {
      "cell_type": "code",
      "metadata": {
        "id": "k-_HGTM7TEVN",
        "colab_type": "code",
        "colab": {
          "base_uri": "https://localhost:8080/",
          "height": 269
        },
        "outputId": "b9dc8c38-09b6-406e-9a03-4ef919dd9a13"
      },
      "source": [
        "#plotting Price dependent variable\n",
        "sns.boxplot(y = df['Price'])"
      ],
      "execution_count": 143,
      "outputs": [
        {
          "output_type": "execute_result",
          "data": {
            "text/plain": [
              "<matplotlib.axes._subplots.AxesSubplot at 0x7f2a5e7826d8>"
            ]
          },
          "metadata": {
            "tags": []
          },
          "execution_count": 143
        },
        {
          "output_type": "display_data",
          "data": {
            "image/png": "[encoded data removed]",
            "text/plain": [
              "<Figure size 432x288 with 1 Axes>"
            ]
          },
          "metadata": {
            "tags": [],
            "needs_background": "light"
          }
        }
      ]
    },
    {
      "cell_type": "code",
      "metadata": {
        "id": "MdW1TuqIVBpE",
        "colab_type": "code",
        "colab": {
          "base_uri": "https://localhost:8080/",
          "height": 269
        },
        "outputId": "717c9a79-2664-46f2-c18e-a402b6576fba"
      },
      "source": [
        "#plotting Price dependent variable\n",
        "sns.boxplot(y = df['Total Area(m2)'])"
      ],
      "execution_count": 144,
      "outputs": [
        {
          "output_type": "execute_result",
          "data": {
            "text/plain": [
              "<matplotlib.axes._subplots.AxesSubplot at 0x7f2a5e6fe668>"
            ]
          },
          "metadata": {
            "tags": []
          },
          "execution_count": 144
        },
        {
          "output_type": "display_data",
          "data": {
            "image/png": "[encoded data removed]",
            "text/plain": [
              "<Figure size 432x288 with 1 Axes>"
            ]
          },
          "metadata": {
            "tags": [],
            "needs_background": "light"
          }
        }
      ]
    },
    {
      "cell_type": "code",
      "metadata": {
        "id": "frA3wQkJymWx",
        "colab_type": "code",
        "colab": {
          "base_uri": "https://localhost:8080/",
          "height": 170
        },
        "outputId": "631dd2ec-b97d-4e0d-e3cf-0b28ecdd3746"
      },
      "source": [
        "#checking for Null values\n",
        "df.isnull().sum()"
      ],
      "execution_count": 145,
      "outputs": [
        {
          "output_type": "execute_result",
          "data": {
            "text/plain": [
              "Price             0\n",
              "Total Area(m2)    0\n",
              "Room Count        0\n",
              "Floor             0\n",
              "Condition         0\n",
              "Building Type     0\n",
              "Balcony Type      0\n",
              "District          0\n",
              "dtype: int64"
            ]
          },
          "metadata": {
            "tags": []
          },
          "execution_count": 145
        }
      ]
    },
    {
      "cell_type": "markdown",
      "metadata": {
        "id": "vHtQxlwwysFs",
        "colab_type": "text"
      },
      "source": [
        "We don't have Null values.\n",
        "\n",
        "However, we have outliers in our data. I have tried to delete some percent and played with other features as well, because we have outliers also in the 'Total Area' feature. As our data is not so big, deleting some portion of it only harms our model. That is why we will keep all rows."
      ]
    },
    {
      "cell_type": "code",
      "metadata": {
        "id": "D5vyViCJypGn",
        "colab_type": "code",
        "colab": {
          "base_uri": "https://localhost:8080/",
          "height": 34
        },
        "outputId": "00d4dacc-311d-44ce-c52f-3d0538c3c175"
      },
      "source": [
        "#checking whether there are columns having same value for all observations\n",
        "df.columns[df.nunique()==1]"
      ],
      "execution_count": 146,
      "outputs": [
        {
          "output_type": "execute_result",
          "data": {
            "text/plain": [
              "Index([], dtype='object')"
            ]
          },
          "metadata": {
            "tags": []
          },
          "execution_count": 146
        }
      ]
    },
    {
      "cell_type": "code",
      "metadata": {
        "id": "r_C_pwYkywOX",
        "colab_type": "code",
        "colab": {
          "base_uri": "https://localhost:8080/",
          "height": 986
        },
        "outputId": "4451a7cd-9e5d-43ec-ee42-74d3d969e049"
      },
      "source": [
        "#checking for duplicates\n",
        "print(df[df.duplicated()])\n",
        "print(df.duplicated().any())"
      ],
      "execution_count": 147,
      "outputs": [
        {
          "output_type": "stream",
          "text": [
            "       Price  Total Area(m2)  ...  Balcony Type          District\n",
            "48    169000              96  ...         Large          Downtown\n",
            "123    43000              49  ...         Large              Nork\n",
            "146    37500              59  ...         Large              Nork\n",
            "321   144100             131  ...        Lodgia    Kanaker-Zeitun\n",
            "330    49500              55  ...        Lodgia    Kanaker-Zeitun\n",
            "331    55000              55  ...        Lodgia    Kanaker-Zeitun\n",
            "332    55000              55  ...        Lodgia    Kanaker-Zeitun\n",
            "333    57750              55  ...        Lodgia    Kanaker-Zeitun\n",
            "334    57750              55  ...        Lodgia    Kanaker-Zeitun\n",
            "335    52200              58  ...        Lodgia    Kanaker-Zeitun\n",
            "336    52200              58  ...        Lodgia    Kanaker-Zeitun\n",
            "337    58000              58  ...        Lodgia    Kanaker-Zeitun\n",
            "338    58000              58  ...        Lodgia    Kanaker-Zeitun\n",
            "339    60900              58  ...        Lodgia    Kanaker-Zeitun\n",
            "340    60900              58  ...        Lodgia    Kanaker-Zeitun\n",
            "344    46000              46  ...        Lodgia    Kanaker-Zeitun\n",
            "345    46000              46  ...        Lodgia    Kanaker-Zeitun\n",
            "346    48300              46  ...        Lodgia    Kanaker-Zeitun\n",
            "347    48300              46  ...        Lodgia    Kanaker-Zeitun\n",
            "348    50600              46  ...        Lodgia    Kanaker-Zeitun\n",
            "349    50600              46  ...        Lodgia    Kanaker-Zeitun\n",
            "350    72900              81  ...        Lodgia    Kanaker-Zeitun\n",
            "353    76950              81  ...        Lodgia    Kanaker-Zeitun\n",
            "354    76950              81  ...        Lodgia    Kanaker-Zeitun\n",
            "355    81000              81  ...        Lodgia    Kanaker-Zeitun\n",
            "356    81000              81  ...        Lodgia    Kanaker-Zeitun\n",
            "357    85050              81  ...        Lodgia    Kanaker-Zeitun\n",
            "358    85050              81  ...        Lodgia    Kanaker-Zeitun\n",
            "359    89100              81  ...        Lodgia    Kanaker-Zeitun\n",
            "360    89100              81  ...        Lodgia    Kanaker-Zeitun\n",
            "370    80300              73  ...        Lodgia    Kanaker-Zeitun\n",
            "371    80300              73  ...        Lodgia    Kanaker-Zeitun\n",
            "395   135000             170  ...         Large              Nork\n",
            "443    65000              89  ...         Large              Nork\n",
            "543    57000              89  ...         Large  Malatia-Sebastia\n",
            "554    65000              75  ...         Large              Nork\n",
            "575   650000             175  ...        Lodgia          Downtown\n",
            "596    35000              55  ...         Large         Shengavit\n",
            "654    55000              61  ...         Front              Nork\n",
            "665    80000              76  ...        Lodgia              Nork\n",
            "704    41000              59  ...         Large              Nork\n",
            "749    77000              95  ...        Lodgia  Malatia-Sebastia\n",
            "1165   69000             126  ...         Front              Nork\n",
            "1444   70000              83  ...         Large           Arabkir\n",
            "1446   80000              69  ...         Large              Nork\n",
            "1537   65000              72  ...         Large              Nork\n",
            "1723   51000              61  ...        Lodgia              Nork\n",
            "1727  330000             108  ...         Front          Downtown\n",
            "1731   65000             103  ...         Large              Nork\n",
            "1750   42000              54  ...         Large              Nork\n",
            "1789   67000              76  ...         Front              Nork\n",
            "1804   55000              59  ...         Large              Nork\n",
            "1833  510000             203  ...         Front           Arabkir\n",
            "\n",
            "[53 rows x 8 columns]\n",
            "True\n"
          ],
          "name": "stdout"
        }
      ]
    },
    {
      "cell_type": "markdown",
      "metadata": {
        "id": "ZAxC84C-y2fo",
        "colab_type": "text"
      },
      "source": [
        "We have duplicate values. We will drop them as Linear Regression assumes independence of observations."
      ]
    },
    {
      "cell_type": "code",
      "metadata": {
        "id": "i-YvMXx2yzOZ",
        "colab_type": "code",
        "colab": {}
      },
      "source": [
        "#drop duplicates\n",
        "df.drop_duplicates(keep = 'first', inplace = True)"
      ],
      "execution_count": 148,
      "outputs": []
    },
    {
      "cell_type": "code",
      "metadata": {
        "id": "EXQOfDn_y5cE",
        "colab_type": "code",
        "colab": {
          "base_uri": "https://localhost:8080/",
          "height": 85
        },
        "outputId": "6a10c123-ec66-408b-b01e-6de65e4c640b"
      },
      "source": [
        "#checking again for duplicates\n",
        "print(df[df.duplicated()])\n",
        "print(df.duplicated().any())"
      ],
      "execution_count": 149,
      "outputs": [
        {
          "output_type": "stream",
          "text": [
            "Empty DataFrame\n",
            "Columns: [Price, Total Area(m2), Room Count, Floor, Condition, Building Type, Balcony Type, District]\n",
            "Index: []\n",
            "False\n"
          ],
          "name": "stdout"
        }
      ]
    },
    {
      "cell_type": "code",
      "metadata": {
        "id": "uEaNbLKAy7ea",
        "colab_type": "code",
        "colab": {
          "base_uri": "https://localhost:8080/",
          "height": 272
        },
        "outputId": "b70fd857-c74b-4081-d9fd-ee1083f9ce29"
      },
      "source": [
        "df.info()"
      ],
      "execution_count": 150,
      "outputs": [
        {
          "output_type": "stream",
          "text": [
            "<class 'pandas.core.frame.DataFrame'>\n",
            "Int64Index: 1930 entries, 0 to 1982\n",
            "Data columns (total 8 columns):\n",
            " #   Column          Non-Null Count  Dtype \n",
            "---  ------          --------------  ----- \n",
            " 0   Price           1930 non-null   int64 \n",
            " 1   Total Area(m2)  1930 non-null   int64 \n",
            " 2   Room Count      1930 non-null   int64 \n",
            " 3   Floor           1930 non-null   int64 \n",
            " 4   Condition       1930 non-null   object\n",
            " 5   Building Type   1930 non-null   object\n",
            " 6   Balcony Type    1930 non-null   object\n",
            " 7   District        1930 non-null   object\n",
            "dtypes: int64(4), object(4)\n",
            "memory usage: 135.7+ KB\n"
          ],
          "name": "stdout"
        }
      ]
    },
    {
      "cell_type": "code",
      "metadata": {
        "id": "AeR4YDf1y96J",
        "colab_type": "code",
        "colab": {}
      },
      "source": [
        "#reset indexes after deleting duplicates\n",
        "df = df.reset_index(drop=True)"
      ],
      "execution_count": 151,
      "outputs": []
    },
    {
      "cell_type": "code",
      "metadata": {
        "id": "QCCK7A49zBFZ",
        "colab_type": "code",
        "colab": {
          "base_uri": "https://localhost:8080/",
          "height": 272
        },
        "outputId": "9027cfe0-d06c-4cac-8435-1028f785b88b"
      },
      "source": [
        "df.info()"
      ],
      "execution_count": 152,
      "outputs": [
        {
          "output_type": "stream",
          "text": [
            "<class 'pandas.core.frame.DataFrame'>\n",
            "RangeIndex: 1930 entries, 0 to 1929\n",
            "Data columns (total 8 columns):\n",
            " #   Column          Non-Null Count  Dtype \n",
            "---  ------          --------------  ----- \n",
            " 0   Price           1930 non-null   int64 \n",
            " 1   Total Area(m2)  1930 non-null   int64 \n",
            " 2   Room Count      1930 non-null   int64 \n",
            " 3   Floor           1930 non-null   int64 \n",
            " 4   Condition       1930 non-null   object\n",
            " 5   Building Type   1930 non-null   object\n",
            " 6   Balcony Type    1930 non-null   object\n",
            " 7   District        1930 non-null   object\n",
            "dtypes: int64(4), object(4)\n",
            "memory usage: 120.8+ KB\n"
          ],
          "name": "stdout"
        }
      ]
    },
    {
      "cell_type": "markdown",
      "metadata": {
        "id": "94H60eXOzMGY",
        "colab_type": "text"
      },
      "source": [
        "As we have dropped duplicates, now our dataset has less data."
      ]
    },
    {
      "cell_type": "code",
      "metadata": {
        "id": "OuGKAF1nzFu3",
        "colab_type": "code",
        "colab": {
          "base_uri": "https://localhost:8080/",
          "height": 295
        },
        "outputId": "3e6ce1b1-fae7-4e17-c47a-cfbf6d3f4931"
      },
      "source": [
        "# Visualising Distribution of Price\n",
        "sns.distplot(df['Price'],color=\"blue\")\n",
        "plt.title(\"Distribution of Price\")\n",
        "plt.show()"
      ],
      "execution_count": 153,
      "outputs": [
        {
          "output_type": "display_data",
          "data": {
            "image/png": "[encoded data removed]",
            "text/plain": [
              "<Figure size 432x288 with 1 Axes>"
            ]
          },
          "metadata": {
            "tags": [],
            "needs_background": "light"
          }
        }
      ]
    },
    {
      "cell_type": "code",
      "metadata": {
        "id": "nXFOxgvZzPon",
        "colab_type": "code",
        "colab": {
          "base_uri": "https://localhost:8080/",
          "height": 34
        },
        "outputId": "77932ff6-44e1-4233-e499-5ac07f5975a7"
      },
      "source": [
        "# Let's check skewness\n",
        "df['Price'].skew()"
      ],
      "execution_count": 154,
      "outputs": [
        {
          "output_type": "execute_result",
          "data": {
            "text/plain": [
              "2.5074843635332456"
            ]
          },
          "metadata": {
            "tags": []
          },
          "execution_count": 154
        }
      ]
    },
    {
      "cell_type": "markdown",
      "metadata": {
        "id": "kjM8EItOzXS8",
        "colab_type": "text"
      },
      "source": [
        "We have right skewness in our dependent variable. Which means data is distributed asymmetric and mean is greater than median. However, we are not going to delete outliers, because we will transform our data to log values and will get rid of this large skewness."
      ]
    },
    {
      "cell_type": "code",
      "metadata": {
        "id": "3tpDvUC7zadT",
        "colab_type": "code",
        "colab": {
          "base_uri": "https://localhost:8080/",
          "height": 244
        },
        "outputId": "2b5ff025-cdae-4be2-f9e8-8b43e2e6ccf1"
      },
      "source": [
        "# Comparing Price with other numeric features\n",
        "f, (ax1, ax2, ax3) = plt.subplots(1, 3, sharey=True, figsize = (15,3))\n",
        "ax1.scatter(df['Total Area(m2)'], df['Price'])\n",
        "ax1.set_title('Price and Total Area')\n",
        "ax2.scatter(df['Room Count'], df['Price'])\n",
        "ax2.set_title('Price and Room Count')\n",
        "ax3.scatter(df['Floor'], df['Price'])\n",
        "ax3.set_title('Price and Flour')"
      ],
      "execution_count": 155,
      "outputs": [
        {
          "output_type": "execute_result",
          "data": {
            "text/plain": [
              "Text(0.5, 1.0, 'Price and Flour')"
            ]
          },
          "metadata": {
            "tags": []
          },
          "execution_count": 155
        },
        {
          "output_type": "display_data",
          "data": {
            "image/png": "[encoded data removed]",
            "text/plain": [
              "<Figure size 1080x216 with 3 Axes>"
            ]
          },
          "metadata": {
            "tags": [],
            "needs_background": "light"
          }
        }
      ]
    },
    {
      "cell_type": "code",
      "metadata": {
        "id": "tIxAFiJbza7U",
        "colab_type": "code",
        "colab": {}
      },
      "source": [
        "#transforming to log value\n",
        "log_price = np.log(df['Price'])"
      ],
      "execution_count": 156,
      "outputs": []
    },
    {
      "cell_type": "code",
      "metadata": {
        "id": "9fJbskUTzdTU",
        "colab_type": "code",
        "colab": {}
      },
      "source": [
        "# Adding new column named log_price\n",
        "df['Log Price'] = log_price"
      ],
      "execution_count": 157,
      "outputs": []
    },
    {
      "cell_type": "code",
      "metadata": {
        "id": "2V6Dblzzzfg9",
        "colab_type": "code",
        "colab": {
          "base_uri": "https://localhost:8080/",
          "height": 295
        },
        "outputId": "b39ee86f-61d8-47cb-e48a-9a8092977bc8"
      },
      "source": [
        "# Visualising Distribution of Log of Price\n",
        "sns.distplot(df['Log Price'],color=\"blue\")\n",
        "plt.title(\"Distribution of Log Price\")\n",
        "plt.show()"
      ],
      "execution_count": 158,
      "outputs": [
        {
          "output_type": "display_data",
          "data": {
            "image/png": "[encoded data removed]",
            "text/plain": [
              "<Figure size 432x288 with 1 Axes>"
            ]
          },
          "metadata": {
            "tags": [],
            "needs_background": "light"
          }
        }
      ]
    },
    {
      "cell_type": "code",
      "metadata": {
        "id": "btX4X9btzh8p",
        "colab_type": "code",
        "colab": {
          "base_uri": "https://localhost:8080/",
          "height": 34
        },
        "outputId": "f71adf17-cb96-4bba-f24d-a2529f1e51e6"
      },
      "source": [
        "# Let's check our skewness now\n",
        "df['Log Price'].skew()"
      ],
      "execution_count": 159,
      "outputs": [
        {
          "output_type": "execute_result",
          "data": {
            "text/plain": [
              "0.6897837353796559"
            ]
          },
          "metadata": {
            "tags": []
          },
          "execution_count": 159
        }
      ]
    },
    {
      "cell_type": "markdown",
      "metadata": {
        "id": "7fUxUn_Xzv1s",
        "colab_type": "text"
      },
      "source": [
        "Current symmetry of distribution is acceptable."
      ]
    },
    {
      "cell_type": "code",
      "metadata": {
        "id": "LufNnxBczwWA",
        "colab_type": "code",
        "colab": {
          "base_uri": "https://localhost:8080/",
          "height": 244
        },
        "outputId": "5332d19e-a75e-49e6-fd5f-cb382b530b16"
      },
      "source": [
        "#Comparing Lof of Price with other numeric features\n",
        "f, (ax1, ax2, ax3) = plt.subplots(1, 3, sharey=True, figsize = (15,3))\n",
        "ax1.scatter(df['Total Area(m2)'], df['Log Price'])\n",
        "ax1.set_title('Log Price and Total Area')\n",
        "ax2.scatter(df['Room Count'], df['Log Price'])\n",
        "ax2.set_title('Log Price and Room Count')\n",
        "ax3.scatter(df['Floor'], df['Log Price'])\n",
        "ax3.set_title('Log Price and Flour')"
      ],
      "execution_count": 160,
      "outputs": [
        {
          "output_type": "execute_result",
          "data": {
            "text/plain": [
              "Text(0.5, 1.0, 'Log Price and Flour')"
            ]
          },
          "metadata": {
            "tags": []
          },
          "execution_count": 160
        },
        {
          "output_type": "display_data",
          "data": {
            "image/png": "[encoded data removed]",
            "text/plain": [
              "<Figure size 1080x216 with 3 Axes>"
            ]
          },
          "metadata": {
            "tags": [],
            "needs_background": "light"
          }
        }
      ]
    },
    {
      "cell_type": "markdown",
      "metadata": {
        "id": "W0Eeug08z1wI",
        "colab_type": "text"
      },
      "source": [
        "As we transformed Price to Log Price, now we clearly see linearity in our data, which is one of the OLS assumptions of the Linear Regression model, which now we can say is checked."
      ]
    },
    {
      "cell_type": "code",
      "metadata": {
        "id": "CViCs4-xz3YZ",
        "colab_type": "code",
        "colab": {
          "base_uri": "https://localhost:8080/",
          "height": 204
        },
        "outputId": "796272aa-05a1-4a5e-f0af-502905a2c65f"
      },
      "source": [
        "df.head()"
      ],
      "execution_count": 161,
      "outputs": [
        {
          "output_type": "execute_result",
          "data": {
            "text/html": [
              "<div>\n",
              "<style scoped>\n",
              "    .dataframe tbody tr th:only-of-type {\n",
              "        vertical-align: middle;\n",
              "    }\n",
              "\n",
              "    .dataframe tbody tr th {\n",
              "        vertical-align: top;\n",
              "    }\n",
              "\n",
              "    .dataframe thead th {\n",
              "        text-align: right;\n",
              "    }\n",
              "</style>\n",
              "<table border=\"1\" class=\"dataframe\">\n",
              "  <thead>\n",
              "    <tr style=\"text-align: right;\">\n",
              "      <th></th>\n",
              "      <th>Price</th>\n",
              "      <th>Total Area(m2)</th>\n",
              "      <th>Room Count</th>\n",
              "      <th>Floor</th>\n",
              "      <th>Condition</th>\n",
              "      <th>Building Type</th>\n",
              "      <th>Balcony Type</th>\n",
              "      <th>District</th>\n",
              "      <th>Log Price</th>\n",
              "    </tr>\n",
              "  </thead>\n",
              "  <tbody>\n",
              "    <tr>\n",
              "      <th>0</th>\n",
              "      <td>52000</td>\n",
              "      <td>66</td>\n",
              "      <td>2</td>\n",
              "      <td>4</td>\n",
              "      <td>Repaired</td>\n",
              "      <td>High-rise</td>\n",
              "      <td>Large</td>\n",
              "      <td>Erebuni</td>\n",
              "      <td>10.858999</td>\n",
              "    </tr>\n",
              "    <tr>\n",
              "      <th>1</th>\n",
              "      <td>130000</td>\n",
              "      <td>90</td>\n",
              "      <td>3</td>\n",
              "      <td>2</td>\n",
              "      <td>Repaired</td>\n",
              "      <td>Stone</td>\n",
              "      <td>Large</td>\n",
              "      <td>Downtown</td>\n",
              "      <td>11.775290</td>\n",
              "    </tr>\n",
              "    <tr>\n",
              "      <th>2</th>\n",
              "      <td>80000</td>\n",
              "      <td>42</td>\n",
              "      <td>1</td>\n",
              "      <td>3</td>\n",
              "      <td>Repaired</td>\n",
              "      <td>High-rise</td>\n",
              "      <td>Large</td>\n",
              "      <td>Downtown</td>\n",
              "      <td>11.289782</td>\n",
              "    </tr>\n",
              "    <tr>\n",
              "      <th>3</th>\n",
              "      <td>55000</td>\n",
              "      <td>37</td>\n",
              "      <td>1</td>\n",
              "      <td>9</td>\n",
              "      <td>3-5 Years</td>\n",
              "      <td>High-rise</td>\n",
              "      <td>Lodgia</td>\n",
              "      <td>Downtown</td>\n",
              "      <td>10.915088</td>\n",
              "    </tr>\n",
              "    <tr>\n",
              "      <th>4</th>\n",
              "      <td>47000</td>\n",
              "      <td>63</td>\n",
              "      <td>2</td>\n",
              "      <td>8</td>\n",
              "      <td>Repaired</td>\n",
              "      <td>High-rise</td>\n",
              "      <td>Large</td>\n",
              "      <td>Nork</td>\n",
              "      <td>10.757903</td>\n",
              "    </tr>\n",
              "  </tbody>\n",
              "</table>\n",
              "</div>"
            ],
            "text/plain": [
              "    Price  Total Area(m2)  Room Count  ...  Balcony Type  District  Log Price\n",
              "0   52000              66           2  ...         Large   Erebuni  10.858999\n",
              "1  130000              90           3  ...         Large  Downtown  11.775290\n",
              "2   80000              42           1  ...         Large  Downtown  11.289782\n",
              "3   55000              37           1  ...        Lodgia  Downtown  10.915088\n",
              "4   47000              63           2  ...         Large      Nork  10.757903\n",
              "\n",
              "[5 rows x 9 columns]"
            ]
          },
          "metadata": {
            "tags": []
          },
          "execution_count": 161
        }
      ]
    },
    {
      "cell_type": "markdown",
      "metadata": {
        "id": "XD7TXXiLz8TS",
        "colab_type": "text"
      },
      "source": [
        "As we are going to conduct some exploratory data analysis on Price, we will drop this column later, to avoid multicollinearity."
      ]
    },
    {
      "cell_type": "markdown",
      "metadata": {
        "id": "v3Dvqphkz_Y3",
        "colab_type": "text"
      },
      "source": [
        "**Visualisation**"
      ]
    },
    {
      "cell_type": "code",
      "metadata": {
        "id": "wuJ_9W8v0Caz",
        "colab_type": "code",
        "colab": {
          "base_uri": "https://localhost:8080/",
          "height": 421
        },
        "outputId": "8ce3f1d2-ee59-4837-ecb5-64516e9fb28a"
      },
      "source": [
        "#let's see Number of Apartments by District\n",
        "plt.figure(figsize=(6,5))\n",
        "cp=sns.countplot(x=\"District\",data=df, palette='magma',orient=\"v\")\n",
        "cp.set_xticklabels(cp.get_xticklabels(),rotation=-65)\n",
        "plt.xlabel(\"District\")\n",
        "plt.title(\"Number of Apartments for Sale by District\",fontdict={\"fontsize\":16})\n",
        "plt.show()"
      ],
      "execution_count": 162,
      "outputs": [
        {
          "output_type": "display_data",
          "data": {
            "image/png": "[encoded data removed]",
            "text/plain": [
              "<Figure size 432x360 with 1 Axes>"
            ]
          },
          "metadata": {
            "tags": [],
            "needs_background": "light"
          }
        }
      ]
    },
    {
      "cell_type": "code",
      "metadata": {
        "id": "iF0KZuhg0FWx",
        "colab_type": "code",
        "colab": {}
      },
      "source": [
        "#Let's also see mean price by District using groupby method\n",
        "district_df = df.groupby(by='District').mean().round(0)"
      ],
      "execution_count": 163,
      "outputs": []
    },
    {
      "cell_type": "code",
      "metadata": {
        "id": "0Uc9-8Z80IN-",
        "colab_type": "code",
        "colab": {
          "base_uri": "https://localhost:8080/",
          "height": 452
        },
        "outputId": "eaa02d3b-3abf-4115-81ed-a03034a67e6e"
      },
      "source": [
        "district_df"
      ],
      "execution_count": 164,
      "outputs": [
        {
          "output_type": "execute_result",
          "data": {
            "text/html": [
              "<div>\n",
              "<style scoped>\n",
              "    .dataframe tbody tr th:only-of-type {\n",
              "        vertical-align: middle;\n",
              "    }\n",
              "\n",
              "    .dataframe tbody tr th {\n",
              "        vertical-align: top;\n",
              "    }\n",
              "\n",
              "    .dataframe thead th {\n",
              "        text-align: right;\n",
              "    }\n",
              "</style>\n",
              "<table border=\"1\" class=\"dataframe\">\n",
              "  <thead>\n",
              "    <tr style=\"text-align: right;\">\n",
              "      <th></th>\n",
              "      <th>Price</th>\n",
              "      <th>Total Area(m2)</th>\n",
              "      <th>Room Count</th>\n",
              "      <th>Floor</th>\n",
              "      <th>Log Price</th>\n",
              "    </tr>\n",
              "    <tr>\n",
              "      <th>District</th>\n",
              "      <th></th>\n",
              "      <th></th>\n",
              "      <th></th>\n",
              "      <th></th>\n",
              "      <th></th>\n",
              "    </tr>\n",
              "  </thead>\n",
              "  <tbody>\n",
              "    <tr>\n",
              "      <th>Ajapnyak</th>\n",
              "      <td>71738.0</td>\n",
              "      <td>90.0</td>\n",
              "      <td>3.0</td>\n",
              "      <td>5.0</td>\n",
              "      <td>11.0</td>\n",
              "    </tr>\n",
              "    <tr>\n",
              "      <th>Arabkir</th>\n",
              "      <td>112982.0</td>\n",
              "      <td>91.0</td>\n",
              "      <td>3.0</td>\n",
              "      <td>5.0</td>\n",
              "      <td>12.0</td>\n",
              "    </tr>\n",
              "    <tr>\n",
              "      <th>Avan</th>\n",
              "      <td>67095.0</td>\n",
              "      <td>88.0</td>\n",
              "      <td>3.0</td>\n",
              "      <td>5.0</td>\n",
              "      <td>11.0</td>\n",
              "    </tr>\n",
              "    <tr>\n",
              "      <th>Davtashen</th>\n",
              "      <td>118205.0</td>\n",
              "      <td>100.0</td>\n",
              "      <td>3.0</td>\n",
              "      <td>7.0</td>\n",
              "      <td>12.0</td>\n",
              "    </tr>\n",
              "    <tr>\n",
              "      <th>Downtown</th>\n",
              "      <td>190334.0</td>\n",
              "      <td>102.0</td>\n",
              "      <td>3.0</td>\n",
              "      <td>5.0</td>\n",
              "      <td>12.0</td>\n",
              "    </tr>\n",
              "    <tr>\n",
              "      <th>Erebuni</th>\n",
              "      <td>59241.0</td>\n",
              "      <td>72.0</td>\n",
              "      <td>2.0</td>\n",
              "      <td>5.0</td>\n",
              "      <td>11.0</td>\n",
              "    </tr>\n",
              "    <tr>\n",
              "      <th>Kanaker-Zeitun</th>\n",
              "      <td>82918.0</td>\n",
              "      <td>87.0</td>\n",
              "      <td>3.0</td>\n",
              "      <td>6.0</td>\n",
              "      <td>11.0</td>\n",
              "    </tr>\n",
              "    <tr>\n",
              "      <th>Malatia-Sebastia</th>\n",
              "      <td>63590.0</td>\n",
              "      <td>81.0</td>\n",
              "      <td>3.0</td>\n",
              "      <td>5.0</td>\n",
              "      <td>11.0</td>\n",
              "    </tr>\n",
              "    <tr>\n",
              "      <th>Nork</th>\n",
              "      <td>74856.0</td>\n",
              "      <td>85.0</td>\n",
              "      <td>3.0</td>\n",
              "      <td>4.0</td>\n",
              "      <td>11.0</td>\n",
              "    </tr>\n",
              "    <tr>\n",
              "      <th>Nork-Marash</th>\n",
              "      <td>130000.0</td>\n",
              "      <td>125.0</td>\n",
              "      <td>4.0</td>\n",
              "      <td>3.0</td>\n",
              "      <td>12.0</td>\n",
              "    </tr>\n",
              "    <tr>\n",
              "      <th>Nubarashen</th>\n",
              "      <td>80000.0</td>\n",
              "      <td>92.0</td>\n",
              "      <td>3.0</td>\n",
              "      <td>2.0</td>\n",
              "      <td>11.0</td>\n",
              "    </tr>\n",
              "    <tr>\n",
              "      <th>Shengavit</th>\n",
              "      <td>71975.0</td>\n",
              "      <td>84.0</td>\n",
              "      <td>3.0</td>\n",
              "      <td>4.0</td>\n",
              "      <td>11.0</td>\n",
              "    </tr>\n",
              "  </tbody>\n",
              "</table>\n",
              "</div>"
            ],
            "text/plain": [
              "                     Price  Total Area(m2)  Room Count  Floor  Log Price\n",
              "District                                                                \n",
              "Ajapnyak           71738.0            90.0         3.0    5.0       11.0\n",
              "Arabkir           112982.0            91.0         3.0    5.0       12.0\n",
              "Avan               67095.0            88.0         3.0    5.0       11.0\n",
              "Davtashen         118205.0           100.0         3.0    7.0       12.0\n",
              "Downtown          190334.0           102.0         3.0    5.0       12.0\n",
              "Erebuni            59241.0            72.0         2.0    5.0       11.0\n",
              "Kanaker-Zeitun     82918.0            87.0         3.0    6.0       11.0\n",
              "Malatia-Sebastia   63590.0            81.0         3.0    5.0       11.0\n",
              "Nork               74856.0            85.0         3.0    4.0       11.0\n",
              "Nork-Marash       130000.0           125.0         4.0    3.0       12.0\n",
              "Nubarashen         80000.0            92.0         3.0    2.0       11.0\n",
              "Shengavit          71975.0            84.0         3.0    4.0       11.0"
            ]
          },
          "metadata": {
            "tags": []
          },
          "execution_count": 164
        }
      ]
    },
    {
      "cell_type": "code",
      "metadata": {
        "id": "lArNfcMS0KLt",
        "colab_type": "code",
        "colab": {
          "base_uri": "https://localhost:8080/",
          "height": 408
        },
        "outputId": "f9a2207f-8d5a-40c8-f027-f67c7f31c66a"
      },
      "source": [
        "#let's see the mean price by District\n",
        "plt.figure(figsize = (10,5))\n",
        "plt.plot(district_df.Price)\n",
        "plt.xlabel(\"District\")\n",
        "plt.xticks(rotation = 45)\n",
        "plt.title(\"Mean Price by District\",fontdict = {\"fontsize\":16})\n",
        "plt.show()"
      ],
      "execution_count": 165,
      "outputs": [
        {
          "output_type": "display_data",
          "data": {
            "image/png": "[encoded data removed]",
            "text/plain": [
              "<Figure size 720x360 with 1 Axes>"
            ]
          },
          "metadata": {
            "tags": [],
            "needs_background": "light"
          }
        }
      ]
    },
    {
      "cell_type": "code",
      "metadata": {
        "id": "BpT2LivL0MZT",
        "colab_type": "code",
        "colab": {}
      },
      "source": [
        "# To avoid moticoliniarity, we should drop Price and continue with Log Price\n",
        "data = df.drop(['Price'], axis=1)"
      ],
      "execution_count": 166,
      "outputs": []
    },
    {
      "cell_type": "code",
      "metadata": {
        "id": "Td3xtZzxQvhw",
        "colab_type": "code",
        "colab": {
          "base_uri": "https://localhost:8080/",
          "height": 272
        },
        "outputId": "b925d037-6284-46e2-a894-3ab3ab66e77f"
      },
      "source": [
        "data.info()"
      ],
      "execution_count": 167,
      "outputs": [
        {
          "output_type": "stream",
          "text": [
            "<class 'pandas.core.frame.DataFrame'>\n",
            "RangeIndex: 1930 entries, 0 to 1929\n",
            "Data columns (total 8 columns):\n",
            " #   Column          Non-Null Count  Dtype  \n",
            "---  ------          --------------  -----  \n",
            " 0   Total Area(m2)  1930 non-null   int64  \n",
            " 1   Room Count      1930 non-null   int64  \n",
            " 2   Floor           1930 non-null   int64  \n",
            " 3   Condition       1930 non-null   object \n",
            " 4   Building Type   1930 non-null   object \n",
            " 5   Balcony Type    1930 non-null   object \n",
            " 6   District        1930 non-null   object \n",
            " 7   Log Price       1930 non-null   float64\n",
            "dtypes: float64(1), int64(3), object(4)\n",
            "memory usage: 120.8+ KB\n"
          ],
          "name": "stdout"
        }
      ]
    },
    {
      "cell_type": "code",
      "metadata": {
        "id": "Vi5LbSK70P0q",
        "colab_type": "code",
        "colab": {
          "base_uri": "https://localhost:8080/",
          "height": 204
        },
        "outputId": "df72d56f-cb3c-4ccb-dd96-c9ee322511b7"
      },
      "source": [
        "data.head()"
      ],
      "execution_count": 168,
      "outputs": [
        {
          "output_type": "execute_result",
          "data": {
            "text/html": [
              "<div>\n",
              "<style scoped>\n",
              "    .dataframe tbody tr th:only-of-type {\n",
              "        vertical-align: middle;\n",
              "    }\n",
              "\n",
              "    .dataframe tbody tr th {\n",
              "        vertical-align: top;\n",
              "    }\n",
              "\n",
              "    .dataframe thead th {\n",
              "        text-align: right;\n",
              "    }\n",
              "</style>\n",
              "<table border=\"1\" class=\"dataframe\">\n",
              "  <thead>\n",
              "    <tr style=\"text-align: right;\">\n",
              "      <th></th>\n",
              "      <th>Total Area(m2)</th>\n",
              "      <th>Room Count</th>\n",
              "      <th>Floor</th>\n",
              "      <th>Condition</th>\n",
              "      <th>Building Type</th>\n",
              "      <th>Balcony Type</th>\n",
              "      <th>District</th>\n",
              "      <th>Log Price</th>\n",
              "    </tr>\n",
              "  </thead>\n",
              "  <tbody>\n",
              "    <tr>\n",
              "      <th>0</th>\n",
              "      <td>66</td>\n",
              "      <td>2</td>\n",
              "      <td>4</td>\n",
              "      <td>Repaired</td>\n",
              "      <td>High-rise</td>\n",
              "      <td>Large</td>\n",
              "      <td>Erebuni</td>\n",
              "      <td>10.858999</td>\n",
              "    </tr>\n",
              "    <tr>\n",
              "      <th>1</th>\n",
              "      <td>90</td>\n",
              "      <td>3</td>\n",
              "      <td>2</td>\n",
              "      <td>Repaired</td>\n",
              "      <td>Stone</td>\n",
              "      <td>Large</td>\n",
              "      <td>Downtown</td>\n",
              "      <td>11.775290</td>\n",
              "    </tr>\n",
              "    <tr>\n",
              "      <th>2</th>\n",
              "      <td>42</td>\n",
              "      <td>1</td>\n",
              "      <td>3</td>\n",
              "      <td>Repaired</td>\n",
              "      <td>High-rise</td>\n",
              "      <td>Large</td>\n",
              "      <td>Downtown</td>\n",
              "      <td>11.289782</td>\n",
              "    </tr>\n",
              "    <tr>\n",
              "      <th>3</th>\n",
              "      <td>37</td>\n",
              "      <td>1</td>\n",
              "      <td>9</td>\n",
              "      <td>3-5 Years</td>\n",
              "      <td>High-rise</td>\n",
              "      <td>Lodgia</td>\n",
              "      <td>Downtown</td>\n",
              "      <td>10.915088</td>\n",
              "    </tr>\n",
              "    <tr>\n",
              "      <th>4</th>\n",
              "      <td>63</td>\n",
              "      <td>2</td>\n",
              "      <td>8</td>\n",
              "      <td>Repaired</td>\n",
              "      <td>High-rise</td>\n",
              "      <td>Large</td>\n",
              "      <td>Nork</td>\n",
              "      <td>10.757903</td>\n",
              "    </tr>\n",
              "  </tbody>\n",
              "</table>\n",
              "</div>"
            ],
            "text/plain": [
              "   Total Area(m2)  Room Count  Floor  ... Balcony Type  District  Log Price\n",
              "0              66           2      4  ...        Large   Erebuni  10.858999\n",
              "1              90           3      2  ...        Large  Downtown  11.775290\n",
              "2              42           1      3  ...        Large  Downtown  11.289782\n",
              "3              37           1      9  ...       Lodgia  Downtown  10.915088\n",
              "4              63           2      8  ...        Large      Nork  10.757903\n",
              "\n",
              "[5 rows x 8 columns]"
            ]
          },
          "metadata": {
            "tags": []
          },
          "execution_count": 168
        }
      ]
    },
    {
      "cell_type": "markdown",
      "metadata": {
        "id": "vgcdySJw0Uuu",
        "colab_type": "text"
      },
      "source": [
        "#### **Model selection**"
      ]
    },
    {
      "cell_type": "code",
      "metadata": {
        "id": "01XBaCg_0R_q",
        "colab_type": "code",
        "colab": {
          "base_uri": "https://localhost:8080/",
          "height": 173
        },
        "outputId": "c1f47e23-0ea7-425d-9d5e-baa1ea2d3a56"
      },
      "source": [
        "#lets see the corrplot\n",
        "data.corr()"
      ],
      "execution_count": 169,
      "outputs": [
        {
          "output_type": "execute_result",
          "data": {
            "text/html": [
              "<div>\n",
              "<style scoped>\n",
              "    .dataframe tbody tr th:only-of-type {\n",
              "        vertical-align: middle;\n",
              "    }\n",
              "\n",
              "    .dataframe tbody tr th {\n",
              "        vertical-align: top;\n",
              "    }\n",
              "\n",
              "    .dataframe thead th {\n",
              "        text-align: right;\n",
              "    }\n",
              "</style>\n",
              "<table border=\"1\" class=\"dataframe\">\n",
              "  <thead>\n",
              "    <tr style=\"text-align: right;\">\n",
              "      <th></th>\n",
              "      <th>Total Area(m2)</th>\n",
              "      <th>Room Count</th>\n",
              "      <th>Floor</th>\n",
              "      <th>Log Price</th>\n",
              "    </tr>\n",
              "  </thead>\n",
              "  <tbody>\n",
              "    <tr>\n",
              "      <th>Total Area(m2)</th>\n",
              "      <td>1.000000</td>\n",
              "      <td>0.771457</td>\n",
              "      <td>0.068633</td>\n",
              "      <td>0.682007</td>\n",
              "    </tr>\n",
              "    <tr>\n",
              "      <th>Room Count</th>\n",
              "      <td>0.771457</td>\n",
              "      <td>1.000000</td>\n",
              "      <td>0.016102</td>\n",
              "      <td>0.452353</td>\n",
              "    </tr>\n",
              "    <tr>\n",
              "      <th>Floor</th>\n",
              "      <td>0.068633</td>\n",
              "      <td>0.016102</td>\n",
              "      <td>1.000000</td>\n",
              "      <td>0.058133</td>\n",
              "    </tr>\n",
              "    <tr>\n",
              "      <th>Log Price</th>\n",
              "      <td>0.682007</td>\n",
              "      <td>0.452353</td>\n",
              "      <td>0.058133</td>\n",
              "      <td>1.000000</td>\n",
              "    </tr>\n",
              "  </tbody>\n",
              "</table>\n",
              "</div>"
            ],
            "text/plain": [
              "                Total Area(m2)  Room Count     Floor  Log Price\n",
              "Total Area(m2)        1.000000    0.771457  0.068633   0.682007\n",
              "Room Count            0.771457    1.000000  0.016102   0.452353\n",
              "Floor                 0.068633    0.016102  1.000000   0.058133\n",
              "Log Price             0.682007    0.452353  0.058133   1.000000"
            ]
          },
          "metadata": {
            "tags": []
          },
          "execution_count": 169
        }
      ]
    },
    {
      "cell_type": "code",
      "metadata": {
        "id": "6X2eXEZ90aka",
        "colab_type": "code",
        "colab": {
          "base_uri": "https://localhost:8080/",
          "height": 324
        },
        "outputId": "dbeee162-0fef-4b8c-bd12-4736809b0b01"
      },
      "source": [
        "#Let's visualize correlations\n",
        "plt.figure(figsize=(10,5))\n",
        "sns.heatmap(data.corr().abs().round(2),annot=True, cmap = \"BuGn\")\n",
        "plt.show()"
      ],
      "execution_count": 170,
      "outputs": [
        {
          "output_type": "display_data",
          "data": {
            "image/png": "[encoded data removed]",
            "text/plain": [
              "<Figure size 720x360 with 2 Axes>"
            ]
          },
          "metadata": {
            "tags": [],
            "needs_background": "light"
          }
        }
      ]
    },
    {
      "cell_type": "markdown",
      "metadata": {
        "id": "UaLIl76d0giW",
        "colab_type": "text"
      },
      "source": [
        "There are strong correlation between 'Total Area' & 'Log Price' and 'Total Area' & 'Room Count'."
      ]
    },
    {
      "cell_type": "markdown",
      "metadata": {
        "id": "vYlOMKU90j0y",
        "colab_type": "text"
      },
      "source": [
        "**Checking Multicollinearity**\n",
        "\n",
        "Checking for another Linear Regression OLS assumption.\n",
        "\n",
        "It is obvious that ‘Total Area’ and ‘Room Count’ are dependent. Let's check this with the VIF method.\n"
      ]
    },
    {
      "cell_type": "code",
      "metadata": {
        "id": "rq8x30LS0kbH",
        "colab_type": "code",
        "colab": {}
      },
      "source": [
        "from statsmodels.stats.outliers_influence import variance_inflation_factor\n",
        "variables = data[['Total Area(m2)', 'Room Count', 'Floor']]\n",
        "vif = pd.DataFrame()\n",
        "vif[\"vif\"] = [variance_inflation_factor(variables.values, i) for i in range(variables.shape[1])]\n",
        "vif[\"features\"] = variables.columns"
      ],
      "execution_count": 171,
      "outputs": []
    },
    {
      "cell_type": "code",
      "metadata": {
        "id": "BL2zZimz0mrE",
        "colab_type": "code",
        "colab": {
          "base_uri": "https://localhost:8080/",
          "height": 142
        },
        "outputId": "48fb88a0-af1b-4f65-828a-5f952a6e8810"
      },
      "source": [
        "vif"
      ],
      "execution_count": 172,
      "outputs": [
        {
          "output_type": "execute_result",
          "data": {
            "text/html": [
              "<div>\n",
              "<style scoped>\n",
              "    .dataframe tbody tr th:only-of-type {\n",
              "        vertical-align: middle;\n",
              "    }\n",
              "\n",
              "    .dataframe tbody tr th {\n",
              "        vertical-align: top;\n",
              "    }\n",
              "\n",
              "    .dataframe thead th {\n",
              "        text-align: right;\n",
              "    }\n",
              "</style>\n",
              "<table border=\"1\" class=\"dataframe\">\n",
              "  <thead>\n",
              "    <tr style=\"text-align: right;\">\n",
              "      <th></th>\n",
              "      <th>vif</th>\n",
              "      <th>features</th>\n",
              "    </tr>\n",
              "  </thead>\n",
              "  <tbody>\n",
              "    <tr>\n",
              "      <th>0</th>\n",
              "      <td>18.260793</td>\n",
              "      <td>Total Area(m2)</td>\n",
              "    </tr>\n",
              "    <tr>\n",
              "      <th>1</th>\n",
              "      <td>18.728494</td>\n",
              "      <td>Room Count</td>\n",
              "    </tr>\n",
              "    <tr>\n",
              "      <th>2</th>\n",
              "      <td>2.646985</td>\n",
              "      <td>Floor</td>\n",
              "    </tr>\n",
              "  </tbody>\n",
              "</table>\n",
              "</div>"
            ],
            "text/plain": [
              "         vif        features\n",
              "0  18.260793  Total Area(m2)\n",
              "1  18.728494      Room Count\n",
              "2   2.646985           Floor"
            ]
          },
          "metadata": {
            "tags": []
          },
          "execution_count": 172
        }
      ]
    },
    {
      "cell_type": "markdown",
      "metadata": {
        "id": "jU6H6Nnx0s2V",
        "colab_type": "text"
      },
      "source": [
        "As we see, they have high values, which means we should delete one that has the highest value."
      ]
    },
    {
      "cell_type": "code",
      "metadata": {
        "id": "sFpk_Uy-0wmx",
        "colab_type": "code",
        "colab": {}
      },
      "source": [
        "data_no_multicolinearity = data.drop(['Room Count'], axis=1)"
      ],
      "execution_count": 173,
      "outputs": []
    },
    {
      "cell_type": "code",
      "metadata": {
        "id": "9mgM1qlO0xXV",
        "colab_type": "code",
        "colab": {
          "base_uri": "https://localhost:8080/",
          "height": 204
        },
        "outputId": "76b6a4e0-d163-42ed-87b2-608464ebab9f"
      },
      "source": [
        "data_no_multicolinearity.head()"
      ],
      "execution_count": 174,
      "outputs": [
        {
          "output_type": "execute_result",
          "data": {
            "text/html": [
              "<div>\n",
              "<style scoped>\n",
              "    .dataframe tbody tr th:only-of-type {\n",
              "        vertical-align: middle;\n",
              "    }\n",
              "\n",
              "    .dataframe tbody tr th {\n",
              "        vertical-align: top;\n",
              "    }\n",
              "\n",
              "    .dataframe thead th {\n",
              "        text-align: right;\n",
              "    }\n",
              "</style>\n",
              "<table border=\"1\" class=\"dataframe\">\n",
              "  <thead>\n",
              "    <tr style=\"text-align: right;\">\n",
              "      <th></th>\n",
              "      <th>Total Area(m2)</th>\n",
              "      <th>Floor</th>\n",
              "      <th>Condition</th>\n",
              "      <th>Building Type</th>\n",
              "      <th>Balcony Type</th>\n",
              "      <th>District</th>\n",
              "      <th>Log Price</th>\n",
              "    </tr>\n",
              "  </thead>\n",
              "  <tbody>\n",
              "    <tr>\n",
              "      <th>0</th>\n",
              "      <td>66</td>\n",
              "      <td>4</td>\n",
              "      <td>Repaired</td>\n",
              "      <td>High-rise</td>\n",
              "      <td>Large</td>\n",
              "      <td>Erebuni</td>\n",
              "      <td>10.858999</td>\n",
              "    </tr>\n",
              "    <tr>\n",
              "      <th>1</th>\n",
              "      <td>90</td>\n",
              "      <td>2</td>\n",
              "      <td>Repaired</td>\n",
              "      <td>Stone</td>\n",
              "      <td>Large</td>\n",
              "      <td>Downtown</td>\n",
              "      <td>11.775290</td>\n",
              "    </tr>\n",
              "    <tr>\n",
              "      <th>2</th>\n",
              "      <td>42</td>\n",
              "      <td>3</td>\n",
              "      <td>Repaired</td>\n",
              "      <td>High-rise</td>\n",
              "      <td>Large</td>\n",
              "      <td>Downtown</td>\n",
              "      <td>11.289782</td>\n",
              "    </tr>\n",
              "    <tr>\n",
              "      <th>3</th>\n",
              "      <td>37</td>\n",
              "      <td>9</td>\n",
              "      <td>3-5 Years</td>\n",
              "      <td>High-rise</td>\n",
              "      <td>Lodgia</td>\n",
              "      <td>Downtown</td>\n",
              "      <td>10.915088</td>\n",
              "    </tr>\n",
              "    <tr>\n",
              "      <th>4</th>\n",
              "      <td>63</td>\n",
              "      <td>8</td>\n",
              "      <td>Repaired</td>\n",
              "      <td>High-rise</td>\n",
              "      <td>Large</td>\n",
              "      <td>Nork</td>\n",
              "      <td>10.757903</td>\n",
              "    </tr>\n",
              "  </tbody>\n",
              "</table>\n",
              "</div>"
            ],
            "text/plain": [
              "   Total Area(m2)  Floor  Condition  ... Balcony Type  District  Log Price\n",
              "0              66      4   Repaired  ...        Large   Erebuni  10.858999\n",
              "1              90      2   Repaired  ...        Large  Downtown  11.775290\n",
              "2              42      3   Repaired  ...        Large  Downtown  11.289782\n",
              "3              37      9  3-5 Years  ...       Lodgia  Downtown  10.915088\n",
              "4              63      8   Repaired  ...        Large      Nork  10.757903\n",
              "\n",
              "[5 rows x 7 columns]"
            ]
          },
          "metadata": {
            "tags": []
          },
          "execution_count": 174
        }
      ]
    },
    {
      "cell_type": "markdown",
      "metadata": {
        "id": "tQ7tNAoW015x",
        "colab_type": "text"
      },
      "source": [
        "**Creating dummy variables for our categorical variables**"
      ]
    },
    {
      "cell_type": "code",
      "metadata": {
        "id": "0avlEHfd0zXZ",
        "colab_type": "code",
        "colab": {}
      },
      "source": [
        "data_with_dummies = pd.get_dummies(data_no_multicolinearity, drop_first=True)"
      ],
      "execution_count": 175,
      "outputs": []
    },
    {
      "cell_type": "code",
      "metadata": {
        "id": "c2O3BXvs05e1",
        "colab_type": "code",
        "colab": {
          "base_uri": "https://localhost:8080/",
          "height": 258
        },
        "outputId": "06522d59-50ad-4e8c-ca62-9492ccf62749"
      },
      "source": [
        "data_with_dummies.head()"
      ],
      "execution_count": 176,
      "outputs": [
        {
          "output_type": "execute_result",
          "data": {
            "text/html": [
              "<div>\n",
              "<style scoped>\n",
              "    .dataframe tbody tr th:only-of-type {\n",
              "        vertical-align: middle;\n",
              "    }\n",
              "\n",
              "    .dataframe tbody tr th {\n",
              "        vertical-align: top;\n",
              "    }\n",
              "\n",
              "    .dataframe thead th {\n",
              "        text-align: right;\n",
              "    }\n",
              "</style>\n",
              "<table border=\"1\" class=\"dataframe\">\n",
              "  <thead>\n",
              "    <tr style=\"text-align: right;\">\n",
              "      <th></th>\n",
              "      <th>Total Area(m2)</th>\n",
              "      <th>Floor</th>\n",
              "      <th>Log Price</th>\n",
              "      <th>Condition_3-5 Years</th>\n",
              "      <th>Condition_Needs Repairing</th>\n",
              "      <th>Condition_Original</th>\n",
              "      <th>Condition_Repaired</th>\n",
              "      <th>Condition_Ruins</th>\n",
              "      <th>Building Type_High-rise</th>\n",
              "      <th>Building Type_Khrushchev(2,5-2,6м)</th>\n",
              "      <th>Building Type_Khrushchev(2,75м)</th>\n",
              "      <th>Building Type_New Building</th>\n",
              "      <th>Building Type_Panel(5floor)</th>\n",
              "      <th>Building Type_Stalinian</th>\n",
              "      <th>Building Type_Stone</th>\n",
              "      <th>Balcony Type_Front</th>\n",
              "      <th>Balcony Type_Large</th>\n",
              "      <th>Balcony Type_Lodgia</th>\n",
              "      <th>District_Arabkir</th>\n",
              "      <th>District_Avan</th>\n",
              "      <th>District_Davtashen</th>\n",
              "      <th>District_Downtown</th>\n",
              "      <th>District_Erebuni</th>\n",
              "      <th>District_Kanaker-Zeitun</th>\n",
              "      <th>District_Malatia-Sebastia</th>\n",
              "      <th>District_Nork</th>\n",
              "      <th>District_Nork-Marash</th>\n",
              "      <th>District_Nubarashen</th>\n",
              "      <th>District_Shengavit</th>\n",
              "    </tr>\n",
              "  </thead>\n",
              "  <tbody>\n",
              "    <tr>\n",
              "      <th>0</th>\n",
              "      <td>66</td>\n",
              "      <td>4</td>\n",
              "      <td>10.858999</td>\n",
              "      <td>0</td>\n",
              "      <td>0</td>\n",
              "      <td>0</td>\n",
              "      <td>1</td>\n",
              "      <td>0</td>\n",
              "      <td>1</td>\n",
              "      <td>0</td>\n",
              "      <td>0</td>\n",
              "      <td>0</td>\n",
              "      <td>0</td>\n",
              "      <td>0</td>\n",
              "      <td>0</td>\n",
              "      <td>0</td>\n",
              "      <td>1</td>\n",
              "      <td>0</td>\n",
              "      <td>0</td>\n",
              "      <td>0</td>\n",
              "      <td>0</td>\n",
              "      <td>0</td>\n",
              "      <td>1</td>\n",
              "      <td>0</td>\n",
              "      <td>0</td>\n",
              "      <td>0</td>\n",
              "      <td>0</td>\n",
              "      <td>0</td>\n",
              "      <td>0</td>\n",
              "    </tr>\n",
              "    <tr>\n",
              "      <th>1</th>\n",
              "      <td>90</td>\n",
              "      <td>2</td>\n",
              "      <td>11.775290</td>\n",
              "      <td>0</td>\n",
              "      <td>0</td>\n",
              "      <td>0</td>\n",
              "      <td>1</td>\n",
              "      <td>0</td>\n",
              "      <td>0</td>\n",
              "      <td>0</td>\n",
              "      <td>0</td>\n",
              "      <td>0</td>\n",
              "      <td>0</td>\n",
              "      <td>0</td>\n",
              "      <td>1</td>\n",
              "      <td>0</td>\n",
              "      <td>1</td>\n",
              "      <td>0</td>\n",
              "      <td>0</td>\n",
              "      <td>0</td>\n",
              "      <td>0</td>\n",
              "      <td>1</td>\n",
              "      <td>0</td>\n",
              "      <td>0</td>\n",
              "      <td>0</td>\n",
              "      <td>0</td>\n",
              "      <td>0</td>\n",
              "      <td>0</td>\n",
              "      <td>0</td>\n",
              "    </tr>\n",
              "    <tr>\n",
              "      <th>2</th>\n",
              "      <td>42</td>\n",
              "      <td>3</td>\n",
              "      <td>11.289782</td>\n",
              "      <td>0</td>\n",
              "      <td>0</td>\n",
              "      <td>0</td>\n",
              "      <td>1</td>\n",
              "      <td>0</td>\n",
              "      <td>1</td>\n",
              "      <td>0</td>\n",
              "      <td>0</td>\n",
              "      <td>0</td>\n",
              "      <td>0</td>\n",
              "      <td>0</td>\n",
              "      <td>0</td>\n",
              "      <td>0</td>\n",
              "      <td>1</td>\n",
              "      <td>0</td>\n",
              "      <td>0</td>\n",
              "      <td>0</td>\n",
              "      <td>0</td>\n",
              "      <td>1</td>\n",
              "      <td>0</td>\n",
              "      <td>0</td>\n",
              "      <td>0</td>\n",
              "      <td>0</td>\n",
              "      <td>0</td>\n",
              "      <td>0</td>\n",
              "      <td>0</td>\n",
              "    </tr>\n",
              "    <tr>\n",
              "      <th>3</th>\n",
              "      <td>37</td>\n",
              "      <td>9</td>\n",
              "      <td>10.915088</td>\n",
              "      <td>1</td>\n",
              "      <td>0</td>\n",
              "      <td>0</td>\n",
              "      <td>0</td>\n",
              "      <td>0</td>\n",
              "      <td>1</td>\n",
              "      <td>0</td>\n",
              "      <td>0</td>\n",
              "      <td>0</td>\n",
              "      <td>0</td>\n",
              "      <td>0</td>\n",
              "      <td>0</td>\n",
              "      <td>0</td>\n",
              "      <td>0</td>\n",
              "      <td>1</td>\n",
              "      <td>0</td>\n",
              "      <td>0</td>\n",
              "      <td>0</td>\n",
              "      <td>1</td>\n",
              "      <td>0</td>\n",
              "      <td>0</td>\n",
              "      <td>0</td>\n",
              "      <td>0</td>\n",
              "      <td>0</td>\n",
              "      <td>0</td>\n",
              "      <td>0</td>\n",
              "    </tr>\n",
              "    <tr>\n",
              "      <th>4</th>\n",
              "      <td>63</td>\n",
              "      <td>8</td>\n",
              "      <td>10.757903</td>\n",
              "      <td>0</td>\n",
              "      <td>0</td>\n",
              "      <td>0</td>\n",
              "      <td>1</td>\n",
              "      <td>0</td>\n",
              "      <td>1</td>\n",
              "      <td>0</td>\n",
              "      <td>0</td>\n",
              "      <td>0</td>\n",
              "      <td>0</td>\n",
              "      <td>0</td>\n",
              "      <td>0</td>\n",
              "      <td>0</td>\n",
              "      <td>1</td>\n",
              "      <td>0</td>\n",
              "      <td>0</td>\n",
              "      <td>0</td>\n",
              "      <td>0</td>\n",
              "      <td>0</td>\n",
              "      <td>0</td>\n",
              "      <td>0</td>\n",
              "      <td>0</td>\n",
              "      <td>1</td>\n",
              "      <td>0</td>\n",
              "      <td>0</td>\n",
              "      <td>0</td>\n",
              "    </tr>\n",
              "  </tbody>\n",
              "</table>\n",
              "</div>"
            ],
            "text/plain": [
              "   Total Area(m2)  Floor  ...  District_Nubarashen  District_Shengavit\n",
              "0              66      4  ...                    0                   0\n",
              "1              90      2  ...                    0                   0\n",
              "2              42      3  ...                    0                   0\n",
              "3              37      9  ...                    0                   0\n",
              "4              63      8  ...                    0                   0\n",
              "\n",
              "[5 rows x 29 columns]"
            ]
          },
          "metadata": {
            "tags": []
          },
          "execution_count": 176
        }
      ]
    },
    {
      "cell_type": "code",
      "metadata": {
        "id": "qGp-X3IP07gR",
        "colab_type": "code",
        "colab": {}
      },
      "source": [
        "data_with_dummies[\"Total Area\"] = np.sqrt(data_with_dummies[\"Total Area(m2)\"])"
      ],
      "execution_count": 177,
      "outputs": []
    },
    {
      "cell_type": "code",
      "metadata": {
        "id": "tN0A3r_f0-yw",
        "colab_type": "code",
        "colab": {
          "base_uri": "https://localhost:8080/",
          "height": 258
        },
        "outputId": "05cb3e1f-dc20-4484-8540-269a5ebfa49b"
      },
      "source": [
        "data_with_dummies.head()"
      ],
      "execution_count": 178,
      "outputs": [
        {
          "output_type": "execute_result",
          "data": {
            "text/html": [
              "<div>\n",
              "<style scoped>\n",
              "    .dataframe tbody tr th:only-of-type {\n",
              "        vertical-align: middle;\n",
              "    }\n",
              "\n",
              "    .dataframe tbody tr th {\n",
              "        vertical-align: top;\n",
              "    }\n",
              "\n",
              "    .dataframe thead th {\n",
              "        text-align: right;\n",
              "    }\n",
              "</style>\n",
              "<table border=\"1\" class=\"dataframe\">\n",
              "  <thead>\n",
              "    <tr style=\"text-align: right;\">\n",
              "      <th></th>\n",
              "      <th>Total Area(m2)</th>\n",
              "      <th>Floor</th>\n",
              "      <th>Log Price</th>\n",
              "      <th>Condition_3-5 Years</th>\n",
              "      <th>Condition_Needs Repairing</th>\n",
              "      <th>Condition_Original</th>\n",
              "      <th>Condition_Repaired</th>\n",
              "      <th>Condition_Ruins</th>\n",
              "      <th>Building Type_High-rise</th>\n",
              "      <th>Building Type_Khrushchev(2,5-2,6м)</th>\n",
              "      <th>Building Type_Khrushchev(2,75м)</th>\n",
              "      <th>Building Type_New Building</th>\n",
              "      <th>Building Type_Panel(5floor)</th>\n",
              "      <th>Building Type_Stalinian</th>\n",
              "      <th>Building Type_Stone</th>\n",
              "      <th>Balcony Type_Front</th>\n",
              "      <th>Balcony Type_Large</th>\n",
              "      <th>Balcony Type_Lodgia</th>\n",
              "      <th>District_Arabkir</th>\n",
              "      <th>District_Avan</th>\n",
              "      <th>District_Davtashen</th>\n",
              "      <th>District_Downtown</th>\n",
              "      <th>District_Erebuni</th>\n",
              "      <th>District_Kanaker-Zeitun</th>\n",
              "      <th>District_Malatia-Sebastia</th>\n",
              "      <th>District_Nork</th>\n",
              "      <th>District_Nork-Marash</th>\n",
              "      <th>District_Nubarashen</th>\n",
              "      <th>District_Shengavit</th>\n",
              "      <th>Total Area</th>\n",
              "    </tr>\n",
              "  </thead>\n",
              "  <tbody>\n",
              "    <tr>\n",
              "      <th>0</th>\n",
              "      <td>66</td>\n",
              "      <td>4</td>\n",
              "      <td>10.858999</td>\n",
              "      <td>0</td>\n",
              "      <td>0</td>\n",
              "      <td>0</td>\n",
              "      <td>1</td>\n",
              "      <td>0</td>\n",
              "      <td>1</td>\n",
              "      <td>0</td>\n",
              "      <td>0</td>\n",
              "      <td>0</td>\n",
              "      <td>0</td>\n",
              "      <td>0</td>\n",
              "      <td>0</td>\n",
              "      <td>0</td>\n",
              "      <td>1</td>\n",
              "      <td>0</td>\n",
              "      <td>0</td>\n",
              "      <td>0</td>\n",
              "      <td>0</td>\n",
              "      <td>0</td>\n",
              "      <td>1</td>\n",
              "      <td>0</td>\n",
              "      <td>0</td>\n",
              "      <td>0</td>\n",
              "      <td>0</td>\n",
              "      <td>0</td>\n",
              "      <td>0</td>\n",
              "      <td>8.124038</td>\n",
              "    </tr>\n",
              "    <tr>\n",
              "      <th>1</th>\n",
              "      <td>90</td>\n",
              "      <td>2</td>\n",
              "      <td>11.775290</td>\n",
              "      <td>0</td>\n",
              "      <td>0</td>\n",
              "      <td>0</td>\n",
              "      <td>1</td>\n",
              "      <td>0</td>\n",
              "      <td>0</td>\n",
              "      <td>0</td>\n",
              "      <td>0</td>\n",
              "      <td>0</td>\n",
              "      <td>0</td>\n",
              "      <td>0</td>\n",
              "      <td>1</td>\n",
              "      <td>0</td>\n",
              "      <td>1</td>\n",
              "      <td>0</td>\n",
              "      <td>0</td>\n",
              "      <td>0</td>\n",
              "      <td>0</td>\n",
              "      <td>1</td>\n",
              "      <td>0</td>\n",
              "      <td>0</td>\n",
              "      <td>0</td>\n",
              "      <td>0</td>\n",
              "      <td>0</td>\n",
              "      <td>0</td>\n",
              "      <td>0</td>\n",
              "      <td>9.486833</td>\n",
              "    </tr>\n",
              "    <tr>\n",
              "      <th>2</th>\n",
              "      <td>42</td>\n",
              "      <td>3</td>\n",
              "      <td>11.289782</td>\n",
              "      <td>0</td>\n",
              "      <td>0</td>\n",
              "      <td>0</td>\n",
              "      <td>1</td>\n",
              "      <td>0</td>\n",
              "      <td>1</td>\n",
              "      <td>0</td>\n",
              "      <td>0</td>\n",
              "      <td>0</td>\n",
              "      <td>0</td>\n",
              "      <td>0</td>\n",
              "      <td>0</td>\n",
              "      <td>0</td>\n",
              "      <td>1</td>\n",
              "      <td>0</td>\n",
              "      <td>0</td>\n",
              "      <td>0</td>\n",
              "      <td>0</td>\n",
              "      <td>1</td>\n",
              "      <td>0</td>\n",
              "      <td>0</td>\n",
              "      <td>0</td>\n",
              "      <td>0</td>\n",
              "      <td>0</td>\n",
              "      <td>0</td>\n",
              "      <td>0</td>\n",
              "      <td>6.480741</td>\n",
              "    </tr>\n",
              "    <tr>\n",
              "      <th>3</th>\n",
              "      <td>37</td>\n",
              "      <td>9</td>\n",
              "      <td>10.915088</td>\n",
              "      <td>1</td>\n",
              "      <td>0</td>\n",
              "      <td>0</td>\n",
              "      <td>0</td>\n",
              "      <td>0</td>\n",
              "      <td>1</td>\n",
              "      <td>0</td>\n",
              "      <td>0</td>\n",
              "      <td>0</td>\n",
              "      <td>0</td>\n",
              "      <td>0</td>\n",
              "      <td>0</td>\n",
              "      <td>0</td>\n",
              "      <td>0</td>\n",
              "      <td>1</td>\n",
              "      <td>0</td>\n",
              "      <td>0</td>\n",
              "      <td>0</td>\n",
              "      <td>1</td>\n",
              "      <td>0</td>\n",
              "      <td>0</td>\n",
              "      <td>0</td>\n",
              "      <td>0</td>\n",
              "      <td>0</td>\n",
              "      <td>0</td>\n",
              "      <td>0</td>\n",
              "      <td>6.082763</td>\n",
              "    </tr>\n",
              "    <tr>\n",
              "      <th>4</th>\n",
              "      <td>63</td>\n",
              "      <td>8</td>\n",
              "      <td>10.757903</td>\n",
              "      <td>0</td>\n",
              "      <td>0</td>\n",
              "      <td>0</td>\n",
              "      <td>1</td>\n",
              "      <td>0</td>\n",
              "      <td>1</td>\n",
              "      <td>0</td>\n",
              "      <td>0</td>\n",
              "      <td>0</td>\n",
              "      <td>0</td>\n",
              "      <td>0</td>\n",
              "      <td>0</td>\n",
              "      <td>0</td>\n",
              "      <td>1</td>\n",
              "      <td>0</td>\n",
              "      <td>0</td>\n",
              "      <td>0</td>\n",
              "      <td>0</td>\n",
              "      <td>0</td>\n",
              "      <td>0</td>\n",
              "      <td>0</td>\n",
              "      <td>0</td>\n",
              "      <td>1</td>\n",
              "      <td>0</td>\n",
              "      <td>0</td>\n",
              "      <td>0</td>\n",
              "      <td>7.937254</td>\n",
              "    </tr>\n",
              "  </tbody>\n",
              "</table>\n",
              "</div>"
            ],
            "text/plain": [
              "   Total Area(m2)  Floor  ...  District_Shengavit  Total Area\n",
              "0              66      4  ...                   0    8.124038\n",
              "1              90      2  ...                   0    9.486833\n",
              "2              42      3  ...                   0    6.480741\n",
              "3              37      9  ...                   0    6.082763\n",
              "4              63      8  ...                   0    7.937254\n",
              "\n",
              "[5 rows x 30 columns]"
            ]
          },
          "metadata": {
            "tags": []
          },
          "execution_count": 178
        }
      ]
    },
    {
      "cell_type": "code",
      "metadata": {
        "id": "gewe5gdk1BDK",
        "colab_type": "code",
        "colab": {}
      },
      "source": [
        "data_with_dummies = data_with_dummies.drop(['Total Area(m2)'], axis=1)"
      ],
      "execution_count": 179,
      "outputs": []
    },
    {
      "cell_type": "markdown",
      "metadata": {
        "id": "4EkGuoee1GUv",
        "colab_type": "text"
      },
      "source": [
        "#### **ML Model**"
      ]
    },
    {
      "cell_type": "code",
      "metadata": {
        "id": "Rtgsy-Ex1Fr5",
        "colab_type": "code",
        "colab": {
          "base_uri": "https://localhost:8080/",
          "height": 34
        },
        "outputId": "072a8f6f-18ae-47ed-ae34-a1ad99098d2e"
      },
      "source": [
        "#setting the independent and dependent varables\n",
        "inputs = data_with_dummies.drop(['Log Price'], axis=1)\n",
        "inputs.shape"
      ],
      "execution_count": 180,
      "outputs": [
        {
          "output_type": "execute_result",
          "data": {
            "text/plain": [
              "(1930, 28)"
            ]
          },
          "metadata": {
            "tags": []
          },
          "execution_count": 180
        }
      ]
    },
    {
      "cell_type": "code",
      "metadata": {
        "id": "PSzXgJIW1OYx",
        "colab_type": "code",
        "colab": {
          "base_uri": "https://localhost:8080/",
          "height": 34
        },
        "outputId": "14e4c9a0-de1a-4746-eb00-0c048dd4d6c6"
      },
      "source": [
        "target = data_with_dummies['Log Price']\n",
        "target.shape"
      ],
      "execution_count": 181,
      "outputs": [
        {
          "output_type": "execute_result",
          "data": {
            "text/plain": [
              "(1930,)"
            ]
          },
          "metadata": {
            "tags": []
          },
          "execution_count": 181
        }
      ]
    },
    {
      "cell_type": "code",
      "metadata": {
        "id": "8LjRA5_01SlV",
        "colab_type": "code",
        "colab": {}
      },
      "source": [
        "# Splitting the data into train and test sets\n",
        "x_train, x_test, y_train, y_test = train_test_split(inputs, target, test_size = 0.2, random_state=42)"
      ],
      "execution_count": 182,
      "outputs": []
    },
    {
      "cell_type": "code",
      "metadata": {
        "id": "er2jdfO71VTj",
        "colab_type": "code",
        "colab": {}
      },
      "source": [
        "#importing Linear Regression module\n",
        "from sklearn.linear_model import LinearRegression\n",
        "reg = LinearRegression()"
      ],
      "execution_count": 183,
      "outputs": []
    },
    {
      "cell_type": "code",
      "metadata": {
        "id": "QcP9XvR_1X7-",
        "colab_type": "code",
        "colab": {
          "base_uri": "https://localhost:8080/",
          "height": 34
        },
        "outputId": "03267553-d659-43ce-a0ed-92d35272897f"
      },
      "source": [
        "reg.fit(x_train, y_train)"
      ],
      "execution_count": 184,
      "outputs": [
        {
          "output_type": "execute_result",
          "data": {
            "text/plain": [
              "LinearRegression(copy_X=True, fit_intercept=True, n_jobs=None, normalize=False)"
            ]
          },
          "metadata": {
            "tags": []
          },
          "execution_count": 184
        }
      ]
    },
    {
      "cell_type": "code",
      "metadata": {
        "id": "FLpHrzW_1a2z",
        "colab_type": "code",
        "colab": {}
      },
      "source": [
        "#prediction\n",
        "y_hat = reg.predict(x_train)"
      ],
      "execution_count": 185,
      "outputs": []
    },
    {
      "cell_type": "code",
      "metadata": {
        "id": "j8R83eME3i_U",
        "colab_type": "code",
        "colab": {
          "base_uri": "https://localhost:8080/",
          "height": 305
        },
        "outputId": "b5c2186e-9f2f-4b0c-fda5-558bcccc2d22"
      },
      "source": [
        "# The simplest way to compare the targets (y_train) and the predictions (y_hat) is to plot them on a scatter plot\n",
        "# The closer the points to the 45-degree line, the better the prediction\n",
        "plt.scatter(y_train, y_hat)\n",
        "# Let's also name the axes\n",
        "plt.xlabel('Targets (y_train)',size=18)\n",
        "plt.ylabel('Predictions (y_hat)',size=18)"
      ],
      "execution_count": 186,
      "outputs": [
        {
          "output_type": "execute_result",
          "data": {
            "text/plain": [
              "Text(0, 0.5, 'Predictions (y_hat)')"
            ]
          },
          "metadata": {
            "tags": []
          },
          "execution_count": 186
        },
        {
          "output_type": "display_data",
          "data": {
            "image/png": "[encoded data removed]",
            "text/plain": [
              "<Figure size 432x288 with 1 Axes>"
            ]
          },
          "metadata": {
            "tags": [],
            "needs_background": "light"
          }
        }
      ]
    },
    {
      "cell_type": "code",
      "metadata": {
        "id": "f3NiHsCd1pni",
        "colab_type": "code",
        "colab": {}
      },
      "source": [
        "#predicting on test data\n",
        "y_hat_test = reg.predict(x_test)"
      ],
      "execution_count": 187,
      "outputs": []
    },
    {
      "cell_type": "code",
      "metadata": {
        "id": "2OuymzjP1ukd",
        "colab_type": "code",
        "colab": {
          "base_uri": "https://localhost:8080/",
          "height": 287
        },
        "outputId": "9a334369-7433-4ca5-ea16-cae6dfa148fc"
      },
      "source": [
        "plt.scatter(y_test, y_hat_test, alpha=0.2)\n",
        "plt.xlabel('Targets y_test', size = 18)\n",
        "plt.ylabel('Predictions y_hat_test',size = 18)\n",
        "plt.show()"
      ],
      "execution_count": 188,
      "outputs": [
        {
          "output_type": "display_data",
          "data": {
            "image/png": "[encoded data removed]",
            "text/plain": [
              "<Figure size 432x288 with 1 Axes>"
            ]
          },
          "metadata": {
            "tags": [],
            "needs_background": "light"
          }
        }
      ]
    },
    {
      "cell_type": "code",
      "metadata": {
        "id": "kP16PRsn1zO7",
        "colab_type": "code",
        "colab": {
          "base_uri": "https://localhost:8080/",
          "height": 51
        },
        "outputId": "cedec0fb-00bc-46b5-aa23-cdcf2f3b4973"
      },
      "source": [
        "# R2 for train and test data\n",
        "R2_reg_train = reg.score(x_train,y_train)\n",
        "R2_reg_test = reg.score(x_test,y_test)\n",
        "print('R squared for train data is: %.3f' %(R2_reg_train))\n",
        "print('R squared for test data is: %.3f' %(R2_reg_test))"
      ],
      "execution_count": 189,
      "outputs": [
        {
          "output_type": "stream",
          "text": [
            "R squared for train data is: 0.774\n",
            "R squared for test data is: 0.765\n"
          ],
          "name": "stdout"
        }
      ]
    },
    {
      "cell_type": "code",
      "metadata": {
        "id": "HGalpQEq12zd",
        "colab_type": "code",
        "colab": {}
      },
      "source": [
        "from sklearn.metrics import median_absolute_error"
      ],
      "execution_count": 190,
      "outputs": []
    },
    {
      "cell_type": "code",
      "metadata": {
        "id": "zXiaOOsA16jJ",
        "colab_type": "code",
        "colab": {
          "base_uri": "https://localhost:8080/",
          "height": 34
        },
        "outputId": "d85288c7-c867-47b3-e949-9d2a4fdae9c9"
      },
      "source": [
        "median_absolute_error(y_test, y_hat_test)"
      ],
      "execution_count": 191,
      "outputs": [
        {
          "output_type": "execute_result",
          "data": {
            "text/plain": [
              "0.1583988902303215"
            ]
          },
          "metadata": {
            "tags": []
          },
          "execution_count": 191
        }
      ]
    },
    {
      "cell_type": "code",
      "metadata": {
        "id": "aD5edIHg18-f",
        "colab_type": "code",
        "colab": {
          "base_uri": "https://localhost:8080/",
          "height": 136
        },
        "outputId": "2f032050-29ab-4586-a089-6cf06519499a"
      },
      "source": [
        "reg.coef_"
      ],
      "execution_count": 192,
      "outputs": [
        {
          "output_type": "execute_result",
          "data": {
            "text/plain": [
              "array([-3.12544139e-03, -9.30039959e-02, -3.60922584e-01, -2.24186801e-01,\n",
              "       -9.59277504e-02, -4.25022150e-01, -9.83730049e-02, -9.81579837e-02,\n",
              "       -6.70442122e-02,  2.79091407e-01, -3.82566697e-02,  1.30483072e-01,\n",
              "       -6.47564821e-05,  2.25605263e-01,  1.71595558e-01,  2.17611650e-01,\n",
              "        3.54854974e-01,  8.26490089e-02,  3.20249618e-01,  6.71607830e-01,\n",
              "        4.36556477e-02, -3.03096519e-04,  9.01789255e-02,  6.30434380e-02,\n",
              "        6.23425884e-02, -4.40707301e-03,  4.61401784e-02,  1.67199559e-01])"
            ]
          },
          "metadata": {
            "tags": []
          },
          "execution_count": 192
        }
      ]
    },
    {
      "cell_type": "code",
      "metadata": {
        "id": "oR-Bu1eb2EOv",
        "colab_type": "code",
        "colab": {
          "base_uri": "https://localhost:8080/",
          "height": 34
        },
        "outputId": "4969c1d5-735d-40e5-eb02-b0dde3744a2a"
      },
      "source": [
        "reg.intercept_"
      ],
      "execution_count": 193,
      "outputs": [
        {
          "output_type": "execute_result",
          "data": {
            "text/plain": [
              "9.487643407610955"
            ]
          },
          "metadata": {
            "tags": []
          },
          "execution_count": 193
        }
      ]
    },
    {
      "cell_type": "markdown",
      "metadata": {
        "id": "cP0tkLNz2JUL",
        "colab_type": "text"
      },
      "source": [
        "**Summary Table**"
      ]
    },
    {
      "cell_type": "code",
      "metadata": {
        "id": "GgLUkPe82G3I",
        "colab_type": "code",
        "colab": {}
      },
      "source": [
        "#summary table\n",
        "reg_summary = pd.DataFrame(inputs.columns.values, columns=['Features'])\n",
        "reg_summary['Weights'] = reg.coef_"
      ],
      "execution_count": 194,
      "outputs": []
    },
    {
      "cell_type": "code",
      "metadata": {
        "id": "pzA-1ylm2NqU",
        "colab_type": "code",
        "colab": {}
      },
      "source": [
        "#positive coefficients\n",
        "pos_coeffs= reg_summary[(reg_summary['Weights'] >= 0)].sort_values(by='Weights', ascending=False)"
      ],
      "execution_count": 195,
      "outputs": []
    },
    {
      "cell_type": "code",
      "metadata": {
        "id": "h4fLMsrH2QOX",
        "colab_type": "code",
        "colab": {
          "base_uri": "https://localhost:8080/",
          "height": 514
        },
        "outputId": "83eb77f9-e62d-4f92-a576-ad9b127eaa12"
      },
      "source": [
        "pos_coeffs"
      ],
      "execution_count": 196,
      "outputs": [
        {
          "output_type": "execute_result",
          "data": {
            "text/html": [
              "<div>\n",
              "<style scoped>\n",
              "    .dataframe tbody tr th:only-of-type {\n",
              "        vertical-align: middle;\n",
              "    }\n",
              "\n",
              "    .dataframe tbody tr th {\n",
              "        vertical-align: top;\n",
              "    }\n",
              "\n",
              "    .dataframe thead th {\n",
              "        text-align: right;\n",
              "    }\n",
              "</style>\n",
              "<table border=\"1\" class=\"dataframe\">\n",
              "  <thead>\n",
              "    <tr style=\"text-align: right;\">\n",
              "      <th></th>\n",
              "      <th>Features</th>\n",
              "      <th>Weights</th>\n",
              "    </tr>\n",
              "  </thead>\n",
              "  <tbody>\n",
              "    <tr>\n",
              "      <th>19</th>\n",
              "      <td>District_Downtown</td>\n",
              "      <td>0.671608</td>\n",
              "    </tr>\n",
              "    <tr>\n",
              "      <th>16</th>\n",
              "      <td>District_Arabkir</td>\n",
              "      <td>0.354855</td>\n",
              "    </tr>\n",
              "    <tr>\n",
              "      <th>18</th>\n",
              "      <td>District_Davtashen</td>\n",
              "      <td>0.320250</td>\n",
              "    </tr>\n",
              "    <tr>\n",
              "      <th>9</th>\n",
              "      <td>Building Type_New Building</td>\n",
              "      <td>0.279091</td>\n",
              "    </tr>\n",
              "    <tr>\n",
              "      <th>13</th>\n",
              "      <td>Balcony Type_Front</td>\n",
              "      <td>0.225605</td>\n",
              "    </tr>\n",
              "    <tr>\n",
              "      <th>15</th>\n",
              "      <td>Balcony Type_Lodgia</td>\n",
              "      <td>0.217612</td>\n",
              "    </tr>\n",
              "    <tr>\n",
              "      <th>14</th>\n",
              "      <td>Balcony Type_Large</td>\n",
              "      <td>0.171596</td>\n",
              "    </tr>\n",
              "    <tr>\n",
              "      <th>27</th>\n",
              "      <td>Total Area</td>\n",
              "      <td>0.167200</td>\n",
              "    </tr>\n",
              "    <tr>\n",
              "      <th>11</th>\n",
              "      <td>Building Type_Stalinian</td>\n",
              "      <td>0.130483</td>\n",
              "    </tr>\n",
              "    <tr>\n",
              "      <th>22</th>\n",
              "      <td>District_Malatia-Sebastia</td>\n",
              "      <td>0.090179</td>\n",
              "    </tr>\n",
              "    <tr>\n",
              "      <th>17</th>\n",
              "      <td>District_Avan</td>\n",
              "      <td>0.082649</td>\n",
              "    </tr>\n",
              "    <tr>\n",
              "      <th>23</th>\n",
              "      <td>District_Nork</td>\n",
              "      <td>0.063043</td>\n",
              "    </tr>\n",
              "    <tr>\n",
              "      <th>24</th>\n",
              "      <td>District_Nork-Marash</td>\n",
              "      <td>0.062343</td>\n",
              "    </tr>\n",
              "    <tr>\n",
              "      <th>26</th>\n",
              "      <td>District_Shengavit</td>\n",
              "      <td>0.046140</td>\n",
              "    </tr>\n",
              "    <tr>\n",
              "      <th>20</th>\n",
              "      <td>District_Erebuni</td>\n",
              "      <td>0.043656</td>\n",
              "    </tr>\n",
              "  </tbody>\n",
              "</table>\n",
              "</div>"
            ],
            "text/plain": [
              "                      Features   Weights\n",
              "19           District_Downtown  0.671608\n",
              "16            District_Arabkir  0.354855\n",
              "18          District_Davtashen  0.320250\n",
              "9   Building Type_New Building  0.279091\n",
              "13          Balcony Type_Front  0.225605\n",
              "15         Balcony Type_Lodgia  0.217612\n",
              "14          Balcony Type_Large  0.171596\n",
              "27                  Total Area  0.167200\n",
              "11     Building Type_Stalinian  0.130483\n",
              "22   District_Malatia-Sebastia  0.090179\n",
              "17               District_Avan  0.082649\n",
              "23               District_Nork  0.063043\n",
              "24        District_Nork-Marash  0.062343\n",
              "26          District_Shengavit  0.046140\n",
              "20            District_Erebuni  0.043656"
            ]
          },
          "metadata": {
            "tags": []
          },
          "execution_count": 196
        }
      ]
    },
    {
      "cell_type": "code",
      "metadata": {
        "id": "w4fkAhFV2Xok",
        "colab_type": "code",
        "colab": {}
      },
      "source": [
        "# negative coefficients\n",
        "neg_coeffs= reg_summary[(reg_summary['Weights'] < 0)].sort_values(by='Weights', ascending=True)"
      ],
      "execution_count": 197,
      "outputs": []
    },
    {
      "cell_type": "code",
      "metadata": {
        "id": "f53Y3pRF2d4S",
        "colab_type": "code",
        "colab": {
          "base_uri": "https://localhost:8080/",
          "height": 452
        },
        "outputId": "93bdf330-a7b3-441a-a039-24ba49ed8b75"
      },
      "source": [
        "neg_coeffs"
      ],
      "execution_count": 198,
      "outputs": [
        {
          "output_type": "execute_result",
          "data": {
            "text/html": [
              "<div>\n",
              "<style scoped>\n",
              "    .dataframe tbody tr th:only-of-type {\n",
              "        vertical-align: middle;\n",
              "    }\n",
              "\n",
              "    .dataframe tbody tr th {\n",
              "        vertical-align: top;\n",
              "    }\n",
              "\n",
              "    .dataframe thead th {\n",
              "        text-align: right;\n",
              "    }\n",
              "</style>\n",
              "<table border=\"1\" class=\"dataframe\">\n",
              "  <thead>\n",
              "    <tr style=\"text-align: right;\">\n",
              "      <th></th>\n",
              "      <th>Features</th>\n",
              "      <th>Weights</th>\n",
              "    </tr>\n",
              "  </thead>\n",
              "  <tbody>\n",
              "    <tr>\n",
              "      <th>5</th>\n",
              "      <td>Condition_Ruins</td>\n",
              "      <td>-0.425022</td>\n",
              "    </tr>\n",
              "    <tr>\n",
              "      <th>2</th>\n",
              "      <td>Condition_Needs Repairing</td>\n",
              "      <td>-0.360923</td>\n",
              "    </tr>\n",
              "    <tr>\n",
              "      <th>3</th>\n",
              "      <td>Condition_Original</td>\n",
              "      <td>-0.224187</td>\n",
              "    </tr>\n",
              "    <tr>\n",
              "      <th>6</th>\n",
              "      <td>Building Type_High-rise</td>\n",
              "      <td>-0.098373</td>\n",
              "    </tr>\n",
              "    <tr>\n",
              "      <th>7</th>\n",
              "      <td>Building Type_Khrushchev(2,5-2,6м)</td>\n",
              "      <td>-0.098158</td>\n",
              "    </tr>\n",
              "    <tr>\n",
              "      <th>4</th>\n",
              "      <td>Condition_Repaired</td>\n",
              "      <td>-0.095928</td>\n",
              "    </tr>\n",
              "    <tr>\n",
              "      <th>1</th>\n",
              "      <td>Condition_3-5 Years</td>\n",
              "      <td>-0.093004</td>\n",
              "    </tr>\n",
              "    <tr>\n",
              "      <th>8</th>\n",
              "      <td>Building Type_Khrushchev(2,75м)</td>\n",
              "      <td>-0.067044</td>\n",
              "    </tr>\n",
              "    <tr>\n",
              "      <th>10</th>\n",
              "      <td>Building Type_Panel(5floor)</td>\n",
              "      <td>-0.038257</td>\n",
              "    </tr>\n",
              "    <tr>\n",
              "      <th>25</th>\n",
              "      <td>District_Nubarashen</td>\n",
              "      <td>-0.004407</td>\n",
              "    </tr>\n",
              "    <tr>\n",
              "      <th>0</th>\n",
              "      <td>Floor</td>\n",
              "      <td>-0.003125</td>\n",
              "    </tr>\n",
              "    <tr>\n",
              "      <th>21</th>\n",
              "      <td>District_Kanaker-Zeitun</td>\n",
              "      <td>-0.000303</td>\n",
              "    </tr>\n",
              "    <tr>\n",
              "      <th>12</th>\n",
              "      <td>Building Type_Stone</td>\n",
              "      <td>-0.000065</td>\n",
              "    </tr>\n",
              "  </tbody>\n",
              "</table>\n",
              "</div>"
            ],
            "text/plain": [
              "                              Features   Weights\n",
              "5                      Condition_Ruins -0.425022\n",
              "2            Condition_Needs Repairing -0.360923\n",
              "3                   Condition_Original -0.224187\n",
              "6              Building Type_High-rise -0.098373\n",
              "7   Building Type_Khrushchev(2,5-2,6м) -0.098158\n",
              "4                   Condition_Repaired -0.095928\n",
              "1                  Condition_3-5 Years -0.093004\n",
              "8      Building Type_Khrushchev(2,75м) -0.067044\n",
              "10         Building Type_Panel(5floor) -0.038257\n",
              "25                 District_Nubarashen -0.004407\n",
              "0                                Floor -0.003125\n",
              "21             District_Kanaker-Zeitun -0.000303\n",
              "12                 Building Type_Stone -0.000065"
            ]
          },
          "metadata": {
            "tags": []
          },
          "execution_count": 198
        }
      ]
    },
    {
      "cell_type": "markdown",
      "metadata": {
        "id": "DoIBKsO95LiP",
        "colab_type": "text"
      },
      "source": [
        "#### **Checking OLS Assumptions**"
      ]
    },
    {
      "cell_type": "markdown",
      "metadata": {
        "id": "NF_mOHuK6NXZ",
        "colab_type": "text"
      },
      "source": [
        "**Residual Plots**\n",
        "\n",
        "It should not exhibit any patterns (should be randomly distributed) to meet the Linearity, Normality and Independence assumptions."
      ]
    },
    {
      "cell_type": "code",
      "metadata": {
        "id": "BfmLnIxRvJea",
        "colab_type": "code",
        "colab": {
          "base_uri": "https://localhost:8080/",
          "height": 105
        },
        "outputId": "fa01b7c1-24f2-4621-a7f4-33ea39d421b4"
      },
      "source": [
        "from yellowbrick.datasets import load_concrete\n",
        "from yellowbrick.regressor import ResidualsPlot"
      ],
      "execution_count": 199,
      "outputs": [
        {
          "output_type": "stream",
          "text": [
            "/usr/local/lib/python3.6/dist-packages/sklearn/utils/deprecation.py:144: FutureWarning: The sklearn.metrics.classification module is  deprecated in version 0.22 and will be removed in version 0.24. The corresponding classes / functions should instead be imported from sklearn.metrics. Anything that cannot be imported from sklearn.metrics is now part of the private API.\n",
            "  warnings.warn(message, FutureWarning)\n",
            "/usr/local/lib/python3.6/dist-packages/sklearn/utils/deprecation.py:144: FutureWarning: The sklearn.datasets.base module is  deprecated in version 0.22 and will be removed in version 0.24. The corresponding classes / functions should instead be imported from sklearn.datasets. Anything that cannot be imported from sklearn.datasets is now part of the private API.\n",
            "  warnings.warn(message, FutureWarning)\n"
          ],
          "name": "stderr"
        }
      ]
    },
    {
      "cell_type": "code",
      "metadata": {
        "id": "pKPhy2Onvxg8",
        "colab_type": "code",
        "colab": {
          "base_uri": "https://localhost:8080/",
          "height": 364
        },
        "outputId": "266311bc-cb68-404c-ccc9-e131fcc99196"
      },
      "source": [
        "visualizer = ResidualsPlot(reg)\n",
        "visualizer.fit(x_train, y_train)\n",
        "visualizer.score(x_test, y_test)"
      ],
      "execution_count": 200,
      "outputs": [
        {
          "output_type": "execute_result",
          "data": {
            "text/plain": [
              "0.7647090423666243"
            ]
          },
          "metadata": {
            "tags": []
          },
          "execution_count": 200
        },
        {
          "output_type": "display_data",
          "data": {
            "image/png": "[encoded data removed]",
            "text/plain": [
              "<Figure size 576x396 with 2 Axes>"
            ]
          },
          "metadata": {
            "tags": []
          }
        }
      ]
    },
    {
      "cell_type": "code",
      "metadata": {
        "id": "W2Br-bSc4_mQ",
        "colab_type": "code",
        "colab": {
          "base_uri": "https://localhost:8080/",
          "height": 379
        },
        "outputId": "2e3c0970-4960-4cd2-e953-5dea056a2e4d"
      },
      "source": [
        "#Residual Plot for Train data\n",
        "sns.residplot(x=reg.predict(x_train), y=y_train, lowess=True)\n",
        "plt.title('Residual Plot using train data')"
      ],
      "execution_count": 201,
      "outputs": [
        {
          "output_type": "execute_result",
          "data": {
            "text/plain": [
              "Text(0.5, 1.0, 'Residual Plot using train data')"
            ]
          },
          "metadata": {
            "tags": []
          },
          "execution_count": 201
        },
        {
          "output_type": "display_data",
          "data": {
            "image/png": "[encoded data removed]",
            "text/plain": [
              "<Figure size 576x396 with 1 Axes>"
            ]
          },
          "metadata": {
            "tags": []
          }
        }
      ]
    },
    {
      "cell_type": "markdown",
      "metadata": {
        "id": "YNSIMNOb6Xsd",
        "colab_type": "text"
      },
      "source": [
        "Residual plot for the training data shows that the data points lie between Log Price -0.5 to 0.5.\n",
        "\n",
        "The residuals vs fitted values plot pattern is random and we cannot see an increasing/decreasing variance."
      ]
    },
    {
      "cell_type": "code",
      "metadata": {
        "id": "MuZ55lrDUosS",
        "colab_type": "code",
        "colab": {
          "base_uri": "https://localhost:8080/",
          "height": 379
        },
        "outputId": "cf15578c-3de8-4bd8-fe3a-205bffd20953"
      },
      "source": [
        "# Residual Plot for Test data\n",
        "sns.residplot(x=reg.predict(x_test), y=y_test, lowess=True)\n",
        "plt.title('Residual Plot using test data')"
      ],
      "execution_count": 202,
      "outputs": [
        {
          "output_type": "execute_result",
          "data": {
            "text/plain": [
              "Text(0.5, 1.0, 'Residual Plot using test data')"
            ]
          },
          "metadata": {
            "tags": []
          },
          "execution_count": 202
        },
        {
          "output_type": "display_data",
          "data": {
            "image/png": "[encoded data removed]",
            "text/plain": [
              "<Figure size 576x396 with 1 Axes>"
            ]
          },
          "metadata": {
            "tags": []
          }
        }
      ]
    },
    {
      "cell_type": "markdown",
      "metadata": {
        "id": "AjElrbkt6r7I",
        "colab_type": "text"
      },
      "source": [
        "Test data is also showing the same range from the reference line."
      ]
    },
    {
      "cell_type": "code",
      "metadata": {
        "id": "krltjXcD6o59",
        "colab_type": "code",
        "colab": {
          "base_uri": "https://localhost:8080/",
          "height": 379
        },
        "outputId": "7319e8d5-a80e-49c3-b8ba-ca3ad6c15d49"
      },
      "source": [
        "#2 residual plots on top of each other\n",
        "plt.scatter(reg.predict(x_train), reg.predict(x_train) - y_train, c='b', s=40, alpha=0.5)\n",
        "plt.scatter(reg.predict(x_test), reg.predict(x_test) - y_test, c='g', s=40)\n",
        "plt.hlines(y = 0, xmin=0, xmax = 50)\n",
        "plt.title('Residual Plot using training (blue) and test (green) data')\n",
        "plt.ylabel('Residuals')"
      ],
      "execution_count": 203,
      "outputs": [
        {
          "output_type": "execute_result",
          "data": {
            "text/plain": [
              "Text(0, 0.5, 'Residuals')"
            ]
          },
          "metadata": {
            "tags": []
          },
          "execution_count": 203
        },
        {
          "output_type": "display_data",
          "data": {
            "image/png": "[encoded data removed]",
            "text/plain": [
              "<Figure size 576x396 with 1 Axes>"
            ]
          },
          "metadata": {
            "tags": []
          }
        }
      ]
    },
    {
      "cell_type": "markdown",
      "metadata": {
        "id": "_doh45-G7eGV",
        "colab_type": "text"
      },
      "source": [
        "The blue dots represent train data and grren dots represent test data. From the residual plot above it is evident that the model is a good fit for test data as well. "
      ]
    },
    {
      "cell_type": "markdown",
      "metadata": {
        "id": "XkcRyGsh4FLr",
        "colab_type": "text"
      },
      "source": [
        "#### **Performance**"
      ]
    },
    {
      "cell_type": "code",
      "metadata": {
        "id": "0ztPmkbc2e8-",
        "colab_type": "code",
        "colab": {}
      },
      "source": [
        "df_performance = pd.DataFrame(np.exp(y_hat_test), columns=['Prediction'])"
      ],
      "execution_count": 204,
      "outputs": []
    },
    {
      "cell_type": "code",
      "metadata": {
        "id": "965dBjF-4RAJ",
        "colab_type": "code",
        "colab": {
          "base_uri": "https://localhost:8080/",
          "height": 204
        },
        "outputId": "3c183bc9-da2b-42a3-c293-a1d21af07af6"
      },
      "source": [
        "df_performance.head()"
      ],
      "execution_count": 205,
      "outputs": [
        {
          "output_type": "execute_result",
          "data": {
            "text/html": [
              "<div>\n",
              "<style scoped>\n",
              "    .dataframe tbody tr th:only-of-type {\n",
              "        vertical-align: middle;\n",
              "    }\n",
              "\n",
              "    .dataframe tbody tr th {\n",
              "        vertical-align: top;\n",
              "    }\n",
              "\n",
              "    .dataframe thead th {\n",
              "        text-align: right;\n",
              "    }\n",
              "</style>\n",
              "<table border=\"1\" class=\"dataframe\">\n",
              "  <thead>\n",
              "    <tr style=\"text-align: right;\">\n",
              "      <th></th>\n",
              "      <th>Prediction</th>\n",
              "    </tr>\n",
              "  </thead>\n",
              "  <tbody>\n",
              "    <tr>\n",
              "      <th>0</th>\n",
              "      <td>117996.905530</td>\n",
              "    </tr>\n",
              "    <tr>\n",
              "      <th>1</th>\n",
              "      <td>52369.124424</td>\n",
              "    </tr>\n",
              "    <tr>\n",
              "      <th>2</th>\n",
              "      <td>80066.549074</td>\n",
              "    </tr>\n",
              "    <tr>\n",
              "      <th>3</th>\n",
              "      <td>57721.343402</td>\n",
              "    </tr>\n",
              "    <tr>\n",
              "      <th>4</th>\n",
              "      <td>65905.056935</td>\n",
              "    </tr>\n",
              "  </tbody>\n",
              "</table>\n",
              "</div>"
            ],
            "text/plain": [
              "      Prediction\n",
              "0  117996.905530\n",
              "1   52369.124424\n",
              "2   80066.549074\n",
              "3   57721.343402\n",
              "4   65905.056935"
            ]
          },
          "metadata": {
            "tags": []
          },
          "execution_count": 205
        }
      ]
    },
    {
      "cell_type": "code",
      "metadata": {
        "id": "t4_OOu4i4Tg-",
        "colab_type": "code",
        "colab": {}
      },
      "source": [
        "df_performance['Target'] = np.exp(y_test)"
      ],
      "execution_count": 206,
      "outputs": []
    },
    {
      "cell_type": "code",
      "metadata": {
        "id": "QttFIl4Y4ZNo",
        "colab_type": "code",
        "colab": {
          "base_uri": "https://localhost:8080/",
          "height": 204
        },
        "outputId": "022a8e41-3d53-490f-facd-a11debf19f27"
      },
      "source": [
        "df_performance.head()"
      ],
      "execution_count": 207,
      "outputs": [
        {
          "output_type": "execute_result",
          "data": {
            "text/html": [
              "<div>\n",
              "<style scoped>\n",
              "    .dataframe tbody tr th:only-of-type {\n",
              "        vertical-align: middle;\n",
              "    }\n",
              "\n",
              "    .dataframe tbody tr th {\n",
              "        vertical-align: top;\n",
              "    }\n",
              "\n",
              "    .dataframe thead th {\n",
              "        text-align: right;\n",
              "    }\n",
              "</style>\n",
              "<table border=\"1\" class=\"dataframe\">\n",
              "  <thead>\n",
              "    <tr style=\"text-align: right;\">\n",
              "      <th></th>\n",
              "      <th>Prediction</th>\n",
              "      <th>Target</th>\n",
              "    </tr>\n",
              "  </thead>\n",
              "  <tbody>\n",
              "    <tr>\n",
              "      <th>0</th>\n",
              "      <td>117996.905530</td>\n",
              "      <td>NaN</td>\n",
              "    </tr>\n",
              "    <tr>\n",
              "      <th>1</th>\n",
              "      <td>52369.124424</td>\n",
              "      <td>NaN</td>\n",
              "    </tr>\n",
              "    <tr>\n",
              "      <th>2</th>\n",
              "      <td>80066.549074</td>\n",
              "      <td>NaN</td>\n",
              "    </tr>\n",
              "    <tr>\n",
              "      <th>3</th>\n",
              "      <td>57721.343402</td>\n",
              "      <td>NaN</td>\n",
              "    </tr>\n",
              "    <tr>\n",
              "      <th>4</th>\n",
              "      <td>65905.056935</td>\n",
              "      <td>NaN</td>\n",
              "    </tr>\n",
              "  </tbody>\n",
              "</table>\n",
              "</div>"
            ],
            "text/plain": [
              "      Prediction  Target\n",
              "0  117996.905530     NaN\n",
              "1   52369.124424     NaN\n",
              "2   80066.549074     NaN\n",
              "3   57721.343402     NaN\n",
              "4   65905.056935     NaN"
            ]
          },
          "metadata": {
            "tags": []
          },
          "execution_count": 207
        }
      ]
    },
    {
      "cell_type": "code",
      "metadata": {
        "id": "KTyLjwSz4bnl",
        "colab_type": "code",
        "colab": {}
      },
      "source": [
        "y_test = y_test.reset_index(drop = True)"
      ],
      "execution_count": 208,
      "outputs": []
    },
    {
      "cell_type": "code",
      "metadata": {
        "id": "GSoAvrsi4hu5",
        "colab_type": "code",
        "colab": {
          "base_uri": "https://localhost:8080/",
          "height": 119
        },
        "outputId": "90d3e7fc-2966-43cc-8559-7571575600e4"
      },
      "source": [
        "y_test.head()"
      ],
      "execution_count": 209,
      "outputs": [
        {
          "output_type": "execute_result",
          "data": {
            "text/plain": [
              "0    11.775290\n",
              "1    10.858999\n",
              "2    11.156251\n",
              "3    10.819778\n",
              "4    10.772687\n",
              "Name: Log Price, dtype: float64"
            ]
          },
          "metadata": {
            "tags": []
          },
          "execution_count": 209
        }
      ]
    },
    {
      "cell_type": "code",
      "metadata": {
        "id": "dtBsYSRx4kZ7",
        "colab_type": "code",
        "colab": {}
      },
      "source": [
        "df_performance['Target'] = np.exp(y_test)"
      ],
      "execution_count": 210,
      "outputs": []
    },
    {
      "cell_type": "code",
      "metadata": {
        "id": "mSgjpJZ_4rkU",
        "colab_type": "code",
        "colab": {
          "base_uri": "https://localhost:8080/",
          "height": 204
        },
        "outputId": "735e1acc-4ee5-47e9-c29b-ad7fba3b6056"
      },
      "source": [
        "df_performance.head()"
      ],
      "execution_count": 211,
      "outputs": [
        {
          "output_type": "execute_result",
          "data": {
            "text/html": [
              "<div>\n",
              "<style scoped>\n",
              "    .dataframe tbody tr th:only-of-type {\n",
              "        vertical-align: middle;\n",
              "    }\n",
              "\n",
              "    .dataframe tbody tr th {\n",
              "        vertical-align: top;\n",
              "    }\n",
              "\n",
              "    .dataframe thead th {\n",
              "        text-align: right;\n",
              "    }\n",
              "</style>\n",
              "<table border=\"1\" class=\"dataframe\">\n",
              "  <thead>\n",
              "    <tr style=\"text-align: right;\">\n",
              "      <th></th>\n",
              "      <th>Prediction</th>\n",
              "      <th>Target</th>\n",
              "    </tr>\n",
              "  </thead>\n",
              "  <tbody>\n",
              "    <tr>\n",
              "      <th>0</th>\n",
              "      <td>117996.905530</td>\n",
              "      <td>130000.0</td>\n",
              "    </tr>\n",
              "    <tr>\n",
              "      <th>1</th>\n",
              "      <td>52369.124424</td>\n",
              "      <td>52000.0</td>\n",
              "    </tr>\n",
              "    <tr>\n",
              "      <th>2</th>\n",
              "      <td>80066.549074</td>\n",
              "      <td>70000.0</td>\n",
              "    </tr>\n",
              "    <tr>\n",
              "      <th>3</th>\n",
              "      <td>57721.343402</td>\n",
              "      <td>50000.0</td>\n",
              "    </tr>\n",
              "    <tr>\n",
              "      <th>4</th>\n",
              "      <td>65905.056935</td>\n",
              "      <td>47700.0</td>\n",
              "    </tr>\n",
              "  </tbody>\n",
              "</table>\n",
              "</div>"
            ],
            "text/plain": [
              "      Prediction    Target\n",
              "0  117996.905530  130000.0\n",
              "1   52369.124424   52000.0\n",
              "2   80066.549074   70000.0\n",
              "3   57721.343402   50000.0\n",
              "4   65905.056935   47700.0"
            ]
          },
          "metadata": {
            "tags": []
          },
          "execution_count": 211
        }
      ]
    },
    {
      "cell_type": "code",
      "metadata": {
        "id": "rcwhjfcB4uP2",
        "colab_type": "code",
        "colab": {}
      },
      "source": [
        "df_performance['Residual'] = df_performance['Target'] - df_performance['Prediction']"
      ],
      "execution_count": 213,
      "outputs": []
    },
    {
      "cell_type": "code",
      "metadata": {
        "id": "UPaZz5XJ4x-2",
        "colab_type": "code",
        "colab": {}
      },
      "source": [
        "df_performance['Difference%'] = np.absolute(df_performance['Residual']/df_performance['Target']*100)"
      ],
      "execution_count": 214,
      "outputs": []
    },
    {
      "cell_type": "code",
      "metadata": {
        "id": "AzsAArra40nn",
        "colab_type": "code",
        "colab": {
          "base_uri": "https://localhost:8080/",
          "height": 204
        },
        "outputId": "8d2ebb39-e202-446c-cea1-23d670b9bdc9"
      },
      "source": [
        "df_performance.head()"
      ],
      "execution_count": 215,
      "outputs": [
        {
          "output_type": "execute_result",
          "data": {
            "text/html": [
              "<div>\n",
              "<style scoped>\n",
              "    .dataframe tbody tr th:only-of-type {\n",
              "        vertical-align: middle;\n",
              "    }\n",
              "\n",
              "    .dataframe tbody tr th {\n",
              "        vertical-align: top;\n",
              "    }\n",
              "\n",
              "    .dataframe thead th {\n",
              "        text-align: right;\n",
              "    }\n",
              "</style>\n",
              "<table border=\"1\" class=\"dataframe\">\n",
              "  <thead>\n",
              "    <tr style=\"text-align: right;\">\n",
              "      <th></th>\n",
              "      <th>Prediction</th>\n",
              "      <th>Target</th>\n",
              "      <th>Residual</th>\n",
              "      <th>Difference%</th>\n",
              "    </tr>\n",
              "  </thead>\n",
              "  <tbody>\n",
              "    <tr>\n",
              "      <th>0</th>\n",
              "      <td>117996.905530</td>\n",
              "      <td>130000.0</td>\n",
              "      <td>12003.094470</td>\n",
              "      <td>9.233150</td>\n",
              "    </tr>\n",
              "    <tr>\n",
              "      <th>1</th>\n",
              "      <td>52369.124424</td>\n",
              "      <td>52000.0</td>\n",
              "      <td>-369.124424</td>\n",
              "      <td>0.709855</td>\n",
              "    </tr>\n",
              "    <tr>\n",
              "      <th>2</th>\n",
              "      <td>80066.549074</td>\n",
              "      <td>70000.0</td>\n",
              "      <td>-10066.549074</td>\n",
              "      <td>14.380784</td>\n",
              "    </tr>\n",
              "    <tr>\n",
              "      <th>3</th>\n",
              "      <td>57721.343402</td>\n",
              "      <td>50000.0</td>\n",
              "      <td>-7721.343402</td>\n",
              "      <td>15.442687</td>\n",
              "    </tr>\n",
              "    <tr>\n",
              "      <th>4</th>\n",
              "      <td>65905.056935</td>\n",
              "      <td>47700.0</td>\n",
              "      <td>-18205.056935</td>\n",
              "      <td>38.165738</td>\n",
              "    </tr>\n",
              "  </tbody>\n",
              "</table>\n",
              "</div>"
            ],
            "text/plain": [
              "      Prediction    Target      Residual  Difference%\n",
              "0  117996.905530  130000.0  12003.094470     9.233150\n",
              "1   52369.124424   52000.0   -369.124424     0.709855\n",
              "2   80066.549074   70000.0 -10066.549074    14.380784\n",
              "3   57721.343402   50000.0  -7721.343402    15.442687\n",
              "4   65905.056935   47700.0 -18205.056935    38.165738"
            ]
          },
          "metadata": {
            "tags": []
          },
          "execution_count": 215
        }
      ]
    },
    {
      "cell_type": "code",
      "metadata": {
        "id": "bEjP9aKO44tx",
        "colab_type": "code",
        "colab": {
          "base_uri": "https://localhost:8080/",
          "height": 297
        },
        "outputId": "179b694b-028f-41a9-ad0e-b15b5da7519c"
      },
      "source": [
        "df_performance.describe()"
      ],
      "execution_count": 216,
      "outputs": [
        {
          "output_type": "execute_result",
          "data": {
            "text/html": [
              "<div>\n",
              "<style scoped>\n",
              "    .dataframe tbody tr th:only-of-type {\n",
              "        vertical-align: middle;\n",
              "    }\n",
              "\n",
              "    .dataframe tbody tr th {\n",
              "        vertical-align: top;\n",
              "    }\n",
              "\n",
              "    .dataframe thead th {\n",
              "        text-align: right;\n",
              "    }\n",
              "</style>\n",
              "<table border=\"1\" class=\"dataframe\">\n",
              "  <thead>\n",
              "    <tr style=\"text-align: right;\">\n",
              "      <th></th>\n",
              "      <th>Prediction</th>\n",
              "      <th>Target</th>\n",
              "      <th>Residual</th>\n",
              "      <th>Difference%</th>\n",
              "    </tr>\n",
              "  </thead>\n",
              "  <tbody>\n",
              "    <tr>\n",
              "      <th>count</th>\n",
              "      <td>386.000000</td>\n",
              "      <td>386.000000</td>\n",
              "      <td>386.000000</td>\n",
              "      <td>386.000000</td>\n",
              "    </tr>\n",
              "    <tr>\n",
              "      <th>mean</th>\n",
              "      <td>126622.939703</td>\n",
              "      <td>133343.782383</td>\n",
              "      <td>6720.842680</td>\n",
              "      <td>21.930900</td>\n",
              "    </tr>\n",
              "    <tr>\n",
              "      <th>std</th>\n",
              "      <td>72532.979690</td>\n",
              "      <td>103171.909749</td>\n",
              "      <td>55675.494563</td>\n",
              "      <td>21.289568</td>\n",
              "    </tr>\n",
              "    <tr>\n",
              "      <th>min</th>\n",
              "      <td>41141.710176</td>\n",
              "      <td>35000.000000</td>\n",
              "      <td>-139299.610779</td>\n",
              "      <td>0.119186</td>\n",
              "    </tr>\n",
              "    <tr>\n",
              "      <th>25%</th>\n",
              "      <td>77777.147011</td>\n",
              "      <td>75000.000000</td>\n",
              "      <td>-13680.815437</td>\n",
              "      <td>7.322048</td>\n",
              "    </tr>\n",
              "    <tr>\n",
              "      <th>50%</th>\n",
              "      <td>106842.621908</td>\n",
              "      <td>102000.000000</td>\n",
              "      <td>-1069.687634</td>\n",
              "      <td>16.141859</td>\n",
              "    </tr>\n",
              "    <tr>\n",
              "      <th>75%</th>\n",
              "      <td>153548.249376</td>\n",
              "      <td>150000.000000</td>\n",
              "      <td>17024.653962</td>\n",
              "      <td>28.578508</td>\n",
              "    </tr>\n",
              "    <tr>\n",
              "      <th>max</th>\n",
              "      <td>446527.791040</td>\n",
              "      <td>650000.000000</td>\n",
              "      <td>351169.064471</td>\n",
              "      <td>146.631169</td>\n",
              "    </tr>\n",
              "  </tbody>\n",
              "</table>\n",
              "</div>"
            ],
            "text/plain": [
              "          Prediction         Target       Residual  Difference%\n",
              "count     386.000000     386.000000     386.000000   386.000000\n",
              "mean   126622.939703  133343.782383    6720.842680    21.930900\n",
              "std     72532.979690  103171.909749   55675.494563    21.289568\n",
              "min     41141.710176   35000.000000 -139299.610779     0.119186\n",
              "25%     77777.147011   75000.000000  -13680.815437     7.322048\n",
              "50%    106842.621908  102000.000000   -1069.687634    16.141859\n",
              "75%    153548.249376  150000.000000   17024.653962    28.578508\n",
              "max    446527.791040  650000.000000  351169.064471   146.631169"
            ]
          },
          "metadata": {
            "tags": []
          },
          "execution_count": 216
        }
      ]
    },
    {
      "cell_type": "code",
      "metadata": {
        "id": "penNFGN948nQ",
        "colab_type": "code",
        "colab": {
          "base_uri": "https://localhost:8080/",
          "height": 419
        },
        "outputId": "7d7d31b2-fdfc-4c6b-bcec-6696c77d708c"
      },
      "source": [
        "df_performance.sort_values(by=['Difference%'])"
      ],
      "execution_count": 217,
      "outputs": [
        {
          "output_type": "execute_result",
          "data": {
            "text/html": [
              "<div>\n",
              "<style scoped>\n",
              "    .dataframe tbody tr th:only-of-type {\n",
              "        vertical-align: middle;\n",
              "    }\n",
              "\n",
              "    .dataframe tbody tr th {\n",
              "        vertical-align: top;\n",
              "    }\n",
              "\n",
              "    .dataframe thead th {\n",
              "        text-align: right;\n",
              "    }\n",
              "</style>\n",
              "<table border=\"1\" class=\"dataframe\">\n",
              "  <thead>\n",
              "    <tr style=\"text-align: right;\">\n",
              "      <th></th>\n",
              "      <th>Prediction</th>\n",
              "      <th>Target</th>\n",
              "      <th>Residual</th>\n",
              "      <th>Difference%</th>\n",
              "    </tr>\n",
              "  </thead>\n",
              "  <tbody>\n",
              "    <tr>\n",
              "      <th>37</th>\n",
              "      <td>91890.348733</td>\n",
              "      <td>92000.0</td>\n",
              "      <td>109.651267</td>\n",
              "      <td>0.119186</td>\n",
              "    </tr>\n",
              "    <tr>\n",
              "      <th>97</th>\n",
              "      <td>88368.466500</td>\n",
              "      <td>88200.0</td>\n",
              "      <td>-168.466500</td>\n",
              "      <td>0.191005</td>\n",
              "    </tr>\n",
              "    <tr>\n",
              "      <th>146</th>\n",
              "      <td>82222.067048</td>\n",
              "      <td>82000.0</td>\n",
              "      <td>-222.067048</td>\n",
              "      <td>0.270813</td>\n",
              "    </tr>\n",
              "    <tr>\n",
              "      <th>204</th>\n",
              "      <td>163561.793876</td>\n",
              "      <td>163000.0</td>\n",
              "      <td>-561.793876</td>\n",
              "      <td>0.344659</td>\n",
              "    </tr>\n",
              "    <tr>\n",
              "      <th>339</th>\n",
              "      <td>149431.409665</td>\n",
              "      <td>150000.0</td>\n",
              "      <td>568.590335</td>\n",
              "      <td>0.379060</td>\n",
              "    </tr>\n",
              "    <tr>\n",
              "      <th>...</th>\n",
              "      <td>...</td>\n",
              "      <td>...</td>\n",
              "      <td>...</td>\n",
              "      <td>...</td>\n",
              "    </tr>\n",
              "    <tr>\n",
              "      <th>79</th>\n",
              "      <td>144817.903629</td>\n",
              "      <td>75000.0</td>\n",
              "      <td>-69817.903629</td>\n",
              "      <td>93.090538</td>\n",
              "    </tr>\n",
              "    <tr>\n",
              "      <th>171</th>\n",
              "      <td>211914.011640</td>\n",
              "      <td>105000.0</td>\n",
              "      <td>-106914.011640</td>\n",
              "      <td>101.822868</td>\n",
              "    </tr>\n",
              "    <tr>\n",
              "      <th>190</th>\n",
              "      <td>254627.610160</td>\n",
              "      <td>120000.0</td>\n",
              "      <td>-134627.610160</td>\n",
              "      <td>112.189675</td>\n",
              "    </tr>\n",
              "    <tr>\n",
              "      <th>326</th>\n",
              "      <td>200361.907257</td>\n",
              "      <td>85000.0</td>\n",
              "      <td>-115361.907257</td>\n",
              "      <td>135.719891</td>\n",
              "    </tr>\n",
              "    <tr>\n",
              "      <th>90</th>\n",
              "      <td>234299.610779</td>\n",
              "      <td>95000.0</td>\n",
              "      <td>-139299.610779</td>\n",
              "      <td>146.631169</td>\n",
              "    </tr>\n",
              "  </tbody>\n",
              "</table>\n",
              "<p>386 rows × 4 columns</p>\n",
              "</div>"
            ],
            "text/plain": [
              "        Prediction    Target       Residual  Difference%\n",
              "37    91890.348733   92000.0     109.651267     0.119186\n",
              "97    88368.466500   88200.0    -168.466500     0.191005\n",
              "146   82222.067048   82000.0    -222.067048     0.270813\n",
              "204  163561.793876  163000.0    -561.793876     0.344659\n",
              "339  149431.409665  150000.0     568.590335     0.379060\n",
              "..             ...       ...            ...          ...\n",
              "79   144817.903629   75000.0  -69817.903629    93.090538\n",
              "171  211914.011640  105000.0 -106914.011640   101.822868\n",
              "190  254627.610160  120000.0 -134627.610160   112.189675\n",
              "326  200361.907257   85000.0 -115361.907257   135.719891\n",
              "90   234299.610779   95000.0 -139299.610779   146.631169\n",
              "\n",
              "[386 rows x 4 columns]"
            ]
          },
          "metadata": {
            "tags": []
          },
          "execution_count": 217
        }
      ]
    }
  ]
}