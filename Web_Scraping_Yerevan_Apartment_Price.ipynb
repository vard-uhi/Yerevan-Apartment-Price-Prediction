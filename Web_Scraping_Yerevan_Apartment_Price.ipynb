{
  "nbformat": 4,
  "nbformat_minor": 0,
  "metadata": {
    "colab": {
      "name": "Web_Scraping_Yerevan_Apartment_Price.ipynb",
      "provenance": [],
      "collapsed_sections": [],
      "authorship_tag": "ABX9TyMYw1VoCyKnwJWB+ssVrYZy",
      "include_colab_link": true
    },
    "kernelspec": {
      "name": "python3",
      "display_name": "Python 3"
    }
  },
  "cells": [
    {
      "cell_type": "markdown",
      "metadata": {
        "id": "view-in-github",
        "colab_type": "text"
      },
      "source": [
        "<a href=\"https://colab.research.google.com/github/vard-uhi/Yerevan-Apartment-Price-Prediction/blob/master/Web_Scraping_Yerevan_Apartment_Price.ipynb\" target=\"_parent\"><img src=\"https://colab.research.google.com/assets/colab-badge.svg\" alt=\"Open In Colab\"/></a>"
      ]
    },
    {
      "cell_type": "markdown",
      "metadata": {
        "id": "96o_oKyH0FTR",
        "colab_type": "text"
      },
      "source": [
        "**Web Scrapping of www.akcern.am real estate company's web page for further analysis as an apartment price prediction dataset**\n"
      ]
    },
    {
      "cell_type": "markdown",
      "metadata": {
        "id": "VREx9Pf2DBi5",
        "colab_type": "text"
      },
      "source": [
        "***Getting all links***"
      ]
    },
    {
      "cell_type": "code",
      "metadata": {
        "id": "zqsN4CrEBjgE",
        "colab_type": "code",
        "colab": {}
      },
      "source": [
        "import pandas as pd\n",
        "import requests\n",
        "from bs4 import BeautifulSoup\n",
        "import time\n",
        "import csv\n",
        "import more_itertools\n"
      ],
      "execution_count": null,
      "outputs": []
    },
    {
      "cell_type": "code",
      "metadata": {
        "id": "kE8PjIQ1KNHH",
        "colab_type": "code",
        "colab": {}
      },
      "source": [
        "#getting all pages\n",
        "links=[f'https://akcern.am/en/realty/search-{i}.html?type=sale&property_type%5B1%5D=1&street=&from_floor=&to_floor=&from_price=&to_price=&rate=USD&from_area=&to_area=&code=&vidocode=' for i in range(1,176)]"
      ],
      "execution_count": null,
      "outputs": []
    },
    {
      "cell_type": "code",
      "metadata": {
        "id": "SyugysMRKTKQ",
        "colab_type": "code",
        "colab": {}
      },
      "source": [
        "#getting each apartment link from every page\n",
        "def get_apartment_links(url):\n",
        "    response = requests.get(url)\n",
        "    time.sleep(4)\n",
        "    response = response.text\n",
        "    page = BeautifulSoup(response, \"html.parser\")\n",
        "\n",
        "    try:\n",
        "        links = page.find_all('a', class_='address')\n",
        "    except:\n",
        "        links = []\n",
        "\n",
        "    urls = ['https://akcern.am' + item.get('href') for item in links]\n",
        "    \n",
        "    return urls"
      ],
      "execution_count": null,
      "outputs": []
    },
    {
      "cell_type": "code",
      "metadata": {
        "id": "DojoO7EQKnWi",
        "colab_type": "code",
        "colab": {}
      },
      "source": [
        "#here we are making list of the list of each page, with respective individual links\n",
        "all_apartment_links = [get_apartment_links(i) for i in links]"
      ],
      "execution_count": null,
      "outputs": []
    },
    {
      "cell_type": "code",
      "metadata": {
        "id": "LaLiW1ZWOUAn",
        "colab_type": "code",
        "colab": {
          "base_uri": "https://localhost:8080/",
          "height": 527
        },
        "outputId": "0f6d7040-ceef-43d9-846e-5390d1bb1d7b"
      },
      "source": [
        "all_apartment_links"
      ],
      "execution_count": null,
      "outputs": [
        {
          "output_type": "execute_result",
          "data": {
            "text/plain": [
              "[['https://akcern.am/en/realty/sale/73374.html',\n",
              "  'https://akcern.am/en/realty/sale/73375.html',\n",
              "  'https://akcern.am/en/realty/sale/73376.html',\n",
              "  'https://akcern.am/en/realty/sale/73377.html',\n",
              "  'https://akcern.am/en/realty/sale/73378.html',\n",
              "  'https://akcern.am/en/realty/sale/73384.html',\n",
              "  'https://akcern.am/en/realty/sale/73386.html',\n",
              "  'https://akcern.am/en/realty/sale/73390.html',\n",
              "  'https://akcern.am/en/realty/sale/73391.html',\n",
              "  'https://akcern.am/en/realty/sale/73392.html',\n",
              "  'https://akcern.am/en/realty/sale/73394.html',\n",
              "  'https://akcern.am/en/realty/sale/73397.html',\n",
              "  'https://akcern.am/en/realty/sale/73403.html',\n",
              "  'https://akcern.am/en/realty/sale/73415.html',\n",
              "  'https://akcern.am/en/realty/sale/73416.html'],\n",
              " ['https://akcern.am/en/realty/sale/73417.html',\n",
              "  'https://akcern.am/en/realty/sale/73418.html',\n",
              "  'https://akcern.am/en/realty/sale/73420.html',\n",
              "  'https://akcern.am/en/realty/sale/73421.html',\n",
              "  'https://akcern.am/en/realty/sale/73423.html',\n",
              "  'https://akcern.am/en/realty/sale/73424.html',\n",
              "  'https://akcern.am/en/realty/sale/73425.html',\n",
              "  'https://akcern.am/en/realty/sale/73426.html',\n",
              "  'https://akcern.am/en/realty/sale/73427.html',\n",
              "  'https://akcern.am/en/realty/sale/73428.html',\n",
              "  'https://akcern.am/en/realty/sale/73429.html',\n",
              "  'https://akcern.am/en/realty/sale/73430.html',\n",
              "  'https://akcern.am/en/realty/sale/73431.html',\n",
              "  'https://akcern.am/en/realty/sale/73432.html',\n",
              "  'https://akcern.am/en/realty/sale/73433.html']]"
            ]
          },
          "metadata": {
            "tags": []
          },
          "execution_count": 27
        }
      ]
    },
    {
      "cell_type": "code",
      "metadata": {
        "id": "tspDy0HdRGw5",
        "colab_type": "code",
        "colab": {}
      },
      "source": [
        "#making list of the lists as a genaral, one list\n",
        "all_apartment_links = list(more_itertools.collapse(all_apartment_links))"
      ],
      "execution_count": null,
      "outputs": []
    },
    {
      "cell_type": "code",
      "metadata": {
        "id": "6VhxfjdMRSDo",
        "colab_type": "code",
        "colab": {
          "base_uri": "https://localhost:8080/",
          "height": 527
        },
        "outputId": "a7cfdb80-b4ec-4bd2-ff7b-11f487c5fe0f"
      },
      "source": [
        "all_apartment_links"
      ],
      "execution_count": null,
      "outputs": [
        {
          "output_type": "execute_result",
          "data": {
            "text/plain": [
              "['https://akcern.am/en/realty/sale/73374.html',\n",
              " 'https://akcern.am/en/realty/sale/73375.html',\n",
              " 'https://akcern.am/en/realty/sale/73376.html',\n",
              " 'https://akcern.am/en/realty/sale/73377.html',\n",
              " 'https://akcern.am/en/realty/sale/73378.html',\n",
              " 'https://akcern.am/en/realty/sale/73384.html',\n",
              " 'https://akcern.am/en/realty/sale/73386.html',\n",
              " 'https://akcern.am/en/realty/sale/73390.html',\n",
              " 'https://akcern.am/en/realty/sale/73391.html',\n",
              " 'https://akcern.am/en/realty/sale/73392.html',\n",
              " 'https://akcern.am/en/realty/sale/73394.html',\n",
              " 'https://akcern.am/en/realty/sale/73397.html',\n",
              " 'https://akcern.am/en/realty/sale/73403.html',\n",
              " 'https://akcern.am/en/realty/sale/73415.html',\n",
              " 'https://akcern.am/en/realty/sale/73416.html',\n",
              " 'https://akcern.am/en/realty/sale/73417.html',\n",
              " 'https://akcern.am/en/realty/sale/73418.html',\n",
              " 'https://akcern.am/en/realty/sale/73420.html',\n",
              " 'https://akcern.am/en/realty/sale/73421.html',\n",
              " 'https://akcern.am/en/realty/sale/73423.html',\n",
              " 'https://akcern.am/en/realty/sale/73424.html',\n",
              " 'https://akcern.am/en/realty/sale/73425.html',\n",
              " 'https://akcern.am/en/realty/sale/73426.html',\n",
              " 'https://akcern.am/en/realty/sale/73427.html',\n",
              " 'https://akcern.am/en/realty/sale/73428.html',\n",
              " 'https://akcern.am/en/realty/sale/73429.html',\n",
              " 'https://akcern.am/en/realty/sale/73430.html',\n",
              " 'https://akcern.am/en/realty/sale/73431.html',\n",
              " 'https://akcern.am/en/realty/sale/73432.html',\n",
              " 'https://akcern.am/en/realty/sale/73433.html']"
            ]
          },
          "metadata": {
            "tags": []
          },
          "execution_count": 29
        }
      ]
    },
    {
      "cell_type": "markdown",
      "metadata": {
        "id": "MEOK12exD-Wf",
        "colab_type": "text"
      },
      "source": [
        "***Defining all interested features***"
      ]
    },
    {
      "cell_type": "code",
      "metadata": {
        "id": "a0hDzYjHRh6K",
        "colab_type": "code",
        "colab": {}
      },
      "source": [
        "#function to get all interested features from the description of apartments\n",
        "def get_all_features(url):\n",
        "    \n",
        "    response = requests.get(url)\n",
        "    time = 4\n",
        "    page = response.text\n",
        "    page = BeautifulSoup(page, \"html.parser\")\n",
        "\n",
        "    title = page.find('span', class_='desc col-xs-12 col-sm-12 col-md-12 col-lg-12').get_text()\n",
        "    p = page.find('span', id='price_count').text.strip()\n",
        "    price, currency = p.split(' ')   \n",
        "    total_area = page.find(\"span\", title =\"Total area\").get_text()\n",
        "    room_count = page.find('span', title = 'Count of rooms').get_text()\n",
        "    flour = page.find('span', title = 'Floor').get_text()\n",
        "    condition = page.find('span', title = 'Condition').text.strip().split(' ')[-1]\n",
        "    building_type = page.find('span', title = 'Building type').text.strip().split(' ')[-2:]\n",
        "    balcony_type = page.find('span', title = 'balcony_label').text.strip().split(' ')[-1]\n",
        "   \n",
        "    return title, price, currency, total_area, room_count, flour, condition, building_type, balcony_type"
      ],
      "execution_count": null,
      "outputs": []
    },
    {
      "cell_type": "markdown",
      "metadata": {
        "id": "QNbzwzk3Ft4T",
        "colab_type": "text"
      },
      "source": [
        "***Getting data and storing as Dataframe***"
      ]
    },
    {
      "cell_type": "code",
      "metadata": {
        "id": "wHtbpHd9hQUu",
        "colab_type": "code",
        "colab": {}
      },
      "source": [
        "#iterate over all links, get mentioned features and store them in the list\n",
        "apartment_scraped_data = []\n",
        "for i in all_apartment_links:\n",
        "    try:\n",
        "        all_data = get_all_features(i)\n",
        "    except:\n",
        "        continue\n",
        "    apartment_scraped_data.append(all_data)"
      ],
      "execution_count": null,
      "outputs": []
    },
    {
      "cell_type": "code",
      "metadata": {
        "id": "-SPOxLaLTp7o",
        "colab_type": "code",
        "colab": {}
      },
      "source": [
        "#create DataFrame from the list\n",
        "apartment_scraped_data = pd.DataFrame(apartment_scraped_data ,columns=[\"title\", \"price\", \"currency\", \"total_area\", \"room_count\", \"flour\", \"condition\", \"building_type\", \"balcony_type\"])"
      ],
      "execution_count": null,
      "outputs": []
    },
    {
      "cell_type": "code",
      "metadata": {
        "id": "Te7jM5AsUfdt",
        "colab_type": "code",
        "colab": {
          "base_uri": "https://localhost:8080/",
          "height": 979
        },
        "outputId": "f0e2e516-c6c3-4cf3-edf7-464bf7ebefac"
      },
      "source": [
        "#print first 30 rows to see the result\n",
        "apartment_scraped_data.head(30)"
      ],
      "execution_count": null,
      "outputs": [
        {
          "output_type": "execute_result",
          "data": {
            "text/html": [
              "<div>\n",
              "<style scoped>\n",
              "    .dataframe tbody tr th:only-of-type {\n",
              "        vertical-align: middle;\n",
              "    }\n",
              "\n",
              "    .dataframe tbody tr th {\n",
              "        vertical-align: top;\n",
              "    }\n",
              "\n",
              "    .dataframe thead th {\n",
              "        text-align: right;\n",
              "    }\n",
              "</style>\n",
              "<table border=\"1\" class=\"dataframe\">\n",
              "  <thead>\n",
              "    <tr style=\"text-align: right;\">\n",
              "      <th></th>\n",
              "      <th>title</th>\n",
              "      <th>price</th>\n",
              "      <th>currency</th>\n",
              "      <th>total_area</th>\n",
              "      <th>room_count</th>\n",
              "      <th>flour</th>\n",
              "      <th>condition</th>\n",
              "      <th>building_type</th>\n",
              "      <th>balcony_type</th>\n",
              "    </tr>\n",
              "  </thead>\n",
              "  <tbody>\n",
              "    <tr>\n",
              "      <th>0</th>\n",
              "      <td>For sale Apartment on Artsakh in Erebuni</td>\n",
              "      <td>52,000</td>\n",
              "      <td>USD</td>\n",
              "      <td>66 m2</td>\n",
              "      <td>Count of rooms 2</td>\n",
              "      <td>Floor 4</td>\n",
              "      <td>repair</td>\n",
              "      <td>[type, High-rise]</td>\n",
              "      <td>Large</td>\n",
              "    </tr>\n",
              "    <tr>\n",
              "      <th>1</th>\n",
              "      <td>For sale Apartment on Jrashat in Downtown</td>\n",
              "      <td>130,000</td>\n",
              "      <td>USD</td>\n",
              "      <td>90 m2</td>\n",
              "      <td>Count of rooms 3</td>\n",
              "      <td>Floor 2</td>\n",
              "      <td>repair</td>\n",
              "      <td>[type, Stone]</td>\n",
              "      <td>Large</td>\n",
              "    </tr>\n",
              "    <tr>\n",
              "      <th>2</th>\n",
              "      <td>For sale Apartment on Y.Koghbatsi in Downtown</td>\n",
              "      <td>80,000</td>\n",
              "      <td>USD</td>\n",
              "      <td>42 m2</td>\n",
              "      <td>Count of rooms 1</td>\n",
              "      <td>Floor 3</td>\n",
              "      <td>Repairing</td>\n",
              "      <td>[type, High-rise]</td>\n",
              "      <td>Large</td>\n",
              "    </tr>\n",
              "    <tr>\n",
              "      <th>3</th>\n",
              "      <td>For sale Apartment on Khorenatsi in Downtown</td>\n",
              "      <td>55,000</td>\n",
              "      <td>USD</td>\n",
              "      <td>37 m2</td>\n",
              "      <td>Count of rooms 1</td>\n",
              "      <td>Floor 9</td>\n",
              "      <td>3-5y</td>\n",
              "      <td>[type, High-rise]</td>\n",
              "      <td>Lodgia</td>\n",
              "    </tr>\n",
              "    <tr>\n",
              "      <th>4</th>\n",
              "      <td>For sale Apartment on Lvovyan in Nor Nork</td>\n",
              "      <td>47,000</td>\n",
              "      <td>USD</td>\n",
              "      <td>63 m2</td>\n",
              "      <td>Count of rooms 2</td>\n",
              "      <td>Floor 8</td>\n",
              "      <td>repair</td>\n",
              "      <td>[type, High-rise]</td>\n",
              "      <td>Large</td>\n",
              "    </tr>\n",
              "    <tr>\n",
              "      <th>5</th>\n",
              "      <td>For sale Apartment on Erebuni in Erebuni</td>\n",
              "      <td>30,000</td>\n",
              "      <td>USD</td>\n",
              "      <td>30 m2</td>\n",
              "      <td>Count of rooms 1</td>\n",
              "      <td>Floor 5</td>\n",
              "      <td>Original</td>\n",
              "      <td>[type, Stone]</td>\n",
              "      <td>Front</td>\n",
              "    </tr>\n",
              "    <tr>\n",
              "      <th>6</th>\n",
              "      <td>For sale Apartment on Davtashen 1 district in ...</td>\n",
              "      <td>82,000</td>\n",
              "      <td>USD</td>\n",
              "      <td>97 m2</td>\n",
              "      <td>Count of rooms 3</td>\n",
              "      <td>Floor 4</td>\n",
              "      <td>Repairing</td>\n",
              "      <td>[type, High-rise]</td>\n",
              "      <td>Large</td>\n",
              "    </tr>\n",
              "    <tr>\n",
              "      <th>7</th>\n",
              "      <td>For sale Apartment on Nar Dos in Downtown</td>\n",
              "      <td>80,000</td>\n",
              "      <td>USD</td>\n",
              "      <td>88 m2</td>\n",
              "      <td>Count of rooms 3</td>\n",
              "      <td>Floor Б</td>\n",
              "      <td>repair</td>\n",
              "      <td>[type, High-rise]</td>\n",
              "      <td>Lodgia</td>\n",
              "    </tr>\n",
              "    <tr>\n",
              "      <th>8</th>\n",
              "      <td>For sale Apartment on Leninakan in Ajapnyak</td>\n",
              "      <td>43,000</td>\n",
              "      <td>USD</td>\n",
              "      <td>43 m2</td>\n",
              "      <td>Count of rooms 1</td>\n",
              "      <td>Floor 2</td>\n",
              "      <td>2y.</td>\n",
              "      <td>[type, Khrushchev(2,75м)]</td>\n",
              "      <td>Large</td>\n",
              "    </tr>\n",
              "    <tr>\n",
              "      <th>9</th>\n",
              "      <td>For sale Apartment on Avan Charents in Avan</td>\n",
              "      <td>65,000</td>\n",
              "      <td>USD</td>\n",
              "      <td>82 m2</td>\n",
              "      <td>Count of rooms 3</td>\n",
              "      <td>Floor 5</td>\n",
              "      <td>repair</td>\n",
              "      <td>[type, High-rise]</td>\n",
              "      <td>Large</td>\n",
              "    </tr>\n",
              "    <tr>\n",
              "      <th>10</th>\n",
              "      <td>For sale Apartment on Charents in Downtown</td>\n",
              "      <td>105,000</td>\n",
              "      <td>USD</td>\n",
              "      <td>105 m2</td>\n",
              "      <td>Count of rooms 4</td>\n",
              "      <td>Floor 3</td>\n",
              "      <td>repair</td>\n",
              "      <td>[type, Stone]</td>\n",
              "      <td>Large</td>\n",
              "    </tr>\n",
              "    <tr>\n",
              "      <th>11</th>\n",
              "      <td>For sale Apartment on Israyelian in Downtown</td>\n",
              "      <td>190,000</td>\n",
              "      <td>USD</td>\n",
              "      <td>76 m2</td>\n",
              "      <td>Count of rooms 3</td>\n",
              "      <td>Floor 5</td>\n",
              "      <td>repairs</td>\n",
              "      <td>[type, High-rise]</td>\n",
              "      <td>Lodgia</td>\n",
              "    </tr>\n",
              "    <tr>\n",
              "      <th>12</th>\n",
              "      <td>For sale Apartment in Arabkir</td>\n",
              "      <td>49,500</td>\n",
              "      <td>USD</td>\n",
              "      <td>41 m2</td>\n",
              "      <td>Count of rooms 2</td>\n",
              "      <td>Floor 1</td>\n",
              "      <td>Repairing</td>\n",
              "      <td>[New, building]</td>\n",
              "      <td>Front</td>\n",
              "    </tr>\n",
              "    <tr>\n",
              "      <th>13</th>\n",
              "      <td>For sale Apartment in Arabkir</td>\n",
              "      <td>63,000</td>\n",
              "      <td>USD</td>\n",
              "      <td>52 m2</td>\n",
              "      <td>Count of rooms 2</td>\n",
              "      <td>Floor 2</td>\n",
              "      <td>Repairing</td>\n",
              "      <td>[New, building]</td>\n",
              "      <td>French</td>\n",
              "    </tr>\n",
              "    <tr>\n",
              "      <th>14</th>\n",
              "      <td>For sale Apartment in Arabkir</td>\n",
              "      <td>49,000</td>\n",
              "      <td>USD</td>\n",
              "      <td>41 m2</td>\n",
              "      <td>Count of rooms 2</td>\n",
              "      <td>Floor 2</td>\n",
              "      <td>Repairing</td>\n",
              "      <td>[New, building]</td>\n",
              "      <td>French</td>\n",
              "    </tr>\n",
              "    <tr>\n",
              "      <th>15</th>\n",
              "      <td>For sale Apartment in Arabkir</td>\n",
              "      <td>54,000</td>\n",
              "      <td>USD</td>\n",
              "      <td>43 m2</td>\n",
              "      <td>Count of rooms 2</td>\n",
              "      <td>Floor 3</td>\n",
              "      <td>Repairing</td>\n",
              "      <td>[New, building]</td>\n",
              "      <td>French</td>\n",
              "    </tr>\n",
              "    <tr>\n",
              "      <th>16</th>\n",
              "      <td>For sale Apartment in Arabkir</td>\n",
              "      <td>56,000</td>\n",
              "      <td>USD</td>\n",
              "      <td>43 m2</td>\n",
              "      <td>Count of rooms 2</td>\n",
              "      <td>Floor 4</td>\n",
              "      <td>Repairing</td>\n",
              "      <td>[New, building]</td>\n",
              "      <td>French</td>\n",
              "    </tr>\n",
              "    <tr>\n",
              "      <th>17</th>\n",
              "      <td>For sale Apartment in Arabkir</td>\n",
              "      <td>58,000</td>\n",
              "      <td>USD</td>\n",
              "      <td>43 m2</td>\n",
              "      <td>Count of rooms 2</td>\n",
              "      <td>Floor 5</td>\n",
              "      <td>Repairing</td>\n",
              "      <td>[New, building]</td>\n",
              "      <td>French</td>\n",
              "    </tr>\n",
              "    <tr>\n",
              "      <th>18</th>\n",
              "      <td>For sale Apartment in Arabkir</td>\n",
              "      <td>73,000</td>\n",
              "      <td>USD</td>\n",
              "      <td>52 m2</td>\n",
              "      <td>Count of rooms 2</td>\n",
              "      <td>Floor 6</td>\n",
              "      <td>Repairing</td>\n",
              "      <td>[New, building]</td>\n",
              "      <td>French</td>\n",
              "    </tr>\n",
              "    <tr>\n",
              "      <th>19</th>\n",
              "      <td>For sale Apartment in Arabkir</td>\n",
              "      <td>60,000</td>\n",
              "      <td>USD</td>\n",
              "      <td>43 m2</td>\n",
              "      <td>Count of rooms 2</td>\n",
              "      <td>Floor 6</td>\n",
              "      <td>Repairing</td>\n",
              "      <td>[New, building]</td>\n",
              "      <td>French</td>\n",
              "    </tr>\n",
              "    <tr>\n",
              "      <th>20</th>\n",
              "      <td>For sale Apartment in Arabkir</td>\n",
              "      <td>62,500</td>\n",
              "      <td>USD</td>\n",
              "      <td>43 m2</td>\n",
              "      <td>Count of rooms 2</td>\n",
              "      <td>Floor 7</td>\n",
              "      <td>Repairing</td>\n",
              "      <td>[New, building]</td>\n",
              "      <td>French</td>\n",
              "    </tr>\n",
              "    <tr>\n",
              "      <th>21</th>\n",
              "      <td>For sale Apartment in Arabkir</td>\n",
              "      <td>101,000</td>\n",
              "      <td>USD</td>\n",
              "      <td>84 m2</td>\n",
              "      <td>Count of rooms 3</td>\n",
              "      <td>Floor 2</td>\n",
              "      <td>Repairing</td>\n",
              "      <td>[New, building]</td>\n",
              "      <td>Lodgia</td>\n",
              "    </tr>\n",
              "    <tr>\n",
              "      <th>22</th>\n",
              "      <td>For sale Apartment in Arabkir</td>\n",
              "      <td>110,000</td>\n",
              "      <td>USD</td>\n",
              "      <td>84 m2</td>\n",
              "      <td>Count of rooms 3</td>\n",
              "      <td>Floor 4</td>\n",
              "      <td>Repairing</td>\n",
              "      <td>[New, building]</td>\n",
              "      <td>Lodgia</td>\n",
              "    </tr>\n",
              "    <tr>\n",
              "      <th>23</th>\n",
              "      <td>For sale Apartment in Arabkir</td>\n",
              "      <td>122,000</td>\n",
              "      <td>USD</td>\n",
              "      <td>84 m2</td>\n",
              "      <td>Count of rooms 3</td>\n",
              "      <td>Floor 7</td>\n",
              "      <td>Repairing</td>\n",
              "      <td>[New, building]</td>\n",
              "      <td>Lodgia</td>\n",
              "    </tr>\n",
              "    <tr>\n",
              "      <th>24</th>\n",
              "      <td>For sale Apartment in Arabkir</td>\n",
              "      <td>195,000</td>\n",
              "      <td>USD</td>\n",
              "      <td>130 m2</td>\n",
              "      <td>Count of rooms 3</td>\n",
              "      <td>Floor 8</td>\n",
              "      <td>Repairing</td>\n",
              "      <td>[New, building]</td>\n",
              "      <td>Lodgia</td>\n",
              "    </tr>\n",
              "    <tr>\n",
              "      <th>25</th>\n",
              "      <td>For sale Apartment in Arabkir</td>\n",
              "      <td>160,000</td>\n",
              "      <td>USD</td>\n",
              "      <td>133 m2</td>\n",
              "      <td>Count of rooms 4</td>\n",
              "      <td>Floor 2</td>\n",
              "      <td>Repairing</td>\n",
              "      <td>[New, building]</td>\n",
              "      <td>Lodgia</td>\n",
              "    </tr>\n",
              "    <tr>\n",
              "      <th>26</th>\n",
              "      <td>For sale Apartment in Arabkir</td>\n",
              "      <td>168,000</td>\n",
              "      <td>USD</td>\n",
              "      <td>134 m2</td>\n",
              "      <td>Count of rooms 4</td>\n",
              "      <td>Floor 3</td>\n",
              "      <td>Repairing</td>\n",
              "      <td>[New, building]</td>\n",
              "      <td>Lodgia</td>\n",
              "    </tr>\n",
              "    <tr>\n",
              "      <th>27</th>\n",
              "      <td>For sale Apartment in Arabkir</td>\n",
              "      <td>175,000</td>\n",
              "      <td>USD</td>\n",
              "      <td>134 m2</td>\n",
              "      <td>Count of rooms 4</td>\n",
              "      <td>Floor 4</td>\n",
              "      <td>Repairing</td>\n",
              "      <td>[New, building]</td>\n",
              "      <td>Lodgia</td>\n",
              "    </tr>\n",
              "    <tr>\n",
              "      <th>28</th>\n",
              "      <td>For sale Apartment in Arabkir</td>\n",
              "      <td>181,000</td>\n",
              "      <td>USD</td>\n",
              "      <td>134 m2</td>\n",
              "      <td>Count of rooms 4</td>\n",
              "      <td>Floor 5</td>\n",
              "      <td>Repairing</td>\n",
              "      <td>[New, building]</td>\n",
              "      <td>Lodgia</td>\n",
              "    </tr>\n",
              "    <tr>\n",
              "      <th>29</th>\n",
              "      <td>For sale Apartment in Arabkir</td>\n",
              "      <td>188,000</td>\n",
              "      <td>USD</td>\n",
              "      <td>134 m2</td>\n",
              "      <td>Count of rooms 4</td>\n",
              "      <td>Floor 6</td>\n",
              "      <td>Repairing</td>\n",
              "      <td>[New, building]</td>\n",
              "      <td>Lodgia</td>\n",
              "    </tr>\n",
              "  </tbody>\n",
              "</table>\n",
              "</div>"
            ],
            "text/plain": [
              "                                                title  ... balcony_type\n",
              "0            For sale Apartment on Artsakh in Erebuni  ...        Large\n",
              "1           For sale Apartment on Jrashat in Downtown  ...        Large\n",
              "2       For sale Apartment on Y.Koghbatsi in Downtown  ...        Large\n",
              "3        For sale Apartment on Khorenatsi in Downtown  ...       Lodgia\n",
              "4           For sale Apartment on Lvovyan in Nor Nork  ...        Large\n",
              "5            For sale Apartment on Erebuni in Erebuni  ...        Front\n",
              "6   For sale Apartment on Davtashen 1 district in ...  ...        Large\n",
              "7           For sale Apartment on Nar Dos in Downtown  ...       Lodgia\n",
              "8         For sale Apartment on Leninakan in Ajapnyak  ...        Large\n",
              "9         For sale Apartment on Avan Charents in Avan  ...        Large\n",
              "10         For sale Apartment on Charents in Downtown  ...        Large\n",
              "11       For sale Apartment on Israyelian in Downtown  ...       Lodgia\n",
              "12                      For sale Apartment in Arabkir  ...        Front\n",
              "13                      For sale Apartment in Arabkir  ...       French\n",
              "14                      For sale Apartment in Arabkir  ...       French\n",
              "15                      For sale Apartment in Arabkir  ...       French\n",
              "16                      For sale Apartment in Arabkir  ...       French\n",
              "17                      For sale Apartment in Arabkir  ...       French\n",
              "18                      For sale Apartment in Arabkir  ...       French\n",
              "19                      For sale Apartment in Arabkir  ...       French\n",
              "20                      For sale Apartment in Arabkir  ...       French\n",
              "21                      For sale Apartment in Arabkir  ...       Lodgia\n",
              "22                      For sale Apartment in Arabkir  ...       Lodgia\n",
              "23                      For sale Apartment in Arabkir  ...       Lodgia\n",
              "24                      For sale Apartment in Arabkir  ...       Lodgia\n",
              "25                      For sale Apartment in Arabkir  ...       Lodgia\n",
              "26                      For sale Apartment in Arabkir  ...       Lodgia\n",
              "27                      For sale Apartment in Arabkir  ...       Lodgia\n",
              "28                      For sale Apartment in Arabkir  ...       Lodgia\n",
              "29                      For sale Apartment in Arabkir  ...       Lodgia\n",
              "\n",
              "[30 rows x 9 columns]"
            ]
          },
          "metadata": {
            "tags": []
          },
          "execution_count": 45
        }
      ]
    },
    {
      "cell_type": "markdown",
      "metadata": {
        "id": "f5FlCWRWF8rx",
        "colab_type": "text"
      },
      "source": [
        "***Save as csv and Download***"
      ]
    },
    {
      "cell_type": "code",
      "metadata": {
        "id": "EpyAAV4dUiFW",
        "colab_type": "code",
        "colab": {
          "base_uri": "https://localhost:8080/",
          "height": 17
        },
        "outputId": "219e4c2e-5957-4da6-c8e6-403bf9e602a9"
      },
      "source": [
        "#save Dataframe to csv and download file for further analysis \n",
        "from google.colab import files\n",
        "apartment_scraped_data.to_csv('Yerevan_apartment_primary_data.csv', index=False) \n",
        "files.download('Yerevan_apartment_primary_data.csv')"
      ],
      "execution_count": null,
      "outputs": [
        {
          "output_type": "display_data",
          "data": {
            "application/javascript": [
              "\n",
              "    async function download(id, filename, size) {\n",
              "      if (!google.colab.kernel.accessAllowed) {\n",
              "        return;\n",
              "      }\n",
              "      const div = document.createElement('div');\n",
              "      const label = document.createElement('label');\n",
              "      label.textContent = `Downloading \"${filename}\": `;\n",
              "      div.appendChild(label);\n",
              "      const progress = document.createElement('progress');\n",
              "      progress.max = size;\n",
              "      div.appendChild(progress);\n",
              "      document.body.appendChild(div);\n",
              "\n",
              "      const buffers = [];\n",
              "      let downloaded = 0;\n",
              "\n",
              "      const channel = await google.colab.kernel.comms.open(id);\n",
              "      // Send a message to notify the kernel that we're ready.\n",
              "      channel.send({})\n",
              "\n",
              "      for await (const message of channel.messages) {\n",
              "        // Send a message to notify the kernel that we're ready.\n",
              "        channel.send({})\n",
              "        if (message.buffers) {\n",
              "          for (const buffer of message.buffers) {\n",
              "            buffers.push(buffer);\n",
              "            downloaded += buffer.byteLength;\n",
              "            progress.value = downloaded;\n",
              "          }\n",
              "        }\n",
              "      }\n",
              "      const blob = new Blob(buffers, {type: 'application/binary'});\n",
              "      const a = document.createElement('a');\n",
              "      a.href = window.URL.createObjectURL(blob);\n",
              "      a.download = filename;\n",
              "      div.appendChild(a);\n",
              "      a.click();\n",
              "      div.remove();\n",
              "    }\n",
              "  "
            ],
            "text/plain": [
              "<IPython.core.display.Javascript object>"
            ]
          },
          "metadata": {
            "tags": []
          }
        },
        {
          "output_type": "display_data",
          "data": {
            "application/javascript": [
              "download(\"download_a4724bef-2c46-44ba-981a-9695f70594a8\", \"Yerevan_apartment_primary_data.csv\", 252809)"
            ],
            "text/plain": [
              "<IPython.core.display.Javascript object>"
            ]
          },
          "metadata": {
            "tags": []
          }
        }
      ]
    }
  ]
}